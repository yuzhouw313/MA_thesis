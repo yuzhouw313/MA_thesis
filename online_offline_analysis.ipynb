{
 "cells": [
  {
   "cell_type": "code",
   "execution_count": 2,
   "metadata": {},
   "outputs": [
    {
     "name": "stderr",
     "output_type": "stream",
     "text": [
      "/Users/itsyuzhou/opt/anaconda3/lib/python3.9/site-packages/pandas/core/arrays/masked.py:60: UserWarning: Pandas requires version '1.3.6' or newer of 'bottleneck' (version '1.3.4' currently installed).\n",
      "  from pandas.core import (\n"
     ]
    }
   ],
   "source": [
    "import pandas as pd\n",
    "import numpy as np\n",
    "import matplotlib.pyplot as plt"
   ]
  },
  {
   "cell_type": "markdown",
   "metadata": {},
   "source": [
    "# Load and Visualize All Datasets"
   ]
  },
  {
   "cell_type": "markdown",
   "metadata": {},
   "source": [
    "### FBI Hate Crime"
   ]
  },
  {
   "cell_type": "code",
   "execution_count": 9,
   "metadata": {},
   "outputs": [
    {
     "data": {
      "text/html": [
       "<div>\n",
       "<style scoped>\n",
       "    .dataframe tbody tr th:only-of-type {\n",
       "        vertical-align: middle;\n",
       "    }\n",
       "\n",
       "    .dataframe tbody tr th {\n",
       "        vertical-align: top;\n",
       "    }\n",
       "\n",
       "    .dataframe thead th {\n",
       "        text-align: right;\n",
       "    }\n",
       "</style>\n",
       "<table border=\"1\" class=\"dataframe\">\n",
       "  <thead>\n",
       "    <tr style=\"text-align: right;\">\n",
       "      <th></th>\n",
       "      <th>incident_id</th>\n",
       "      <th>data_year</th>\n",
       "      <th>ori</th>\n",
       "      <th>pug_agency_name</th>\n",
       "      <th>pub_agency_unit</th>\n",
       "      <th>agency_type_name</th>\n",
       "      <th>state_abbr</th>\n",
       "      <th>state_name</th>\n",
       "      <th>division_name</th>\n",
       "      <th>region_name</th>\n",
       "      <th>...</th>\n",
       "      <th>offender_race</th>\n",
       "      <th>offender_ethnicity</th>\n",
       "      <th>victim_count</th>\n",
       "      <th>offense_name</th>\n",
       "      <th>total_individual_victims</th>\n",
       "      <th>location_name</th>\n",
       "      <th>bias_desc</th>\n",
       "      <th>victim_types</th>\n",
       "      <th>multiple_offense</th>\n",
       "      <th>multiple_bias</th>\n",
       "    </tr>\n",
       "  </thead>\n",
       "  <tbody>\n",
       "    <tr>\n",
       "      <th>0</th>\n",
       "      <td>864279</td>\n",
       "      <td>2020</td>\n",
       "      <td>AK0010100</td>\n",
       "      <td>Anchorage</td>\n",
       "      <td>NaN</td>\n",
       "      <td>City</td>\n",
       "      <td>AK</td>\n",
       "      <td>Alaska</td>\n",
       "      <td>Pacific</td>\n",
       "      <td>West</td>\n",
       "      <td>...</td>\n",
       "      <td>Unknown</td>\n",
       "      <td>Unknown</td>\n",
       "      <td>2</td>\n",
       "      <td>Arson;Burglary/Breaking &amp; Entering</td>\n",
       "      <td>NaN</td>\n",
       "      <td>Church/Synagogue/Temple/Mosque</td>\n",
       "      <td>Anti-Other Christian</td>\n",
       "      <td>Religious Organization</td>\n",
       "      <td>M</td>\n",
       "      <td>S</td>\n",
       "    </tr>\n",
       "    <tr>\n",
       "      <th>1</th>\n",
       "      <td>893434</td>\n",
       "      <td>2020</td>\n",
       "      <td>AK0010200</td>\n",
       "      <td>Fairbanks</td>\n",
       "      <td>NaN</td>\n",
       "      <td>City</td>\n",
       "      <td>AK</td>\n",
       "      <td>Alaska</td>\n",
       "      <td>Pacific</td>\n",
       "      <td>West</td>\n",
       "      <td>...</td>\n",
       "      <td>White</td>\n",
       "      <td>Not Hispanic or Latino</td>\n",
       "      <td>1</td>\n",
       "      <td>Aggravated Assault</td>\n",
       "      <td>1.0</td>\n",
       "      <td>Government/Public Building</td>\n",
       "      <td>Anti-Transgender</td>\n",
       "      <td>Individual</td>\n",
       "      <td>S</td>\n",
       "      <td>S</td>\n",
       "    </tr>\n",
       "    <tr>\n",
       "      <th>2</th>\n",
       "      <td>1052479</td>\n",
       "      <td>2020</td>\n",
       "      <td>AK0010300</td>\n",
       "      <td>Juneau</td>\n",
       "      <td>NaN</td>\n",
       "      <td>City</td>\n",
       "      <td>AK</td>\n",
       "      <td>Alaska</td>\n",
       "      <td>Pacific</td>\n",
       "      <td>West</td>\n",
       "      <td>...</td>\n",
       "      <td>Unknown</td>\n",
       "      <td>Unknown</td>\n",
       "      <td>1</td>\n",
       "      <td>Aggravated Assault</td>\n",
       "      <td>1.0</td>\n",
       "      <td>Parking/Drop Lot/Garage</td>\n",
       "      <td>Anti-American Indian or Alaska Native</td>\n",
       "      <td>Individual</td>\n",
       "      <td>S</td>\n",
       "      <td>S</td>\n",
       "    </tr>\n",
       "    <tr>\n",
       "      <th>3</th>\n",
       "      <td>1054279</td>\n",
       "      <td>2020</td>\n",
       "      <td>AK0010100</td>\n",
       "      <td>Anchorage</td>\n",
       "      <td>NaN</td>\n",
       "      <td>City</td>\n",
       "      <td>AK</td>\n",
       "      <td>Alaska</td>\n",
       "      <td>Pacific</td>\n",
       "      <td>West</td>\n",
       "      <td>...</td>\n",
       "      <td>Unknown</td>\n",
       "      <td>Unknown</td>\n",
       "      <td>1</td>\n",
       "      <td>Sexual Assault With An Object</td>\n",
       "      <td>1.0</td>\n",
       "      <td>Park/Playground</td>\n",
       "      <td>Anti-Female</td>\n",
       "      <td>Individual</td>\n",
       "      <td>S</td>\n",
       "      <td>S</td>\n",
       "    </tr>\n",
       "    <tr>\n",
       "      <th>4</th>\n",
       "      <td>1054280</td>\n",
       "      <td>2020</td>\n",
       "      <td>AK0010100</td>\n",
       "      <td>Anchorage</td>\n",
       "      <td>NaN</td>\n",
       "      <td>City</td>\n",
       "      <td>AK</td>\n",
       "      <td>Alaska</td>\n",
       "      <td>Pacific</td>\n",
       "      <td>West</td>\n",
       "      <td>...</td>\n",
       "      <td>American Indian or Alaska Native</td>\n",
       "      <td>Not Hispanic or Latino</td>\n",
       "      <td>1</td>\n",
       "      <td>Aggravated Assault</td>\n",
       "      <td>1.0</td>\n",
       "      <td>Hotel/Motel/Etc.</td>\n",
       "      <td>Anti-Black or African American</td>\n",
       "      <td>Individual</td>\n",
       "      <td>S</td>\n",
       "      <td>S</td>\n",
       "    </tr>\n",
       "  </tbody>\n",
       "</table>\n",
       "<p>5 rows × 28 columns</p>\n",
       "</div>"
      ],
      "text/plain": [
       "   incident_id  data_year        ori pug_agency_name pub_agency_unit  \\\n",
       "0       864279       2020  AK0010100       Anchorage             NaN   \n",
       "1       893434       2020  AK0010200       Fairbanks             NaN   \n",
       "2      1052479       2020  AK0010300          Juneau             NaN   \n",
       "3      1054279       2020  AK0010100       Anchorage             NaN   \n",
       "4      1054280       2020  AK0010100       Anchorage             NaN   \n",
       "\n",
       "  agency_type_name state_abbr state_name division_name region_name  ...  \\\n",
       "0             City         AK     Alaska       Pacific        West  ...   \n",
       "1             City         AK     Alaska       Pacific        West  ...   \n",
       "2             City         AK     Alaska       Pacific        West  ...   \n",
       "3             City         AK     Alaska       Pacific        West  ...   \n",
       "4             City         AK     Alaska       Pacific        West  ...   \n",
       "\n",
       "                      offender_race      offender_ethnicity victim_count  \\\n",
       "0                           Unknown                 Unknown            2   \n",
       "1                             White  Not Hispanic or Latino            1   \n",
       "2                           Unknown                 Unknown            1   \n",
       "3                           Unknown                 Unknown            1   \n",
       "4  American Indian or Alaska Native  Not Hispanic or Latino            1   \n",
       "\n",
       "                         offense_name  total_individual_victims  \\\n",
       "0  Arson;Burglary/Breaking & Entering                       NaN   \n",
       "1                  Aggravated Assault                       1.0   \n",
       "2                  Aggravated Assault                       1.0   \n",
       "3       Sexual Assault With An Object                       1.0   \n",
       "4                  Aggravated Assault                       1.0   \n",
       "\n",
       "                    location_name                              bias_desc  \\\n",
       "0  Church/Synagogue/Temple/Mosque                   Anti-Other Christian   \n",
       "1      Government/Public Building                       Anti-Transgender   \n",
       "2         Parking/Drop Lot/Garage  Anti-American Indian or Alaska Native   \n",
       "3                 Park/Playground                            Anti-Female   \n",
       "4                Hotel/Motel/Etc.         Anti-Black or African American   \n",
       "\n",
       "             victim_types multiple_offense multiple_bias  \n",
       "0  Religious Organization                M             S  \n",
       "1              Individual                S             S  \n",
       "2              Individual                S             S  \n",
       "3              Individual                S             S  \n",
       "4              Individual                S             S  \n",
       "\n",
       "[5 rows x 28 columns]"
      ]
     },
     "execution_count": 9,
     "metadata": {},
     "output_type": "execute_result"
    }
   ],
   "source": [
    "crime_df = pd.read_csv(\"hate_crime.csv\")\n",
    "crime_df.head()"
   ]
  },
  {
   "cell_type": "code",
   "execution_count": 11,
   "metadata": {},
   "outputs": [],
   "source": [
    "crime_df['incident_date'] = pd.to_datetime(crime_df['incident_date'])"
   ]
  },
  {
   "cell_type": "code",
   "execution_count": 13,
   "metadata": {},
   "outputs": [
    {
     "data": {
      "text/html": [
       "<div>\n",
       "<style scoped>\n",
       "    .dataframe tbody tr th:only-of-type {\n",
       "        vertical-align: middle;\n",
       "    }\n",
       "\n",
       "    .dataframe tbody tr th {\n",
       "        vertical-align: top;\n",
       "    }\n",
       "\n",
       "    .dataframe thead th {\n",
       "        text-align: right;\n",
       "    }\n",
       "</style>\n",
       "<table border=\"1\" class=\"dataframe\">\n",
       "  <thead>\n",
       "    <tr style=\"text-align: right;\">\n",
       "      <th></th>\n",
       "      <th>data_year</th>\n",
       "      <th>incident_date</th>\n",
       "      <th>offense_name</th>\n",
       "      <th>bias_desc</th>\n",
       "    </tr>\n",
       "  </thead>\n",
       "  <tbody>\n",
       "    <tr>\n",
       "      <th>0</th>\n",
       "      <td>2020</td>\n",
       "      <td>2020-01-24</td>\n",
       "      <td>Arson;Burglary/Breaking &amp; Entering</td>\n",
       "      <td>Anti-Other Christian</td>\n",
       "    </tr>\n",
       "    <tr>\n",
       "      <th>1</th>\n",
       "      <td>2020</td>\n",
       "      <td>2020-01-03</td>\n",
       "      <td>Aggravated Assault</td>\n",
       "      <td>Anti-Transgender</td>\n",
       "    </tr>\n",
       "    <tr>\n",
       "      <th>2</th>\n",
       "      <td>2020</td>\n",
       "      <td>2020-05-04</td>\n",
       "      <td>Aggravated Assault</td>\n",
       "      <td>Anti-American Indian or Alaska Native</td>\n",
       "    </tr>\n",
       "    <tr>\n",
       "      <th>3</th>\n",
       "      <td>2020</td>\n",
       "      <td>2020-06-01</td>\n",
       "      <td>Sexual Assault With An Object</td>\n",
       "      <td>Anti-Female</td>\n",
       "    </tr>\n",
       "    <tr>\n",
       "      <th>4</th>\n",
       "      <td>2020</td>\n",
       "      <td>2020-06-21</td>\n",
       "      <td>Aggravated Assault</td>\n",
       "      <td>Anti-Black or African American</td>\n",
       "    </tr>\n",
       "    <tr>\n",
       "      <th>...</th>\n",
       "      <td>...</td>\n",
       "      <td>...</td>\n",
       "      <td>...</td>\n",
       "      <td>...</td>\n",
       "    </tr>\n",
       "    <tr>\n",
       "      <th>20833</th>\n",
       "      <td>2021</td>\n",
       "      <td>2021-01-12</td>\n",
       "      <td>Intimidation</td>\n",
       "      <td>Anti-American Indian or Alaska Native</td>\n",
       "    </tr>\n",
       "    <tr>\n",
       "      <th>20834</th>\n",
       "      <td>2021</td>\n",
       "      <td>2021-01-04</td>\n",
       "      <td>Aggravated Assault</td>\n",
       "      <td>Anti-Female</td>\n",
       "    </tr>\n",
       "    <tr>\n",
       "      <th>20835</th>\n",
       "      <td>2021</td>\n",
       "      <td>2021-10-06</td>\n",
       "      <td>Aggravated Assault</td>\n",
       "      <td>Anti-Mental Disability</td>\n",
       "    </tr>\n",
       "    <tr>\n",
       "      <th>20836</th>\n",
       "      <td>2021</td>\n",
       "      <td>2021-05-20</td>\n",
       "      <td>All Other Larceny</td>\n",
       "      <td>Anti-Lesbian, Gay, Bisexual, or Transgender (M...</td>\n",
       "    </tr>\n",
       "    <tr>\n",
       "      <th>20837</th>\n",
       "      <td>2021</td>\n",
       "      <td>2021-07-01</td>\n",
       "      <td>Simple Assault</td>\n",
       "      <td>Anti-Lesbian (Female)</td>\n",
       "    </tr>\n",
       "  </tbody>\n",
       "</table>\n",
       "<p>20838 rows × 4 columns</p>\n",
       "</div>"
      ],
      "text/plain": [
       "       data_year incident_date                        offense_name  \\\n",
       "0           2020    2020-01-24  Arson;Burglary/Breaking & Entering   \n",
       "1           2020    2020-01-03                  Aggravated Assault   \n",
       "2           2020    2020-05-04                  Aggravated Assault   \n",
       "3           2020    2020-06-01       Sexual Assault With An Object   \n",
       "4           2020    2020-06-21                  Aggravated Assault   \n",
       "...          ...           ...                                 ...   \n",
       "20833       2021    2021-01-12                        Intimidation   \n",
       "20834       2021    2021-01-04                  Aggravated Assault   \n",
       "20835       2021    2021-10-06                  Aggravated Assault   \n",
       "20836       2021    2021-05-20                   All Other Larceny   \n",
       "20837       2021    2021-07-01                      Simple Assault   \n",
       "\n",
       "                                               bias_desc  \n",
       "0                                   Anti-Other Christian  \n",
       "1                                       Anti-Transgender  \n",
       "2                  Anti-American Indian or Alaska Native  \n",
       "3                                            Anti-Female  \n",
       "4                         Anti-Black or African American  \n",
       "...                                                  ...  \n",
       "20833              Anti-American Indian or Alaska Native  \n",
       "20834                                        Anti-Female  \n",
       "20835                             Anti-Mental Disability  \n",
       "20836  Anti-Lesbian, Gay, Bisexual, or Transgender (M...  \n",
       "20837                              Anti-Lesbian (Female)  \n",
       "\n",
       "[20838 rows x 4 columns]"
      ]
     },
     "execution_count": 13,
     "metadata": {},
     "output_type": "execute_result"
    }
   ],
   "source": [
    "# Columns to keep: data_year, incident_date, offense_name, bias_desc\n",
    "col_keep = ['data_year', 'incident_date', 'offense_name', 'bias_desc']\n",
    "filtered_crime_df = crime_df[col_keep]\n",
    "filtered_crime_df"
   ]
  },
  {
   "cell_type": "markdown",
   "metadata": {},
   "source": [
    "Note: The Hate Crime Statistics Data Collection compiles data about both single-bias and\n",
    "multiple-bias hate crimes. A single-bias incident is defined as an incident in which one\n",
    "or more offense types are motivated by the same bias. Beginning in 2013, law\n",
    "enforcement agencies could report up to five bias motivations per offense type.\n",
    "Therefore, the definition of a multiple-bias incident has been revised to “an incident in\n",
    "which one or more offense types are motivated by two or more biases.”\n",
    "\n",
    "- Anti-Asian\n",
    "- Anti-Asian;Anti-Black or African American\n",
    "- Anti-Asian;Anti-Other Race/Ethnicity/Ancestry\n",
    "- Anti-Arab;Anti-Asian\n",
    "- Anti-Asian;Anti-White\n",
    "- Anti-Asian;Anti-Black or African American;Anti-Gay (Male)\n",
    "- Anti-Asian;Anti-Hindu\n",
    "- Anti-Asian;Anti-Black or African American;Anti-Islamic (Muslim)\n",
    "- Anti-Asian;Anti-Lesbian, Gay, Bisexual, or Transgender (Mixed Group)\n",
    "- Anti-Asian;Anti-Black or African American;Anti-Multiple Races, Group\n",
    "- Anti-Asian;Anti-Black or African American;Anti-Gay (Male);Anti-Multiple Races, Group\n",
    "- Anti-Asian;Anti-Female\n",
    "- Anti-Asian;Anti-Black or African American;Anti-Female;Anti-Jewish;Anti-Multiple Races, Group\n",
    "- Anti-Asian;Anti-Jewish\n",
    "- Anti-Asian;Anti-Black or African American;Anti-Jewish\n",
    "- Anti-Asian;Anti-Multiple Races, Group\n",
    "- Anti-Asian;Anti-Gay (Male)\n",
    "- Anti-Asian;Anti-Black or African American;Anti-Hispanic or Latino\n",
    "- Anti-Asian;Anti-Black or African American;Anti-Lesbian, Gay, Bisexual, or Transgender (Mixed Group)\n",
    "- Anti-American Indian or Alaska Native;Anti-Asian;Anti-Black or African American;Anti-Islamic (Muslim);Anti-White\n",
    "- Anti-Asian;Anti-Female;Anti-Multiple Races, Group\n",
    "- Anti-American Indian or Alaska Native;Anti-Asian\n",
    "- Anti-Asian;Anti-Transgender\n",
    "- Anti-Asian;Anti-Black or African American;Anti-Female;Anti-Multiple Races, Group\n",
    "- Anti-Asian;Anti-Black or African American;Anti-Female;Anti-Hispanic or Latino\n",
    "- Anti-Arab;Anti-Asian;Anti-Black or African American\n",
    "\n"
   ]
  },
  {
   "cell_type": "code",
   "execution_count": 15,
   "metadata": {},
   "outputs": [
    {
     "data": {
      "text/html": [
       "<div>\n",
       "<style scoped>\n",
       "    .dataframe tbody tr th:only-of-type {\n",
       "        vertical-align: middle;\n",
       "    }\n",
       "\n",
       "    .dataframe tbody tr th {\n",
       "        vertical-align: top;\n",
       "    }\n",
       "\n",
       "    .dataframe thead th {\n",
       "        text-align: right;\n",
       "    }\n",
       "</style>\n",
       "<table border=\"1\" class=\"dataframe\">\n",
       "  <thead>\n",
       "    <tr style=\"text-align: right;\">\n",
       "      <th></th>\n",
       "      <th>data_year</th>\n",
       "      <th>incident_date</th>\n",
       "      <th>offense_name</th>\n",
       "      <th>bias_desc</th>\n",
       "    </tr>\n",
       "  </thead>\n",
       "  <tbody>\n",
       "    <tr>\n",
       "      <th>50</th>\n",
       "      <td>2020</td>\n",
       "      <td>2020-04-05</td>\n",
       "      <td>Destruction/Damage/Vandalism of Property</td>\n",
       "      <td>Anti-Asian</td>\n",
       "    </tr>\n",
       "    <tr>\n",
       "      <th>96</th>\n",
       "      <td>2020</td>\n",
       "      <td>2020-04-08</td>\n",
       "      <td>Aggravated Assault</td>\n",
       "      <td>Anti-Asian</td>\n",
       "    </tr>\n",
       "    <tr>\n",
       "      <th>180</th>\n",
       "      <td>2020</td>\n",
       "      <td>2020-03-19</td>\n",
       "      <td>Intimidation</td>\n",
       "      <td>Anti-Asian</td>\n",
       "    </tr>\n",
       "    <tr>\n",
       "      <th>211</th>\n",
       "      <td>2020</td>\n",
       "      <td>2020-12-01</td>\n",
       "      <td>Intimidation</td>\n",
       "      <td>Anti-Asian</td>\n",
       "    </tr>\n",
       "    <tr>\n",
       "      <th>340</th>\n",
       "      <td>2020</td>\n",
       "      <td>2020-09-08</td>\n",
       "      <td>Intimidation</td>\n",
       "      <td>Anti-Asian</td>\n",
       "    </tr>\n",
       "    <tr>\n",
       "      <th>...</th>\n",
       "      <td>...</td>\n",
       "      <td>...</td>\n",
       "      <td>...</td>\n",
       "      <td>...</td>\n",
       "    </tr>\n",
       "    <tr>\n",
       "      <th>20713</th>\n",
       "      <td>2021</td>\n",
       "      <td>2021-10-27</td>\n",
       "      <td>Simple Assault</td>\n",
       "      <td>Anti-Arab;Anti-Asian;Anti-Black or African Ame...</td>\n",
       "    </tr>\n",
       "    <tr>\n",
       "      <th>20738</th>\n",
       "      <td>2021</td>\n",
       "      <td>2021-11-05</td>\n",
       "      <td>Destruction/Damage/Vandalism of Property</td>\n",
       "      <td>Anti-Asian</td>\n",
       "    </tr>\n",
       "    <tr>\n",
       "      <th>20754</th>\n",
       "      <td>2021</td>\n",
       "      <td>2021-10-16</td>\n",
       "      <td>Destruction/Damage/Vandalism of Property</td>\n",
       "      <td>Anti-Asian</td>\n",
       "    </tr>\n",
       "    <tr>\n",
       "      <th>20801</th>\n",
       "      <td>2021</td>\n",
       "      <td>2021-10-06</td>\n",
       "      <td>Intimidation</td>\n",
       "      <td>Anti-Asian</td>\n",
       "    </tr>\n",
       "    <tr>\n",
       "      <th>20817</th>\n",
       "      <td>2021</td>\n",
       "      <td>2021-07-21</td>\n",
       "      <td>Drug/Narcotic Violations</td>\n",
       "      <td>Anti-Asian</td>\n",
       "    </tr>\n",
       "  </tbody>\n",
       "</table>\n",
       "<p>1135 rows × 4 columns</p>\n",
       "</div>"
      ],
      "text/plain": [
       "       data_year incident_date                              offense_name  \\\n",
       "50          2020    2020-04-05  Destruction/Damage/Vandalism of Property   \n",
       "96          2020    2020-04-08                        Aggravated Assault   \n",
       "180         2020    2020-03-19                              Intimidation   \n",
       "211         2020    2020-12-01                              Intimidation   \n",
       "340         2020    2020-09-08                              Intimidation   \n",
       "...          ...           ...                                       ...   \n",
       "20713       2021    2021-10-27                            Simple Assault   \n",
       "20738       2021    2021-11-05  Destruction/Damage/Vandalism of Property   \n",
       "20754       2021    2021-10-16  Destruction/Damage/Vandalism of Property   \n",
       "20801       2021    2021-10-06                              Intimidation   \n",
       "20817       2021    2021-07-21                  Drug/Narcotic Violations   \n",
       "\n",
       "                                               bias_desc  \n",
       "50                                            Anti-Asian  \n",
       "96                                            Anti-Asian  \n",
       "180                                           Anti-Asian  \n",
       "211                                           Anti-Asian  \n",
       "340                                           Anti-Asian  \n",
       "...                                                  ...  \n",
       "20713  Anti-Arab;Anti-Asian;Anti-Black or African Ame...  \n",
       "20738                                         Anti-Asian  \n",
       "20754                                         Anti-Asian  \n",
       "20801                                         Anti-Asian  \n",
       "20817                                         Anti-Asian  \n",
       "\n",
       "[1135 rows x 4 columns]"
      ]
     },
     "execution_count": 15,
     "metadata": {},
     "output_type": "execute_result"
    }
   ],
   "source": [
    "# Filter those anti-asian incidents\n",
    "asian_crime_df = filtered_crime_df[filtered_crime_df['bias_desc'].str.contains(\"Anti-Asian\", case=True)]\n",
    "asian_crime_df"
   ]
  },
  {
   "cell_type": "code",
   "execution_count": 18,
   "metadata": {},
   "outputs": [],
   "source": [
    "crime_2020 = filtered_crime_df[filtered_crime_df['data_year']==2020]\n",
    "crime_2021 = filtered_crime_df[filtered_crime_df['data_year']==2021]\n",
    "\n",
    "asian_crime_2020 = asian_crime_df[asian_crime_df['data_year']==2020]\n",
    "asian_crime_2021 = asian_crime_df[asian_crime_df['data_year']==2021]"
   ]
  },
  {
   "cell_type": "code",
   "execution_count": 19,
   "metadata": {},
   "outputs": [
    {
     "name": "stdout",
     "output_type": "stream",
     "text": [
      "Number of Anti-Asian Hate Crimes:  357 778\n",
      "Number of all hate crimes:  9949 10889\n",
      "Ratio of Anti-Asian hate crimes:  0.035883003316916275 0.07144825052805584\n"
     ]
    }
   ],
   "source": [
    "# Ratio of anti-asian incidents\n",
    "asian_ratio_2020 = len(asian_crime_2020) / len(crime_2020)\n",
    "asian_ratio_2021 = len(asian_crime_2021) / len(crime_2021)\n",
    "print('Number of Anti-Asian Hate Crimes: ', len(asian_crime_2020),len(asian_crime_2021))\n",
    "print('Number of all hate crimes: ', len(crime_2020), len(crime_2021))\n",
    "print('Ratio of Anti-Asian hate crimes: ', asian_ratio_2020, asian_ratio_2021)"
   ]
  },
  {
   "cell_type": "code",
   "execution_count": 52,
   "metadata": {},
   "outputs": [
    {
     "data": {
      "image/png": "[encoded data removed]",
      "text/plain": [
       "<Figure size 576x360 with 1 Axes>"
      ]
     },
     "metadata": {
      "needs_background": "light"
     },
     "output_type": "display_data"
    }
   ],
   "source": [
    "asian_monthly_counts = asian_crime_2020.groupby(asian_crime_2020['incident_date'].dt.to_period('M')).size()\n",
    "\n",
    "asian_monthly_counts.plot(kind='bar', figsize=(8, 5))\n",
    "\n",
    "plt.title('Monthly Anti-Asian Hate Incidents in 2020')\n",
    "plt.xlabel('Month')\n",
    "plt.ylabel('Number of Incidents')\n",
    "plt.xticks(rotation=60)  # Rotate x-axis labels for better readability\n",
    "\n",
    "for index, value in enumerate(asian_monthly_counts):\n",
    "    plt.text(index, value, str(value), ha='center', va='bottom')\n",
    "\n",
    "plt.tight_layout()\n",
    "plt.show()"
   ]
  },
  {
   "cell_type": "code",
   "execution_count": 53,
   "metadata": {},
   "outputs": [
    {
     "data": {
      "image/png": "[encoded data removed]",
      "text/plain": [
       "<Figure size 576x360 with 1 Axes>"
      ]
     },
     "metadata": {
      "needs_background": "light"
     },
     "output_type": "display_data"
    }
   ],
   "source": [
    "df_2020_monthly = crime_2020.groupby(crime_2020['incident_date'].dt.to_period('M')).size()\n",
    "monthly_proportions = asian_monthly_counts / df_2020_monthly\n",
    "\n",
    "monthly_proportions.plot(kind='bar', figsize=(8, 5))\n",
    "plt.title('Proportion of Asian Incidents Over Total Incidents by Month in 2020')\n",
    "plt.xlabel('Month')\n",
    "plt.ylabel('Proportion')\n",
    "plt.xticks(rotation=45)\n",
    "\n",
    "for index, value in enumerate(monthly_proportions):\n",
    "    plt.text(index, round(value, 3), str(round(value, 3)), ha='center', va='bottom')\n",
    "\n",
    "plt.show()"
   ]
  },
  {
   "cell_type": "code",
   "execution_count": 23,
   "metadata": {},
   "outputs": [
    {
     "data": {
      "image/png": "[encoded data removed]",
      "text/plain": [
       "<Figure size 576x360 with 1 Axes>"
      ]
     },
     "metadata": {
      "needs_background": "light"
     },
     "output_type": "display_data"
    }
   ],
   "source": [
    "asian_monthly_counts = asian_crime_2021.groupby(asian_crime_2021['incident_date'].dt.to_period('M')).size()\n",
    "\n",
    "asian_monthly_counts.plot(kind='bar', figsize=(8, 5))\n",
    "\n",
    "plt.title('Monthly Anti-Asian Hate Incidents in 2021')\n",
    "plt.xlabel('Month')\n",
    "plt.ylabel('Number of Incidents')\n",
    "plt.xticks(rotation=60)  # Rotate x-axis labels for better readability\n",
    "\n",
    "for index, value in enumerate(asian_monthly_counts):\n",
    "    plt.text(index, value, str(value), ha='center', va='bottom')\n",
    "\n",
    "plt.tight_layout()\n",
    "plt.show()"
   ]
  },
  {
   "cell_type": "code",
   "execution_count": 24,
   "metadata": {},
   "outputs": [
    {
     "data": {
      "image/png": "[encoded data removed]",
      "text/plain": [
       "<Figure size 576x360 with 1 Axes>"
      ]
     },
     "metadata": {
      "needs_background": "light"
     },
     "output_type": "display_data"
    }
   ],
   "source": [
    "df_2021_monthly = crime_2021.groupby(crime_2021['incident_date'].dt.to_period('M')).size()\n",
    "monthly_proportions = asian_monthly_counts / df_2021_monthly\n",
    "\n",
    "monthly_proportions.plot(kind='bar', figsize=(8, 5))\n",
    "plt.title('Proportion of Asian Incidents Over Total Incidents by Month in 2021')\n",
    "plt.xlabel('Month')\n",
    "plt.ylabel('Proportion')\n",
    "plt.xticks(rotation=45)\n",
    "\n",
    "for index, value in enumerate(monthly_proportions):\n",
    "    plt.text(index, round(value, 3), str(round(value, 3)), ha='center', va='bottom')\n",
    "\n",
    "plt.show()"
   ]
  },
  {
   "cell_type": "markdown",
   "metadata": {},
   "source": [
    "FBI Hate Crime EDA:\n",
    "- 2020: Peak in March and April, two tails are insignificant in comparison\n",
    "- 2021: Peak in March and April, the peak effect spillover to later month decreasingly with another increase in November"
   ]
  },
  {
   "cell_type": "code",
   "execution_count": 182,
   "metadata": {},
   "outputs": [],
   "source": [
    "monthly_fbi = asian_crime_df.groupby(asian_crime_df['incident_date'].dt.to_period('M')).size()"
   ]
  },
  {
   "cell_type": "code",
   "execution_count": 184,
   "metadata": {},
   "outputs": [
    {
     "data": {
      "image/png": "[encoded data removed]",
      "text/plain": [
       "<Figure size 720x360 with 1 Axes>"
      ]
     },
     "metadata": {
      "needs_background": "light"
     },
     "output_type": "display_data"
    }
   ],
   "source": [
    "monthly_fbi.plot(kind='line', figsize=(10, 5), marker='o')\n",
    "\n",
    "plt.title('Monthly Anti-Asian Hate Incidents in 2020 and 2021')\n",
    "plt.xlabel('Month')\n",
    "plt.ylabel('Number of Incidents')\n",
    "plt.xticks(rotation=45)\n",
    "\n",
    "plt.show()"
   ]
  },
  {
   "cell_type": "markdown",
   "metadata": {},
   "source": [
    "### Google Search Trend"
   ]
  },
  {
   "cell_type": "code",
   "execution_count": 83,
   "metadata": {},
   "outputs": [
    {
     "data": {
      "text/html": [
       "<div>\n",
       "<style scoped>\n",
       "    .dataframe tbody tr th:only-of-type {\n",
       "        vertical-align: middle;\n",
       "    }\n",
       "\n",
       "    .dataframe tbody tr th {\n",
       "        vertical-align: top;\n",
       "    }\n",
       "\n",
       "    .dataframe thead th {\n",
       "        text-align: right;\n",
       "    }\n",
       "</style>\n",
       "<table border=\"1\" class=\"dataframe\">\n",
       "  <thead>\n",
       "    <tr style=\"text-align: right;\">\n",
       "      <th></th>\n",
       "      <th>Week</th>\n",
       "      <th>Chink + Chinaman + Chinkland + Gook: (United States)</th>\n",
       "      <th>Chinese virus + China virus + Wuhan virus + Kung flu: (United States)</th>\n",
       "    </tr>\n",
       "  </thead>\n",
       "  <tbody>\n",
       "    <tr>\n",
       "      <th>0</th>\n",
       "      <td>2020-01-05</td>\n",
       "      <td>1</td>\n",
       "      <td>1</td>\n",
       "    </tr>\n",
       "    <tr>\n",
       "      <th>1</th>\n",
       "      <td>2020-01-12</td>\n",
       "      <td>1</td>\n",
       "      <td>2</td>\n",
       "    </tr>\n",
       "    <tr>\n",
       "      <th>2</th>\n",
       "      <td>2020-01-19</td>\n",
       "      <td>1</td>\n",
       "      <td>89</td>\n",
       "    </tr>\n",
       "    <tr>\n",
       "      <th>3</th>\n",
       "      <td>2020-01-26</td>\n",
       "      <td>1</td>\n",
       "      <td>100</td>\n",
       "    </tr>\n",
       "    <tr>\n",
       "      <th>4</th>\n",
       "      <td>2020-02-02</td>\n",
       "      <td>1</td>\n",
       "      <td>40</td>\n",
       "    </tr>\n",
       "    <tr>\n",
       "      <th>...</th>\n",
       "      <td>...</td>\n",
       "      <td>...</td>\n",
       "      <td>...</td>\n",
       "    </tr>\n",
       "    <tr>\n",
       "      <th>99</th>\n",
       "      <td>2021-11-28</td>\n",
       "      <td>1</td>\n",
       "      <td>1</td>\n",
       "    </tr>\n",
       "    <tr>\n",
       "      <th>100</th>\n",
       "      <td>2021-12-05</td>\n",
       "      <td>1</td>\n",
       "      <td>1</td>\n",
       "    </tr>\n",
       "    <tr>\n",
       "      <th>101</th>\n",
       "      <td>2021-12-12</td>\n",
       "      <td>1</td>\n",
       "      <td>1</td>\n",
       "    </tr>\n",
       "    <tr>\n",
       "      <th>102</th>\n",
       "      <td>2021-12-19</td>\n",
       "      <td>1</td>\n",
       "      <td>1</td>\n",
       "    </tr>\n",
       "    <tr>\n",
       "      <th>103</th>\n",
       "      <td>2021-12-26</td>\n",
       "      <td>1</td>\n",
       "      <td>1</td>\n",
       "    </tr>\n",
       "  </tbody>\n",
       "</table>\n",
       "<p>104 rows × 3 columns</p>\n",
       "</div>"
      ],
      "text/plain": [
       "           Week  Chink + Chinaman + Chinkland + Gook: (United States)  \\\n",
       "0    2020-01-05                                                  1      \n",
       "1    2020-01-12                                                  1      \n",
       "2    2020-01-19                                                  1      \n",
       "3    2020-01-26                                                  1      \n",
       "4    2020-02-02                                                  1      \n",
       "..          ...                                                ...      \n",
       "99   2021-11-28                                                  1      \n",
       "100  2021-12-05                                                  1      \n",
       "101  2021-12-12                                                  1      \n",
       "102  2021-12-19                                                  1      \n",
       "103  2021-12-26                                                  1      \n",
       "\n",
       "    Chinese virus + China virus + Wuhan virus + Kung flu: (United States)  \n",
       "0                                                    1                     \n",
       "1                                                    2                     \n",
       "2                                                   89                     \n",
       "3                                                  100                     \n",
       "4                                                   40                     \n",
       "..                                                 ...                     \n",
       "99                                                   1                     \n",
       "100                                                  1                     \n",
       "101                                                  1                     \n",
       "102                                                  1                     \n",
       "103                                                  1                     \n",
       "\n",
       "[104 rows x 3 columns]"
      ]
     },
     "execution_count": 83,
     "metadata": {},
     "output_type": "execute_result"
    }
   ],
   "source": [
    "google_df = pd.read_csv(\"/Users/itsyuzhou/Winter2024/MA_thesis/GoogleTrends.csv\")\n",
    "google_df"
   ]
  },
  {
   "cell_type": "code",
   "execution_count": 26,
   "metadata": {},
   "outputs": [
    {
     "data": {
      "text/plain": [
       "Week                                                                     datetime64[ns]\n",
       "Chink + Chinaman + Chinkland + Gook: (United States)                            float64\n",
       "Chinese virus + China virus + Wuhan virus + Kung flu: (United States)           float64\n",
       "dtype: object"
      ]
     },
     "execution_count": 26,
     "metadata": {},
     "output_type": "execute_result"
    }
   ],
   "source": [
    "google_df['Week'] = pd.to_datetime(google_df['Week'])\n",
    "google_df['Chinese virus + China virus + Wuhan virus + Kung flu: (United States)'] = google_df['Chinese virus + China virus + Wuhan virus + Kung flu: (United States)'].replace('<1', '0.5').astype(float)\n",
    "google_df['Chink + Chinaman + Chinkland + Gook: (United States)'] = google_df['Chink + Chinaman + Chinkland + Gook: (United States)'].replace('<1', '0.5').astype(float)\n",
    "\n",
    "google_df.dtypes"
   ]
  },
  {
   "cell_type": "code",
   "execution_count": 29,
   "metadata": {},
   "outputs": [
    {
     "data": {
      "image/png": "[encoded data removed]",
      "text/plain": [
       "<Figure size 1080x504 with 1 Axes>"
      ]
     },
     "metadata": {
      "needs_background": "light"
     },
     "output_type": "display_data"
    }
   ],
   "source": [
    "plt.figure(figsize=(15, 7))\n",
    "\n",
    "plt.plot(\n",
    "    google_df['Week'].values, \n",
    "    google_df['Chinese virus + China virus + Wuhan virus + Kung flu: (United States)'].values, \n",
    "    marker='o', linestyle='-', \n",
    "    label='Series 1: search proportion for covid-related Sinophobic terms'\n",
    ")\n",
    "\n",
    "plt.plot(\n",
    "    google_df['Week'].values, \n",
    "    google_df['Chink + Chinaman + Chinkland + Gook: (United States)'].values, \n",
    "    marker='o', linestyle='-', \n",
    "    label='Series 2: Search proportion for traditional Sinophobic terms'\n",
    ")\n",
    "\n",
    "plt.title('Combined Sinophobic Search Proportion Trends')\n",
    "plt.xlabel('Week')\n",
    "plt.ylabel('Search Proportion')\n",
    "plt.xticks(rotation=45)\n",
    "plt.legend()\n",
    "plt.tight_layout()\n",
    "plt.show()"
   ]
  },
  {
   "cell_type": "markdown",
   "metadata": {},
   "source": [
    "Google Search Trend EDA:\n",
    "- Covid-related Sinophobic searches peak in 2020/2 and 2020/3, with another noticeable increase in 2020/6 and 2020/7\n",
    "- Traditional Sinophobic searches peak in 2021/2, 2021/3, 2021/4 (most significant), and 2021/7"
   ]
  },
  {
   "cell_type": "markdown",
   "metadata": {},
   "source": [
    "#### Combined 2020 and 2021 dataset"
   ]
  },
  {
   "cell_type": "code",
   "execution_count": 173,
   "metadata": {},
   "outputs": [
    {
     "data": {
      "text/html": [
       "<div>\n",
       "<style scoped>\n",
       "    .dataframe tbody tr th:only-of-type {\n",
       "        vertical-align: middle;\n",
       "    }\n",
       "\n",
       "    .dataframe tbody tr th {\n",
       "        vertical-align: top;\n",
       "    }\n",
       "\n",
       "    .dataframe thead th {\n",
       "        text-align: right;\n",
       "    }\n",
       "</style>\n",
       "<table border=\"1\" class=\"dataframe\">\n",
       "  <thead>\n",
       "    <tr style=\"text-align: right;\">\n",
       "      <th></th>\n",
       "      <th>Week</th>\n",
       "      <th>Chink + Chinaman + Chinkland + Gook + Chinese virus + China virus + Wuhan virus + Kung flu: (United States)</th>\n",
       "    </tr>\n",
       "  </thead>\n",
       "  <tbody>\n",
       "    <tr>\n",
       "      <th>0</th>\n",
       "      <td>2019-12-29</td>\n",
       "      <td>1</td>\n",
       "    </tr>\n",
       "    <tr>\n",
       "      <th>1</th>\n",
       "      <td>2020-01-05</td>\n",
       "      <td>2</td>\n",
       "    </tr>\n",
       "    <tr>\n",
       "      <th>2</th>\n",
       "      <td>2020-01-12</td>\n",
       "      <td>4</td>\n",
       "    </tr>\n",
       "    <tr>\n",
       "      <th>3</th>\n",
       "      <td>2020-01-19</td>\n",
       "      <td>99</td>\n",
       "    </tr>\n",
       "    <tr>\n",
       "      <th>4</th>\n",
       "      <td>2020-01-26</td>\n",
       "      <td>100</td>\n",
       "    </tr>\n",
       "    <tr>\n",
       "      <th>...</th>\n",
       "      <td>...</td>\n",
       "      <td>...</td>\n",
       "    </tr>\n",
       "    <tr>\n",
       "      <th>100</th>\n",
       "      <td>2021-11-28</td>\n",
       "      <td>2</td>\n",
       "    </tr>\n",
       "    <tr>\n",
       "      <th>101</th>\n",
       "      <td>2021-12-05</td>\n",
       "      <td>2</td>\n",
       "    </tr>\n",
       "    <tr>\n",
       "      <th>102</th>\n",
       "      <td>2021-12-12</td>\n",
       "      <td>2</td>\n",
       "    </tr>\n",
       "    <tr>\n",
       "      <th>103</th>\n",
       "      <td>2021-12-19</td>\n",
       "      <td>2</td>\n",
       "    </tr>\n",
       "    <tr>\n",
       "      <th>104</th>\n",
       "      <td>2021-12-26</td>\n",
       "      <td>2</td>\n",
       "    </tr>\n",
       "  </tbody>\n",
       "</table>\n",
       "<p>105 rows × 2 columns</p>\n",
       "</div>"
      ],
      "text/plain": [
       "           Week  \\\n",
       "0    2019-12-29   \n",
       "1    2020-01-05   \n",
       "2    2020-01-12   \n",
       "3    2020-01-19   \n",
       "4    2020-01-26   \n",
       "..          ...   \n",
       "100  2021-11-28   \n",
       "101  2021-12-05   \n",
       "102  2021-12-12   \n",
       "103  2021-12-19   \n",
       "104  2021-12-26   \n",
       "\n",
       "     Chink + Chinaman + Chinkland + Gook + Chinese virus + China virus + Wuhan virus + Kung flu: (United States)  \n",
       "0                                                    1                                                            \n",
       "1                                                    2                                                            \n",
       "2                                                    4                                                            \n",
       "3                                                   99                                                            \n",
       "4                                                  100                                                            \n",
       "..                                                 ...                                                            \n",
       "100                                                  2                                                            \n",
       "101                                                  2                                                            \n",
       "102                                                  2                                                            \n",
       "103                                                  2                                                            \n",
       "104                                                  2                                                            \n",
       "\n",
       "[105 rows x 2 columns]"
      ]
     },
     "execution_count": 173,
     "metadata": {},
     "output_type": "execute_result"
    }
   ],
   "source": [
    "google_df = pd.read_csv(\"/Users/itsyuzhou/Winter2024/MA_thesis/google_trends.csv\")\n",
    "google_df"
   ]
  },
  {
   "cell_type": "code",
   "execution_count": 174,
   "metadata": {},
   "outputs": [],
   "source": [
    "google_df['Week'] = pd.to_datetime(google_df['Week'])"
   ]
  },
  {
   "cell_type": "code",
   "execution_count": 145,
   "metadata": {},
   "outputs": [
    {
     "data": {
      "image/png": "[encoded data removed]",
      "text/plain": [
       "<Figure size 1080x504 with 1 Axes>"
      ]
     },
     "metadata": {
      "needs_background": "light"
     },
     "output_type": "display_data"
    }
   ],
   "source": [
    "plt.figure(figsize=(15, 7))\n",
    "plt.plot(\n",
    "    google_df['Week'].values, \n",
    "    google_df['Chink + Chinaman + Chinkland + Gook + Chinese virus + China virus + Wuhan virus + Kung flu: (United States)'].values, \n",
    "    marker='o', linestyle='-'\n",
    ")\n",
    "\n",
    "plt.title('Search Proportion for Chink + Chinaman + Chinkland + Gook + Chinese virus + China virus + Wuhan virus + Kung flu')\n",
    "plt.xlabel('Week')\n",
    "plt.ylabel('Search Proportion')\n",
    "plt.xticks(rotation=45)\n",
    "plt.tight_layout()\n",
    "\n",
    "plt.show()"
   ]
  },
  {
   "cell_type": "code",
   "execution_count": 33,
   "metadata": {},
   "outputs": [
    {
     "data": {
      "text/html": [
       "<div>\n",
       "<style scoped>\n",
       "    .dataframe tbody tr th:only-of-type {\n",
       "        vertical-align: middle;\n",
       "    }\n",
       "\n",
       "    .dataframe tbody tr th {\n",
       "        vertical-align: top;\n",
       "    }\n",
       "\n",
       "    .dataframe thead th {\n",
       "        text-align: right;\n",
       "    }\n",
       "</style>\n",
       "<table border=\"1\" class=\"dataframe\">\n",
       "  <thead>\n",
       "    <tr style=\"text-align: right;\">\n",
       "      <th></th>\n",
       "      <th>Comment PublishedAt</th>\n",
       "      <th>Comment</th>\n",
       "      <th>Video PublishedAt</th>\n",
       "      <th>Video Title</th>\n",
       "      <th>tokenized_text</th>\n",
       "      <th>normalized_tokens</th>\n",
       "      <th>Hate Speech Score</th>\n",
       "    </tr>\n",
       "  </thead>\n",
       "  <tbody>\n",
       "    <tr>\n",
       "      <th>0</th>\n",
       "      <td>2023-03-16</td>\n",
       "      <td>Hey! First comment of 2023! Is it anniversary ...</td>\n",
       "      <td>2020-03-09</td>\n",
       "      <td>Tucker: We must remain calm but not complacent...</td>\n",
       "      <td>['Hey', 'First', 'comment', 'of', '2023', 'Is'...</td>\n",
       "      <td>['hey', 'comment', 'anniversary', 'day', 'chin...</td>\n",
       "      <td>0.685360</td>\n",
       "    </tr>\n",
       "    <tr>\n",
       "      <th>1</th>\n",
       "      <td>2021-03-26</td>\n",
       "      <td>Lora of good warnings here... that unfortunate...</td>\n",
       "      <td>2020-03-09</td>\n",
       "      <td>Tucker: We must remain calm but not complacent...</td>\n",
       "      <td>['Lora', 'of', 'good', 'warnings', 'here', 'th...</td>\n",
       "      <td>['lora', 'good', 'warnings', 'unfortunately', ...</td>\n",
       "      <td>0.320128</td>\n",
       "    </tr>\n",
       "    <tr>\n",
       "      <th>2</th>\n",
       "      <td>2020-06-22</td>\n",
       "      <td>The Chinese Coronavirus.</td>\n",
       "      <td>2020-03-09</td>\n",
       "      <td>Tucker: We must remain calm but not complacent...</td>\n",
       "      <td>['The', 'Chinese', 'Coronavirus']</td>\n",
       "      <td>['chinese', 'coronavirus']</td>\n",
       "      <td>0.000340</td>\n",
       "    </tr>\n",
       "    <tr>\n",
       "      <th>3</th>\n",
       "      <td>2020-06-09</td>\n",
       "      <td>I bet his favorite food is Chinese food. Gtfoh</td>\n",
       "      <td>2020-03-09</td>\n",
       "      <td>Tucker: We must remain calm but not complacent...</td>\n",
       "      <td>['I', 'bet', 'his', 'favorite', 'food', 'is', ...</td>\n",
       "      <td>['bet', 'favorite', 'food', 'chinese', 'food',...</td>\n",
       "      <td>0.999489</td>\n",
       "    </tr>\n",
       "    <tr>\n",
       "      <th>4</th>\n",
       "      <td>2020-05-19</td>\n",
       "      <td>Did he just said that China is the most racist...</td>\n",
       "      <td>2020-03-09</td>\n",
       "      <td>Tucker: We must remain calm but not complacent...</td>\n",
       "      <td>['Did', 'he', 'just', 'said', 'that', 'China',...</td>\n",
       "      <td>['said', 'china', 'racist', 'country', 'world']</td>\n",
       "      <td>0.000678</td>\n",
       "    </tr>\n",
       "  </tbody>\n",
       "</table>\n",
       "</div>"
      ],
      "text/plain": [
       "  Comment PublishedAt                                            Comment  \\\n",
       "0          2023-03-16  Hey! First comment of 2023! Is it anniversary ...   \n",
       "1          2021-03-26  Lora of good warnings here... that unfortunate...   \n",
       "2          2020-06-22                           The Chinese Coronavirus.   \n",
       "3          2020-06-09     I bet his favorite food is Chinese food. Gtfoh   \n",
       "4          2020-05-19  Did he just said that China is the most racist...   \n",
       "\n",
       "  Video PublishedAt                                        Video Title  \\\n",
       "0        2020-03-09  Tucker: We must remain calm but not complacent...   \n",
       "1        2020-03-09  Tucker: We must remain calm but not complacent...   \n",
       "2        2020-03-09  Tucker: We must remain calm but not complacent...   \n",
       "3        2020-03-09  Tucker: We must remain calm but not complacent...   \n",
       "4        2020-03-09  Tucker: We must remain calm but not complacent...   \n",
       "\n",
       "                                      tokenized_text  \\\n",
       "0  ['Hey', 'First', 'comment', 'of', '2023', 'Is'...   \n",
       "1  ['Lora', 'of', 'good', 'warnings', 'here', 'th...   \n",
       "2                  ['The', 'Chinese', 'Coronavirus']   \n",
       "3  ['I', 'bet', 'his', 'favorite', 'food', 'is', ...   \n",
       "4  ['Did', 'he', 'just', 'said', 'that', 'China',...   \n",
       "\n",
       "                                   normalized_tokens  Hate Speech Score  \n",
       "0  ['hey', 'comment', 'anniversary', 'day', 'chin...           0.685360  \n",
       "1  ['lora', 'good', 'warnings', 'unfortunately', ...           0.320128  \n",
       "2                         ['chinese', 'coronavirus']           0.000340  \n",
       "3  ['bet', 'favorite', 'food', 'chinese', 'food',...           0.999489  \n",
       "4    ['said', 'china', 'racist', 'country', 'world']           0.000678  "
      ]
     },
     "execution_count": 33,
     "metadata": {},
     "output_type": "execute_result"
    }
   ],
   "source": [
    "comment_df = pd.read_csv(\"/Users/itsyuzhou/Winter2024/Content-Analysis-Homework/final_project/china_sentiment.csv\", lineterminator='\\n')\n",
    "comment_df.head()"
   ]
  },
  {
   "cell_type": "code",
   "execution_count": 146,
   "metadata": {},
   "outputs": [],
   "source": [
    "comment_df = pd.read_csv(\"/Users/itsyuzhou/Winter2024/MA_thesis/sinophobia_llm.csv\", lineterminator='\\n')"
   ]
  },
  {
   "cell_type": "markdown",
   "metadata": {},
   "source": [
    "# Convert to Monthly Time Series"
   ]
  },
  {
   "cell_type": "markdown",
   "metadata": {},
   "source": [
    "### YouTube Comment"
   ]
  },
  {
   "cell_type": "code",
   "execution_count": 168,
   "metadata": {},
   "outputs": [
    {
     "data": {
      "text/plain": [
       "Video PublishedAt\n",
       "2020-01      76\n",
       "2020-02      97\n",
       "2020-03     809\n",
       "2020-04      10\n",
       "2020-05     137\n",
       "2020-06      58\n",
       "2020-07      40\n",
       "2020-08       4\n",
       "2020-09    2696\n",
       "2020-10     132\n",
       "2020-11      75\n",
       "2020-12      46\n",
       "2021-01      11\n",
       "2021-02       5\n",
       "2021-03       9\n",
       "2021-04      14\n",
       "2021-05      65\n",
       "2021-06      68\n",
       "2021-07      36\n",
       "2021-08     144\n",
       "2021-09      83\n",
       "2021-10      22\n",
       "2021-11      74\n",
       "2021-12      63\n",
       "Freq: M, Name: Hate Speech, dtype: int64"
      ]
     },
     "execution_count": 168,
     "metadata": {},
     "output_type": "execute_result"
    }
   ],
   "source": [
    "comment_df['Video PublishedAt'] = pd.to_datetime(comment_df['Video PublishedAt'])\n",
    "monthly_hate_amount = comment_df.groupby(comment_df['Video PublishedAt'].dt.to_period('M'))['Hate Speech'].sum()\n",
    "monthly_hate_amount"
   ]
  },
  {
   "cell_type": "code",
   "execution_count": 169,
   "metadata": {},
   "outputs": [
    {
     "data": {
      "text/plain": [
       "Video PublishedAt\n",
       "2020-01    0.441886\n",
       "2020-02    0.443404\n",
       "2020-03    0.386435\n",
       "2020-04    0.322001\n",
       "2020-05    0.383086\n",
       "2020-06    0.475127\n",
       "2020-07    0.372409\n",
       "2020-08    0.365997\n",
       "2020-09    0.417827\n",
       "2020-10    0.290872\n",
       "2020-11    0.367612\n",
       "2020-12    0.327474\n",
       "2021-01    0.298273\n",
       "2021-02    0.224269\n",
       "2021-03    0.278728\n",
       "2021-04    0.345521\n",
       "2021-05    0.357973\n",
       "2021-06    0.344697\n",
       "2021-07    0.271475\n",
       "2021-08    0.353240\n",
       "2021-09    0.343279\n",
       "2021-10    0.392170\n",
       "2021-11    0.410242\n",
       "2021-12    0.405912\n",
       "Freq: M, Name: Hate Speech Score, dtype: float64"
      ]
     },
     "execution_count": 169,
     "metadata": {},
     "output_type": "execute_result"
    }
   ],
   "source": [
    "monthly_hate_intensity = comment_df.groupby(comment_df['Video PublishedAt'].dt.to_period('M'))['Hate Speech Score'].mean()\n",
    "monthly_hate_intensity"
   ]
  },
  {
   "cell_type": "markdown",
   "metadata": {},
   "source": [
    "### Google Searches"
   ]
  },
  {
   "cell_type": "code",
   "execution_count": 178,
   "metadata": {},
   "outputs": [
    {
     "name": "stderr",
     "output_type": "stream",
     "text": [
      "/var/folders/bz/72zd2hjs5t5drbxxvfh0xhph0000gn/T/ipykernel_21535/3616319333.py:3: FutureWarning: 'M' is deprecated and will be removed in a future version, please use 'ME' instead.\n",
      "  monthly_google = google_df['Chink + Chinaman + Chinkland + Gook + Chinese virus + China virus + Wuhan virus + Kung flu: (United States)'].resample('M').mean()\n"
     ]
    }
   ],
   "source": [
    "google_df.set_index('Week', inplace=True)\n",
    "\n",
    "monthly_google = google_df['Chink + Chinaman + Chinkland + Gook + Chinese virus + China virus + Wuhan virus + Kung flu: (United States)'].resample('M').mean()"
   ]
  },
  {
   "cell_type": "code",
   "execution_count": 181,
   "metadata": {},
   "outputs": [
    {
     "data": {
      "text/plain": [
       "Week\n",
       "2020-01-31    51.25\n",
       "2020-02-29    29.00\n",
       "2020-03-31    51.40\n",
       "2020-04-30    16.00\n",
       "2020-05-31     5.60\n",
       "2020-06-30     7.50\n",
       "2020-07-31     4.75\n",
       "2020-08-31     3.40\n",
       "2020-09-30     3.25\n",
       "2020-10-31     2.25\n",
       "2020-11-30     2.40\n",
       "2020-12-31     2.50\n",
       "2021-01-31     3.20\n",
       "2021-02-28     2.50\n",
       "2021-03-31     2.25\n",
       "2021-04-30     2.50\n",
       "2021-05-31     2.80\n",
       "2021-06-30     2.00\n",
       "2021-07-31     2.00\n",
       "2021-08-31     2.00\n",
       "2021-09-30     2.00\n",
       "2021-10-31     2.00\n",
       "2021-11-30     2.00\n",
       "2021-12-31     2.00\n",
       "Freq: ME, Name: Chink + Chinaman + Chinkland + Gook + Chinese virus + China virus + Wuhan virus + Kung flu: (United States), dtype: float64"
      ]
     },
     "execution_count": 181,
     "metadata": {},
     "output_type": "execute_result"
    }
   ],
   "source": [
    "monthly_google = monthly_google.iloc[1:]\n",
    "monthly_google"
   ]
  },
  {
   "cell_type": "code",
   "execution_count": 195,
   "metadata": {},
   "outputs": [
    {
     "data": {
      "text/plain": [
       "Week\n",
       "2020-01    51.25\n",
       "2020-02    29.00\n",
       "2020-03    51.40\n",
       "2020-04    16.00\n",
       "2020-05     5.60\n",
       "2020-06     7.50\n",
       "2020-07     4.75\n",
       "2020-08     3.40\n",
       "2020-09     3.25\n",
       "2020-10     2.25\n",
       "2020-11     2.40\n",
       "2020-12     2.50\n",
       "2021-01     3.20\n",
       "2021-02     2.50\n",
       "2021-03     2.25\n",
       "2021-04     2.50\n",
       "2021-05     2.80\n",
       "2021-06     2.00\n",
       "2021-07     2.00\n",
       "2021-08     2.00\n",
       "2021-09     2.00\n",
       "2021-10     2.00\n",
       "2021-11     2.00\n",
       "2021-12     2.00\n",
       "Freq: M, Name: Chink + Chinaman + Chinkland + Gook + Chinese virus + China virus + Wuhan virus + Kung flu: (United States), dtype: float64"
      ]
     },
     "execution_count": 195,
     "metadata": {},
     "output_type": "execute_result"
    }
   ],
   "source": [
    "monthly_google.index = monthly_google.index.to_period('M')\n",
    "monthly_google"
   ]
  },
  {
   "cell_type": "markdown",
   "metadata": {},
   "source": [
    "### FBI Hate Crimes"
   ]
  },
  {
   "cell_type": "code",
   "execution_count": 187,
   "metadata": {},
   "outputs": [
    {
     "data": {
      "text/plain": [
       "incident_date\n",
       "2020-01     18\n",
       "2020-02     14\n",
       "2020-03     55\n",
       "2020-04     51\n",
       "2020-05     44\n",
       "2020-06     39\n",
       "2020-07     26\n",
       "2020-08     19\n",
       "2020-09     29\n",
       "2020-10     26\n",
       "2020-11     17\n",
       "2020-12     19\n",
       "2021-01     14\n",
       "2021-02     31\n",
       "2021-03    130\n",
       "2021-04    128\n",
       "2021-05     97\n",
       "2021-06    104\n",
       "2021-07     66\n",
       "2021-08     50\n",
       "2021-09     40\n",
       "2021-10     35\n",
       "2021-11     46\n",
       "2021-12     37\n",
       "Freq: M, dtype: int64"
      ]
     },
     "execution_count": 187,
     "metadata": {},
     "output_type": "execute_result"
    }
   ],
   "source": [
    "monthly_fbi"
   ]
  },
  {
   "cell_type": "markdown",
   "metadata": {},
   "source": [
    "### NCVS Hate Crimes"
   ]
  },
  {
   "cell_type": "code",
   "execution_count": 192,
   "metadata": {},
   "outputs": [
    {
     "data": {
      "text/html": [
       "<div>\n",
       "<style scoped>\n",
       "    .dataframe tbody tr th:only-of-type {\n",
       "        vertical-align: middle;\n",
       "    }\n",
       "\n",
       "    .dataframe tbody tr th {\n",
       "        vertical-align: top;\n",
       "    }\n",
       "\n",
       "    .dataframe thead th {\n",
       "        text-align: right;\n",
       "    }\n",
       "</style>\n",
       "<table border=\"1\" class=\"dataframe\">\n",
       "  <thead>\n",
       "    <tr style=\"text-align: right;\">\n",
       "      <th></th>\n",
       "      <th>Date</th>\n",
       "      <th>Value</th>\n",
       "    </tr>\n",
       "  </thead>\n",
       "  <tbody>\n",
       "    <tr>\n",
       "      <th>0</th>\n",
       "      <td>2020-09-01</td>\n",
       "      <td>3</td>\n",
       "    </tr>\n",
       "    <tr>\n",
       "      <th>1</th>\n",
       "      <td>2020-11-01</td>\n",
       "      <td>2</td>\n",
       "    </tr>\n",
       "    <tr>\n",
       "      <th>2</th>\n",
       "      <td>2020-12-01</td>\n",
       "      <td>2</td>\n",
       "    </tr>\n",
       "    <tr>\n",
       "      <th>3</th>\n",
       "      <td>2021-03-01</td>\n",
       "      <td>1</td>\n",
       "    </tr>\n",
       "    <tr>\n",
       "      <th>4</th>\n",
       "      <td>2021-04-01</td>\n",
       "      <td>1</td>\n",
       "    </tr>\n",
       "    <tr>\n",
       "      <th>5</th>\n",
       "      <td>2021-05-01</td>\n",
       "      <td>1</td>\n",
       "    </tr>\n",
       "    <tr>\n",
       "      <th>6</th>\n",
       "      <td>2021-06-01</td>\n",
       "      <td>4</td>\n",
       "    </tr>\n",
       "    <tr>\n",
       "      <th>7</th>\n",
       "      <td>2021-07-01</td>\n",
       "      <td>2</td>\n",
       "    </tr>\n",
       "    <tr>\n",
       "      <th>8</th>\n",
       "      <td>2021-11-01</td>\n",
       "      <td>1</td>\n",
       "    </tr>\n",
       "  </tbody>\n",
       "</table>\n",
       "</div>"
      ],
      "text/plain": [
       "        Date  Value\n",
       "0 2020-09-01      3\n",
       "1 2020-11-01      2\n",
       "2 2020-12-01      2\n",
       "3 2021-03-01      1\n",
       "4 2021-04-01      1\n",
       "5 2021-05-01      1\n",
       "6 2021-06-01      4\n",
       "7 2021-07-01      2\n",
       "8 2021-11-01      1"
      ]
     },
     "execution_count": 192,
     "metadata": {},
     "output_type": "execute_result"
    }
   ],
   "source": [
    "# NCVS data is in R, recreate the data in data frame\n",
    "ncvs = {\n",
    "    \"Date\": [\"2020-09-01\", \"2020-11-01\", \"2020-12-01\", \"2021-03-01\", \"2021-04-01\", \n",
    "             \"2021-05-01\", \"2021-06-01\", \"2021-07-01\", \"2021-11-01\"],\n",
    "    \"Value\": [3, 2, 2, 1, 1, 1, 4, 2, 1]\n",
    "}\n",
    "\n",
    "ncvs_df = pd.DataFrame(ncvs)\n",
    "\n",
    "ncvs_df['Date'] = pd.to_datetime(ncvs_df['Date'])\n",
    "ncvs_df"
   ]
  },
  {
   "cell_type": "code",
   "execution_count": 193,
   "metadata": {},
   "outputs": [
    {
     "data": {
      "text/plain": [
       "Date\n",
       "2020-09-01    3\n",
       "2020-11-01    2\n",
       "2020-12-01    2\n",
       "2021-03-01    1\n",
       "2021-04-01    1\n",
       "2021-05-01    1\n",
       "2021-06-01    4\n",
       "2021-07-01    2\n",
       "2021-11-01    1\n",
       "Name: Value, dtype: int64"
      ]
     },
     "execution_count": 193,
     "metadata": {},
     "output_type": "execute_result"
    }
   ],
   "source": [
    "monthly_ncvs = ncvs_df.set_index('Date')['Value']\n",
    "monthly_ncvs"
   ]
  },
  {
   "cell_type": "markdown",
   "metadata": {},
   "source": [
    "# Correlation Alaysis"
   ]
  },
  {
   "cell_type": "code",
   "execution_count": 196,
   "metadata": {},
   "outputs": [],
   "source": [
    "comment_google_fbi = pd.concat([monthly_hate_amount, monthly_hate_intensity, monthly_google, monthly_fbi], axis=1)"
   ]
  },
  {
   "cell_type": "code",
   "execution_count": 199,
   "metadata": {},
   "outputs": [],
   "source": [
    "comment_google_fbi = comment_google_fbi.rename(columns={\n",
    "    'Hate Speech': 'Hate Amount',\n",
    "    'Hate Speech Score': 'Hate Intensity',\n",
    "    'Chink + Chinaman + Chinkland + Gook + Chinese virus + China virus + Wuhan virus + Kung flu: (United States)': 'Sinophobic Google Search', \n",
    "    0: 'FBI Hate Crimes'})"
   ]
  },
  {
   "cell_type": "code",
   "execution_count": 201,
   "metadata": {},
   "outputs": [
    {
     "data": {
      "text/html": [
       "<div>\n",
       "<style scoped>\n",
       "    .dataframe tbody tr th:only-of-type {\n",
       "        vertical-align: middle;\n",
       "    }\n",
       "\n",
       "    .dataframe tbody tr th {\n",
       "        vertical-align: top;\n",
       "    }\n",
       "\n",
       "    .dataframe thead th {\n",
       "        text-align: right;\n",
       "    }\n",
       "</style>\n",
       "<table border=\"1\" class=\"dataframe\">\n",
       "  <thead>\n",
       "    <tr style=\"text-align: right;\">\n",
       "      <th></th>\n",
       "      <th>Hate Amount</th>\n",
       "      <th>Hate Intensity</th>\n",
       "      <th>Sinophobic Google Search</th>\n",
       "      <th>FBI Hate Crimes</th>\n",
       "    </tr>\n",
       "  </thead>\n",
       "  <tbody>\n",
       "    <tr>\n",
       "      <th>Hate Amount</th>\n",
       "      <td>1.000</td>\n",
       "      <td>0.254</td>\n",
       "      <td>0.105</td>\n",
       "      <td>-0.112</td>\n",
       "    </tr>\n",
       "    <tr>\n",
       "      <th>Hate Intensity</th>\n",
       "      <td>0.254</td>\n",
       "      <td>1.000</td>\n",
       "      <td>0.394</td>\n",
       "      <td>-0.267</td>\n",
       "    </tr>\n",
       "    <tr>\n",
       "      <th>Sinophobic Google Search</th>\n",
       "      <td>0.105</td>\n",
       "      <td>0.394</td>\n",
       "      <td>1.000</td>\n",
       "      <td>-0.182</td>\n",
       "    </tr>\n",
       "    <tr>\n",
       "      <th>FBI Hate Crimes</th>\n",
       "      <td>-0.112</td>\n",
       "      <td>-0.267</td>\n",
       "      <td>-0.182</td>\n",
       "      <td>1.000</td>\n",
       "    </tr>\n",
       "  </tbody>\n",
       "</table>\n",
       "</div>"
      ],
      "text/plain": [
       "                          Hate Amount  Hate Intensity  \\\n",
       "Hate Amount                     1.000           0.254   \n",
       "Hate Intensity                  0.254           1.000   \n",
       "Sinophobic Google Search        0.105           0.394   \n",
       "FBI Hate Crimes                -0.112          -0.267   \n",
       "\n",
       "                          Sinophobic Google Search  FBI Hate Crimes  \n",
       "Hate Amount                                  0.105           -0.112  \n",
       "Hate Intensity                               0.394           -0.267  \n",
       "Sinophobic Google Search                     1.000           -0.182  \n",
       "FBI Hate Crimes                             -0.182            1.000  "
      ]
     },
     "execution_count": 201,
     "metadata": {},
     "output_type": "execute_result"
    }
   ],
   "source": [
    "pearsoncorr = comment_google_fbi.corr(method='pearson')\n",
    "pearsoncorr.round(3)"
   ]
  },
  {
   "cell_type": "code",
   "execution_count": 202,
   "metadata": {},
   "outputs": [],
   "source": [
    "from sklearn.preprocessing import StandardScaler\n",
    "\n",
    "scaler = StandardScaler()\n",
    "comment_google_fbi_standardized = pd.DataFrame(scaler.fit_transform(comment_google_fbi), columns=comment_google_fbi.columns, index=comment_google_fbi.index)"
   ]
  },
  {
   "cell_type": "markdown",
   "metadata": {},
   "source": [
    "# Regression Analysis"
   ]
  },
  {
   "cell_type": "markdown",
   "metadata": {},
   "source": [
    "## 1. OLS (Ordinary Least Squares)"
   ]
  },
  {
   "cell_type": "code",
   "execution_count": 66,
   "metadata": {},
   "outputs": [],
   "source": [
    "import statsmodels.api as sm"
   ]
  },
  {
   "cell_type": "markdown",
   "metadata": {},
   "source": [
    "### 1.1 Hate Intensity and Amount"
   ]
  },
  {
   "cell_type": "code",
   "execution_count": 219,
   "metadata": {},
   "outputs": [
    {
     "name": "stdout",
     "output_type": "stream",
     "text": [
      "                            OLS Regression Results                            \n",
      "==============================================================================\n",
      "Dep. Variable:            Hate Amount   R-squared:                       0.065\n",
      "Model:                            OLS   Adj. R-squared:                  0.022\n",
      "Method:                 Least Squares   F-statistic:                     1.519\n",
      "Date:                Mon, 25 Mar 2024   Prob (F-statistic):              0.231\n",
      "Time:                        09:40:45   Log-Likelihood:                -33.254\n",
      "No. Observations:                  24   AIC:                             70.51\n",
      "Df Residuals:                      22   BIC:                             72.86\n",
      "Df Model:                           1                                         \n",
      "Covariance Type:            nonrobust                                         \n",
      "==================================================================================\n",
      "                     coef    std err          t      P>|t|      [0.025      0.975]\n",
      "----------------------------------------------------------------------------------\n",
      "const           2.776e-17      0.206   1.35e-16      1.000      -0.428       0.428\n",
      "Hate Intensity     0.2541      0.206      1.232      0.231      -0.174       0.682\n",
      "==============================================================================\n",
      "Omnibus:                       50.169   Durbin-Watson:                   1.991\n",
      "Prob(Omnibus):                  0.000   Jarque-Bera (JB):              252.145\n",
      "Skew:                           3.755   Prob(JB):                     1.77e-55\n",
      "Kurtosis:                      16.991   Cond. No.                         1.00\n",
      "==============================================================================\n",
      "\n",
      "Notes:\n",
      "[1] Standard Errors assume that the covariance matrix of the errors is correctly specified.\n"
     ]
    }
   ],
   "source": [
    "y = comment_google_fbi_standardized['Hate Amount']\n",
    "x = comment_google_fbi_standardized['Hate Intensity']\n",
    "\n",
    "x = sm.add_constant(x)\n",
    "model = sm.OLS(y, x).fit()\n",
    "\n",
    "print(model.summary())"
   ]
  },
  {
   "cell_type": "code",
   "execution_count": 220,
   "metadata": {},
   "outputs": [
    {
     "name": "stdout",
     "output_type": "stream",
     "text": [
      "                            OLS Regression Results                            \n",
      "==============================================================================\n",
      "Dep. Variable:         Hate Intensity   R-squared:                       0.065\n",
      "Model:                            OLS   Adj. R-squared:                  0.022\n",
      "Method:                 Least Squares   F-statistic:                     1.519\n",
      "Date:                Mon, 25 Mar 2024   Prob (F-statistic):              0.231\n",
      "Time:                        09:40:47   Log-Likelihood:                -33.254\n",
      "No. Observations:                  24   AIC:                             70.51\n",
      "Df Residuals:                      22   BIC:                             72.86\n",
      "Df Model:                           1                                         \n",
      "Covariance Type:            nonrobust                                         \n",
      "===============================================================================\n",
      "                  coef    std err          t      P>|t|      [0.025      0.975]\n",
      "-------------------------------------------------------------------------------\n",
      "const        8.153e-17      0.206   3.95e-16      1.000      -0.428       0.428\n",
      "Hate Amount     0.2541      0.206      1.232      0.231      -0.174       0.682\n",
      "==============================================================================\n",
      "Omnibus:                        0.299   Durbin-Watson:                   0.912\n",
      "Prob(Omnibus):                  0.861   Jarque-Bera (JB):                0.022\n",
      "Skew:                          -0.073   Prob(JB):                        0.989\n",
      "Kurtosis:                       2.966   Cond. No.                         1.00\n",
      "==============================================================================\n",
      "\n",
      "Notes:\n",
      "[1] Standard Errors assume that the covariance matrix of the errors is correctly specified.\n"
     ]
    }
   ],
   "source": [
    "x = comment_google_fbi_standardized['Hate Amount']\n",
    "y = comment_google_fbi_standardized['Hate Intensity']\n",
    "\n",
    "x = sm.add_constant(x)\n",
    "model = sm.OLS(y, x).fit()\n",
    "\n",
    "print(model.summary())"
   ]
  },
  {
   "cell_type": "markdown",
   "metadata": {},
   "source": [
    "- hate amount = 0.2541 * hate intensity + 2.776e-17\n",
    "- hate intensity = 0.2541 * hate amount + 8.153e-17"
   ]
  },
  {
   "cell_type": "code",
   "execution_count": 223,
   "metadata": {},
   "outputs": [
    {
     "data": {
      "image/png": "[encoded data removed]",
      "text/plain": [
       "<Figure size 432x288 with 1 Axes>"
      ]
     },
     "metadata": {
      "needs_background": "light"
     },
     "output_type": "display_data"
    }
   ],
   "source": [
    "x_values = x.values\n",
    "y_values = y.values\n",
    "\n",
    "plt.scatter(x_values[:, 1], y_values, label='Data')\n",
    "plt.plot(x_values[:, 1], model.predict(), color='red', label='Regression Line')\n",
    "plt.xlabel('Hate Intensity')\n",
    "plt.ylabel('Hate Amount')\n",
    "plt.title('OLS Regression of Hate Amount on Hate Intensity')\n",
    "plt.legend()\n",
    "plt.show()"
   ]
  },
  {
   "cell_type": "markdown",
   "metadata": {},
   "source": [
    "### 1.2 Google trends and hate amount"
   ]
  },
  {
   "cell_type": "code",
   "execution_count": 224,
   "metadata": {},
   "outputs": [
    {
     "name": "stdout",
     "output_type": "stream",
     "text": [
      "                            OLS Regression Results                            \n",
      "==============================================================================\n",
      "Dep. Variable:            Hate Amount   R-squared:                       0.011\n",
      "Model:                            OLS   Adj. R-squared:                 -0.034\n",
      "Method:                 Least Squares   F-statistic:                    0.2458\n",
      "Date:                Mon, 25 Mar 2024   Prob (F-statistic):              0.625\n",
      "Time:                        09:42:33   Log-Likelihood:                -33.921\n",
      "No. Observations:                  24   AIC:                             71.84\n",
      "Df Residuals:                      22   BIC:                             74.20\n",
      "Df Model:                           1                                         \n",
      "Covariance Type:            nonrobust                                         \n",
      "============================================================================================\n",
      "                               coef    std err          t      P>|t|      [0.025      0.975]\n",
      "--------------------------------------------------------------------------------------------\n",
      "const                     2.776e-17      0.212   1.31e-16      1.000      -0.440       0.440\n",
      "Sinophobic Google Search     0.1051      0.212      0.496      0.625      -0.335       0.545\n",
      "==============================================================================\n",
      "Omnibus:                       55.774   Durbin-Watson:                   2.098\n",
      "Prob(Omnibus):                  0.000   Jarque-Bera (JB):              350.022\n",
      "Skew:                           4.219   Prob(JB):                     9.86e-77\n",
      "Kurtosis:                      19.697   Cond. No.                         1.00\n",
      "==============================================================================\n",
      "\n",
      "Notes:\n",
      "[1] Standard Errors assume that the covariance matrix of the errors is correctly specified.\n"
     ]
    }
   ],
   "source": [
    "y = comment_google_fbi_standardized['Hate Amount']\n",
    "x = comment_google_fbi_standardized['Sinophobic Google Search']\n",
    "\n",
    "x = sm.add_constant(x)\n",
    "model = sm.OLS(y, x).fit()\n",
    "\n",
    "print(model.summary())"
   ]
  },
  {
   "cell_type": "code",
   "execution_count": 208,
   "metadata": {},
   "outputs": [
    {
     "name": "stdout",
     "output_type": "stream",
     "text": [
      "                               OLS Regression Results                               \n",
      "====================================================================================\n",
      "Dep. Variable:     Sinophobic Google Search   R-squared:                       0.011\n",
      "Model:                                  OLS   Adj. R-squared:                 -0.034\n",
      "Method:                       Least Squares   F-statistic:                    0.2458\n",
      "Date:                      Mon, 25 Mar 2024   Prob (F-statistic):              0.625\n",
      "Time:                              09:23:01   Log-Likelihood:                -33.921\n",
      "No. Observations:                        24   AIC:                             71.84\n",
      "Df Residuals:                            22   BIC:                             74.20\n",
      "Df Model:                                 1                                         \n",
      "Covariance Type:                  nonrobust                                         \n",
      "===============================================================================\n",
      "                  coef    std err          t      P>|t|      [0.025      0.975]\n",
      "-------------------------------------------------------------------------------\n",
      "const       -9.714e-17      0.212  -4.58e-16      1.000      -0.440       0.440\n",
      "Hate Amount     0.1051      0.212      0.496      0.625      -0.335       0.545\n",
      "==============================================================================\n",
      "Omnibus:                       25.265   Durbin-Watson:                   0.472\n",
      "Prob(Omnibus):                  0.000   Jarque-Bera (JB):               36.413\n",
      "Skew:                           2.293   Prob(JB):                     1.24e-08\n",
      "Kurtosis:                       6.921   Cond. No.                         1.00\n",
      "==============================================================================\n",
      "\n",
      "Notes:\n",
      "[1] Standard Errors assume that the covariance matrix of the errors is correctly specified.\n"
     ]
    }
   ],
   "source": [
    "x = comment_google_fbi_standardized['Hate Amount']\n",
    "y = comment_google_fbi_standardized['Sinophobic Google Search']\n",
    "\n",
    "x = sm.add_constant(x)\n",
    "model = sm.OLS(y, x).fit()\n",
    "\n",
    "print(model.summary())"
   ]
  },
  {
   "cell_type": "markdown",
   "metadata": {},
   "source": [
    "- hate amount = 0.1051 * Sinophobic Google search + 2.776e-17\n",
    "- Sinophobic Google search = 0.1051 * hate amount - 9.714e-17"
   ]
  },
  {
   "cell_type": "code",
   "execution_count": 225,
   "metadata": {},
   "outputs": [
    {
     "data": {
      "image/png": "[encoded data removed]",
      "text/plain": [
       "<Figure size 432x288 with 1 Axes>"
      ]
     },
     "metadata": {
      "needs_background": "light"
     },
     "output_type": "display_data"
    }
   ],
   "source": [
    "x_values = x.values\n",
    "y_values = y.values\n",
    "\n",
    "plt.scatter(x_values[:, 1], y_values, label='Data')\n",
    "plt.plot(x_values[:, 1], model.predict(), color='red', label='Regression Line')\n",
    "plt.xlabel('Sinophobic Google Search')\n",
    "plt.ylabel('Hate Amount')\n",
    "plt.title('OLS Regression of Hate Amount on Sinophobic Google Search')\n",
    "plt.legend()\n",
    "plt.show()"
   ]
  },
  {
   "cell_type": "markdown",
   "metadata": {},
   "source": [
    "### 1.3 Google trends and hate intensity"
   ]
  },
  {
   "cell_type": "code",
   "execution_count": 226,
   "metadata": {},
   "outputs": [
    {
     "name": "stdout",
     "output_type": "stream",
     "text": [
      "                            OLS Regression Results                            \n",
      "==============================================================================\n",
      "Dep. Variable:         Hate Intensity   R-squared:                       0.155\n",
      "Model:                            OLS   Adj. R-squared:                  0.117\n",
      "Method:                 Least Squares   F-statistic:                     4.040\n",
      "Date:                Mon, 25 Mar 2024   Prob (F-statistic):             0.0568\n",
      "Time:                        09:43:39   Log-Likelihood:                -32.031\n",
      "No. Observations:                  24   AIC:                             68.06\n",
      "Df Residuals:                      22   BIC:                             70.42\n",
      "Df Model:                           1                                         \n",
      "Covariance Type:            nonrobust                                         \n",
      "============================================================================================\n",
      "                               coef    std err          t      P>|t|      [0.025      0.975]\n",
      "--------------------------------------------------------------------------------------------\n",
      "const                     8.153e-17      0.196   4.16e-16      1.000      -0.406       0.406\n",
      "Sinophobic Google Search     0.3939      0.196      2.010      0.057      -0.013       0.800\n",
      "==============================================================================\n",
      "Omnibus:                        0.364   Durbin-Watson:                   1.277\n",
      "Prob(Omnibus):                  0.834   Jarque-Bera (JB):                0.138\n",
      "Skew:                          -0.178   Prob(JB):                        0.933\n",
      "Kurtosis:                       2.896   Cond. No.                         1.00\n",
      "==============================================================================\n",
      "\n",
      "Notes:\n",
      "[1] Standard Errors assume that the covariance matrix of the errors is correctly specified.\n"
     ]
    }
   ],
   "source": [
    "y = comment_google_fbi_standardized['Hate Intensity']\n",
    "x = comment_google_fbi_standardized['Sinophobic Google Search']\n",
    "\n",
    "x = sm.add_constant(x)\n",
    "model = sm.OLS(y, x).fit()\n",
    "\n",
    "print(model.summary())"
   ]
  },
  {
   "cell_type": "code",
   "execution_count": 210,
   "metadata": {},
   "outputs": [
    {
     "name": "stdout",
     "output_type": "stream",
     "text": [
      "                               OLS Regression Results                               \n",
      "====================================================================================\n",
      "Dep. Variable:     Sinophobic Google Search   R-squared:                       0.155\n",
      "Model:                                  OLS   Adj. R-squared:                  0.117\n",
      "Method:                       Least Squares   F-statistic:                     4.040\n",
      "Date:                      Mon, 25 Mar 2024   Prob (F-statistic):             0.0568\n",
      "Time:                              09:26:31   Log-Likelihood:                -32.031\n",
      "No. Observations:                        24   AIC:                             68.06\n",
      "Df Residuals:                            22   BIC:                             70.42\n",
      "Df Model:                                 1                                         \n",
      "Covariance Type:                  nonrobust                                         \n",
      "==================================================================================\n",
      "                     coef    std err          t      P>|t|      [0.025      0.975]\n",
      "----------------------------------------------------------------------------------\n",
      "const          -9.714e-17      0.196  -4.96e-16      1.000      -0.406       0.406\n",
      "Hate Intensity     0.3939      0.196      2.010      0.057      -0.013       0.800\n",
      "==============================================================================\n",
      "Omnibus:                       20.377   Durbin-Watson:                   0.731\n",
      "Prob(Omnibus):                  0.000   Jarque-Bera (JB):               24.711\n",
      "Skew:                           1.933   Prob(JB):                     4.31e-06\n",
      "Kurtosis:                       6.124   Cond. No.                         1.00\n",
      "==============================================================================\n",
      "\n",
      "Notes:\n",
      "[1] Standard Errors assume that the covariance matrix of the errors is correctly specified.\n"
     ]
    }
   ],
   "source": [
    "x = comment_google_fbi_standardized['Hate Intensity']\n",
    "y = comment_google_fbi_standardized['Sinophobic Google Search']\n",
    "\n",
    "x = sm.add_constant(x)\n",
    "model = sm.OLS(y, x).fit()\n",
    "\n",
    "print(model.summary())"
   ]
  },
  {
   "cell_type": "markdown",
   "metadata": {},
   "source": [
    "- hate intensity = 0.3939 * Sinophobic Google search + 8.153e-17\n",
    "- Sinophobic Google search = 0.3939 * hate intensity - 9.714e-17"
   ]
  },
  {
   "cell_type": "code",
   "execution_count": 227,
   "metadata": {},
   "outputs": [
    {
     "data": {
      "image/png": "[encoded data removed]",
      "text/plain": [
       "<Figure size 432x288 with 1 Axes>"
      ]
     },
     "metadata": {
      "needs_background": "light"
     },
     "output_type": "display_data"
    }
   ],
   "source": [
    "x_values = x.values\n",
    "y_values = y.values\n",
    "\n",
    "plt.scatter(x_values[:, 1], y_values, label='Data')\n",
    "plt.plot(x_values[:, 1], model.predict(), color='red', label='Regression Line')\n",
    "plt.xlabel('Sinophobic Google Search')\n",
    "plt.ylabel('Hate Intensity')\n",
    "plt.title('OLS Regression of Hate Intensity on Sinophobic Google Search')\n",
    "plt.legend()\n",
    "plt.show()"
   ]
  },
  {
   "cell_type": "markdown",
   "metadata": {},
   "source": [
    "### 1.4 FBI Hate Crimes and Hate Amount"
   ]
  },
  {
   "cell_type": "code",
   "execution_count": 229,
   "metadata": {},
   "outputs": [
    {
     "name": "stdout",
     "output_type": "stream",
     "text": [
      "                            OLS Regression Results                            \n",
      "==============================================================================\n",
      "Dep. Variable:            Hate Amount   R-squared:                       0.012\n",
      "Model:                            OLS   Adj. R-squared:                 -0.032\n",
      "Method:                 Least Squares   F-statistic:                    0.2779\n",
      "Date:                Mon, 25 Mar 2024   Prob (F-statistic):              0.603\n",
      "Time:                        09:44:57   Log-Likelihood:                -33.904\n",
      "No. Observations:                  24   AIC:                             71.81\n",
      "Df Residuals:                      22   BIC:                             74.16\n",
      "Df Model:                           1                                         \n",
      "Covariance Type:            nonrobust                                         \n",
      "===================================================================================\n",
      "                      coef    std err          t      P>|t|      [0.025      0.975]\n",
      "-----------------------------------------------------------------------------------\n",
      "const            2.776e-17      0.212   1.31e-16      1.000      -0.439       0.439\n",
      "FBI Hate Crimes    -0.1117      0.212     -0.527      0.603      -0.551       0.328\n",
      "==============================================================================\n",
      "Omnibus:                       52.959   Durbin-Watson:                   2.189\n",
      "Prob(Omnibus):                  0.000   Jarque-Bera (JB):              293.474\n",
      "Skew:                           3.996   Prob(JB):                     1.87e-64\n",
      "Kurtosis:                      18.152   Cond. No.                         1.00\n",
      "==============================================================================\n",
      "\n",
      "Notes:\n",
      "[1] Standard Errors assume that the covariance matrix of the errors is correctly specified.\n"
     ]
    }
   ],
   "source": [
    "y = comment_google_fbi_standardized['Hate Amount']\n",
    "x = comment_google_fbi_standardized['FBI Hate Crimes']\n",
    "\n",
    "x = sm.add_constant(x)\n",
    "model = sm.OLS(y, x).fit()\n",
    "\n",
    "print(model.summary())"
   ]
  },
  {
   "cell_type": "code",
   "execution_count": 213,
   "metadata": {},
   "outputs": [
    {
     "name": "stdout",
     "output_type": "stream",
     "text": [
      "                            OLS Regression Results                            \n",
      "==============================================================================\n",
      "Dep. Variable:        FBI Hate Crimes   R-squared:                       0.012\n",
      "Model:                            OLS   Adj. R-squared:                 -0.032\n",
      "Method:                 Least Squares   F-statistic:                    0.2779\n",
      "Date:                Mon, 25 Mar 2024   Prob (F-statistic):              0.603\n",
      "Time:                        09:30:40   Log-Likelihood:                -33.904\n",
      "No. Observations:                  24   AIC:                             71.81\n",
      "Df Residuals:                      22   BIC:                             74.16\n",
      "Df Model:                           1                                         \n",
      "Covariance Type:            nonrobust                                         \n",
      "===============================================================================\n",
      "                  coef    std err          t      P>|t|      [0.025      0.975]\n",
      "-------------------------------------------------------------------------------\n",
      "const         1.11e-16      0.212   5.24e-16      1.000      -0.439       0.439\n",
      "Hate Amount    -0.1117      0.212     -0.527      0.603      -0.551       0.328\n",
      "==============================================================================\n",
      "Omnibus:                        8.396   Durbin-Watson:                   0.638\n",
      "Prob(Omnibus):                  0.015   Jarque-Bera (JB):                6.673\n",
      "Skew:                           1.258   Prob(JB):                       0.0356\n",
      "Kurtosis:                       3.584   Cond. No.                         1.00\n",
      "==============================================================================\n",
      "\n",
      "Notes:\n",
      "[1] Standard Errors assume that the covariance matrix of the errors is correctly specified.\n"
     ]
    }
   ],
   "source": [
    "x = comment_google_fbi_standardized['Hate Amount']\n",
    "y = comment_google_fbi_standardized['FBI Hate Crimes']\n",
    "\n",
    "x = sm.add_constant(x)\n",
    "model = sm.OLS(y, x).fit()\n",
    "\n",
    "print(model.summary())"
   ]
  },
  {
   "cell_type": "markdown",
   "metadata": {},
   "source": [
    "- hate amount = -0.1117 * FBI hate crimes + 2.776e-17\n",
    "- FBI hate crimes = -0.1117 * hate amount + 1.11e-16"
   ]
  },
  {
   "cell_type": "code",
   "execution_count": 230,
   "metadata": {},
   "outputs": [
    {
     "data": {
      "image/png": "[encoded data removed]",
      "text/plain": [
       "<Figure size 432x288 with 1 Axes>"
      ]
     },
     "metadata": {
      "needs_background": "light"
     },
     "output_type": "display_data"
    }
   ],
   "source": [
    "x_values = x.values\n",
    "y_values = y.values\n",
    "\n",
    "plt.scatter(x_values[:, 1], y_values, label='Data')\n",
    "plt.plot(x_values[:, 1], model.predict(), color='red', label='Regression Line')\n",
    "plt.xlabel('FBI Hate Crimes')\n",
    "plt.ylabel('Hate Amount')\n",
    "plt.title('OLS Regression of Hate Amount on FBI Hate Crimes')\n",
    "plt.legend()\n",
    "plt.show()"
   ]
  },
  {
   "cell_type": "markdown",
   "metadata": {},
   "source": [
    "### 1.5 FBI Hate Crimes and Hate Intensity"
   ]
  },
  {
   "cell_type": "code",
   "execution_count": 231,
   "metadata": {},
   "outputs": [
    {
     "name": "stdout",
     "output_type": "stream",
     "text": [
      "                            OLS Regression Results                            \n",
      "==============================================================================\n",
      "Dep. Variable:         Hate Intensity   R-squared:                       0.071\n",
      "Model:                            OLS   Adj. R-squared:                  0.029\n",
      "Method:                 Least Squares   F-statistic:                     1.685\n",
      "Date:                Mon, 25 Mar 2024   Prob (F-statistic):              0.208\n",
      "Time:                        09:45:12   Log-Likelihood:                -33.169\n",
      "No. Observations:                  24   AIC:                             70.34\n",
      "Df Residuals:                      22   BIC:                             72.69\n",
      "Df Model:                           1                                         \n",
      "Covariance Type:            nonrobust                                         \n",
      "===================================================================================\n",
      "                      coef    std err          t      P>|t|      [0.025      0.975]\n",
      "-----------------------------------------------------------------------------------\n",
      "const            8.153e-17      0.205   3.97e-16      1.000      -0.426       0.426\n",
      "FBI Hate Crimes    -0.2667      0.205     -1.298      0.208      -0.693       0.159\n",
      "==============================================================================\n",
      "Omnibus:                        1.722   Durbin-Watson:                   1.210\n",
      "Prob(Omnibus):                  0.423   Jarque-Bera (JB):                0.917\n",
      "Skew:                          -0.476   Prob(JB):                        0.632\n",
      "Kurtosis:                       3.104   Cond. No.                         1.00\n",
      "==============================================================================\n",
      "\n",
      "Notes:\n",
      "[1] Standard Errors assume that the covariance matrix of the errors is correctly specified.\n"
     ]
    }
   ],
   "source": [
    "y = comment_google_fbi_standardized['Hate Intensity']\n",
    "x = comment_google_fbi_standardized['FBI Hate Crimes']\n",
    "\n",
    "x = sm.add_constant(x)\n",
    "model = sm.OLS(y, x).fit()\n",
    "\n",
    "print(model.summary())"
   ]
  },
  {
   "cell_type": "code",
   "execution_count": 215,
   "metadata": {},
   "outputs": [
    {
     "name": "stdout",
     "output_type": "stream",
     "text": [
      "                            OLS Regression Results                            \n",
      "==============================================================================\n",
      "Dep. Variable:        FBI Hate Crimes   R-squared:                       0.071\n",
      "Model:                            OLS   Adj. R-squared:                  0.029\n",
      "Method:                 Least Squares   F-statistic:                     1.685\n",
      "Date:                Mon, 25 Mar 2024   Prob (F-statistic):              0.208\n",
      "Time:                        09:32:36   Log-Likelihood:                -33.169\n",
      "No. Observations:                  24   AIC:                             70.34\n",
      "Df Residuals:                      22   BIC:                             72.69\n",
      "Df Model:                           1                                         \n",
      "Covariance Type:            nonrobust                                         \n",
      "==================================================================================\n",
      "                     coef    std err          t      P>|t|      [0.025      0.975]\n",
      "----------------------------------------------------------------------------------\n",
      "const            1.11e-16      0.205    5.4e-16      1.000      -0.426       0.426\n",
      "Hate Intensity    -0.2667      0.205     -1.298      0.208      -0.693       0.159\n",
      "==============================================================================\n",
      "Omnibus:                        6.152   Durbin-Watson:                   0.739\n",
      "Prob(Omnibus):                  0.046   Jarque-Bera (JB):                4.605\n",
      "Skew:                           1.061   Prob(JB):                        0.100\n",
      "Kurtosis:                       3.317   Cond. No.                         1.00\n",
      "==============================================================================\n",
      "\n",
      "Notes:\n",
      "[1] Standard Errors assume that the covariance matrix of the errors is correctly specified.\n"
     ]
    }
   ],
   "source": [
    "x = comment_google_fbi_standardized['Hate Intensity']\n",
    "y = comment_google_fbi_standardized['FBI Hate Crimes']\n",
    "\n",
    "x = sm.add_constant(x)\n",
    "model = sm.OLS(y, x).fit()\n",
    "\n",
    "print(model.summary())"
   ]
  },
  {
   "cell_type": "markdown",
   "metadata": {},
   "source": [
    "- hate intensity = -0.2667 * FBI hate crimes + 8.153e-17\n",
    "- FBI hate crimes = -0.2667 * hate intensity + 1.11e-16"
   ]
  },
  {
   "cell_type": "code",
   "execution_count": 232,
   "metadata": {},
   "outputs": [
    {
     "data": {
      "image/png": "[encoded data removed]",
      "text/plain": [
       "<Figure size 432x288 with 1 Axes>"
      ]
     },
     "metadata": {
      "needs_background": "light"
     },
     "output_type": "display_data"
    }
   ],
   "source": [
    "x_values = x.values\n",
    "y_values = y.values\n",
    "\n",
    "plt.scatter(x_values[:, 1], y_values, label='Data')\n",
    "plt.plot(x_values[:, 1], model.predict(), color='red', label='Regression Line')\n",
    "plt.xlabel('FBI Hate Crimes')\n",
    "plt.ylabel('Hate Intensity')\n",
    "plt.title('OLS Regression of Hate Intensity on FBI Hate Crimes')\n",
    "plt.legend()\n",
    "plt.show()"
   ]
  },
  {
   "cell_type": "markdown",
   "metadata": {},
   "source": [
    "### 1.6 FBI Hate Crimes and Sinophobic Google Searches"
   ]
  },
  {
   "cell_type": "code",
   "execution_count": 233,
   "metadata": {},
   "outputs": [
    {
     "name": "stdout",
     "output_type": "stream",
     "text": [
      "                               OLS Regression Results                               \n",
      "====================================================================================\n",
      "Dep. Variable:     Sinophobic Google Search   R-squared:                       0.033\n",
      "Model:                                  OLS   Adj. R-squared:                 -0.011\n",
      "Method:                       Least Squares   F-statistic:                    0.7503\n",
      "Date:                      Mon, 25 Mar 2024   Prob (F-statistic):              0.396\n",
      "Time:                              09:45:42   Log-Likelihood:                -33.652\n",
      "No. Observations:                        24   AIC:                             71.30\n",
      "Df Residuals:                            22   BIC:                             73.66\n",
      "Df Model:                                 1                                         \n",
      "Covariance Type:                  nonrobust                                         \n",
      "===================================================================================\n",
      "                      coef    std err          t      P>|t|      [0.025      0.975]\n",
      "-----------------------------------------------------------------------------------\n",
      "const           -9.714e-17      0.210  -4.63e-16      1.000      -0.435       0.435\n",
      "FBI Hate Crimes    -0.1816      0.210     -0.866      0.396      -0.616       0.253\n",
      "==============================================================================\n",
      "Omnibus:                       25.585   Durbin-Watson:                   0.570\n",
      "Prob(Omnibus):                  0.000   Jarque-Bera (JB):               37.683\n",
      "Skew:                           2.297   Prob(JB):                     6.57e-09\n",
      "Kurtosis:                       7.073   Cond. No.                         1.00\n",
      "==============================================================================\n",
      "\n",
      "Notes:\n",
      "[1] Standard Errors assume that the covariance matrix of the errors is correctly specified.\n"
     ]
    }
   ],
   "source": [
    "y = comment_google_fbi_standardized['Sinophobic Google Search']\n",
    "x = comment_google_fbi_standardized['FBI Hate Crimes']\n",
    "\n",
    "x = sm.add_constant(x)\n",
    "model = sm.OLS(y, x).fit()\n",
    "\n",
    "print(model.summary())"
   ]
  },
  {
   "cell_type": "code",
   "execution_count": 218,
   "metadata": {},
   "outputs": [
    {
     "name": "stdout",
     "output_type": "stream",
     "text": [
      "                            OLS Regression Results                            \n",
      "==============================================================================\n",
      "Dep. Variable:        FBI Hate Crimes   R-squared:                       0.033\n",
      "Model:                            OLS   Adj. R-squared:                 -0.011\n",
      "Method:                 Least Squares   F-statistic:                    0.7503\n",
      "Date:                Mon, 25 Mar 2024   Prob (F-statistic):              0.396\n",
      "Time:                        09:35:13   Log-Likelihood:                -33.652\n",
      "No. Observations:                  24   AIC:                             71.30\n",
      "Df Residuals:                      22   BIC:                             73.66\n",
      "Df Model:                           1                                         \n",
      "Covariance Type:            nonrobust                                         \n",
      "============================================================================================\n",
      "                               coef    std err          t      P>|t|      [0.025      0.975]\n",
      "--------------------------------------------------------------------------------------------\n",
      "const                      1.11e-16      0.210    5.3e-16      1.000      -0.435       0.435\n",
      "Sinophobic Google Search    -0.1816      0.210     -0.866      0.396      -0.616       0.253\n",
      "==============================================================================\n",
      "Omnibus:                        7.978   Durbin-Watson:                   0.645\n",
      "Prob(Omnibus):                  0.019   Jarque-Bera (JB):                6.376\n",
      "Skew:                           1.242   Prob(JB):                       0.0413\n",
      "Kurtosis:                       3.458   Cond. No.                         1.00\n",
      "==============================================================================\n",
      "\n",
      "Notes:\n",
      "[1] Standard Errors assume that the covariance matrix of the errors is correctly specified.\n"
     ]
    }
   ],
   "source": [
    "x = comment_google_fbi_standardized['Sinophobic Google Search']\n",
    "y = comment_google_fbi_standardized['FBI Hate Crimes']\n",
    "\n",
    "x = sm.add_constant(x)\n",
    "model = sm.OLS(y, x).fit()\n",
    "\n",
    "print(model.summary())"
   ]
  },
  {
   "cell_type": "markdown",
   "metadata": {},
   "source": [
    "- Sinophobic Google search = -0.1816 * FBI hate crimes - 9.714e-17\n",
    "- FBI hate crimes = -0.1816 * Sinophobic Google search + 1.11e-16"
   ]
  },
  {
   "cell_type": "code",
   "execution_count": 234,
   "metadata": {},
   "outputs": [
    {
     "data": {
      "image/png": "[encoded data removed]",
      "text/plain": [
       "<Figure size 432x288 with 1 Axes>"
      ]
     },
     "metadata": {
      "needs_background": "light"
     },
     "output_type": "display_data"
    }
   ],
   "source": [
    "x_values = x.values\n",
    "y_values = y.values\n",
    "\n",
    "plt.scatter(x_values[:, 1], y_values, label='Data')\n",
    "plt.plot(x_values[:, 1], model.predict(), color='red', label='Regression Line')\n",
    "plt.xlabel('FBI Hate Crimes')\n",
    "plt.ylabel('Sinophobic Google Search')\n",
    "plt.title('OLS Regression of Sinophobic Google Search on FBI Hate Crimes')\n",
    "plt.legend()\n",
    "plt.show()"
   ]
  },
  {
   "cell_type": "markdown",
   "metadata": {},
   "source": [
    "## 2. VAR (Vector Autoregression)"
   ]
  },
  {
   "cell_type": "markdown",
   "metadata": {},
   "source": [
    "A VAR(p) model for a multivariate time series is a regression model for outcomes at a specified time t and time lagged predictors, with p indicating the lag (e.g., p = 1 refers to the observation previous to t; p = 2 refers to two observations prior to t, and so on ).\n",
    "- Testing Stationarity\n",
    "- Selecting Lag Length\n",
    "- Building the VAR Model\n",
    "- Testing for Residual Autocorrelation\n",
    "- Assessing Stability of the VAR Model\n",
    "- Evaluating Granger Causality"
   ]
  },
  {
   "cell_type": "markdown",
   "metadata": {},
   "source": [
    "### 2.1 Test Stationarity - Augmented Dickey-Fuller Test\n",
    "\n",
    "Stationarity is critical to development of a VAR model because in its absence, a model’s statistics such as means and correlations will not accurately describe the time series signal.\n",
    "\n",
    "The augmented Dickey-Fuller test is used to test stationarity. The null hypothesis is that the time series is nonstationary and the alternative is that the series is stationary. Rejection of the null hypothesis indicates that the series does not need transformation to achieve stationarity and modeling can proceed to the lag length selection step.\n",
    "- Null Hypothesis (HO): Series is non-stationary, or series has a unit root.\n",
    "- Alternate Hypothesis(HA): Series is stationary, or series has no unit root.\n",
    "\n",
    "Citation: https://www.analyticsvidhya.com/blog/2021/06/statistical-tests-to-check-stationarity-in-time-series-part-1/"
   ]
  },
  {
   "cell_type": "code",
   "execution_count": 103,
   "metadata": {},
   "outputs": [],
   "source": [
    "from statsmodels.tsa.stattools import adfuller"
   ]
  },
  {
   "cell_type": "code",
   "execution_count": 104,
   "metadata": {},
   "outputs": [],
   "source": [
    "def adf_test(timeseries):\n",
    "    print ('Results of Augmented Dickey-Fuller Test:')\n",
    "    dftest = adfuller(timeseries, autolag='AIC')\n",
    "    dfoutput = pd.Series(dftest[0:4], index=['Test Statistic','p-value','#Lags Used','Number of Observations Used'])\n",
    "    for key,value in dftest[4].items():\n",
    "        dfoutput['Critical Value (%s)'%key] = value\n",
    "    print (dfoutput)"
   ]
  },
  {
   "cell_type": "code",
   "execution_count": 236,
   "metadata": {},
   "outputs": [
    {
     "data": {
      "text/html": [
       "<div>\n",
       "<style scoped>\n",
       "    .dataframe tbody tr th:only-of-type {\n",
       "        vertical-align: middle;\n",
       "    }\n",
       "\n",
       "    .dataframe tbody tr th {\n",
       "        vertical-align: top;\n",
       "    }\n",
       "\n",
       "    .dataframe thead th {\n",
       "        text-align: right;\n",
       "    }\n",
       "</style>\n",
       "<table border=\"1\" class=\"dataframe\">\n",
       "  <thead>\n",
       "    <tr style=\"text-align: right;\">\n",
       "      <th></th>\n",
       "      <th>Hate Amount</th>\n",
       "      <th>Hate Intensity</th>\n",
       "      <th>Sinophobic Google Search</th>\n",
       "      <th>FBI Hate Crimes</th>\n",
       "    </tr>\n",
       "  </thead>\n",
       "  <tbody>\n",
       "    <tr>\n",
       "      <th>2020-01</th>\n",
       "      <td>-0.226219</td>\n",
       "      <td>1.414206</td>\n",
       "      <td>3.015082</td>\n",
       "      <td>-0.873908</td>\n",
       "    </tr>\n",
       "    <tr>\n",
       "      <th>2020-02</th>\n",
       "      <td>-0.187570</td>\n",
       "      <td>1.440158</td>\n",
       "      <td>1.441919</td>\n",
       "      <td>-0.993247</td>\n",
       "    </tr>\n",
       "    <tr>\n",
       "      <th>2020-03</th>\n",
       "      <td>1.122811</td>\n",
       "      <td>0.466240</td>\n",
       "      <td>3.025688</td>\n",
       "      <td>0.229976</td>\n",
       "    </tr>\n",
       "    <tr>\n",
       "      <th>2020-04</th>\n",
       "      <td>-0.347687</td>\n",
       "      <td>-0.635303</td>\n",
       "      <td>0.522767</td>\n",
       "      <td>0.110637</td>\n",
       "    </tr>\n",
       "    <tr>\n",
       "      <th>2020-05</th>\n",
       "      <td>-0.113953</td>\n",
       "      <td>0.408987</td>\n",
       "      <td>-0.212554</td>\n",
       "      <td>-0.098206</td>\n",
       "    </tr>\n",
       "    <tr>\n",
       "      <th>2020-06</th>\n",
       "      <td>-0.259346</td>\n",
       "      <td>1.982486</td>\n",
       "      <td>-0.078216</td>\n",
       "      <td>-0.247379</td>\n",
       "    </tr>\n",
       "    <tr>\n",
       "      <th>2020-07</th>\n",
       "      <td>-0.292474</td>\n",
       "      <td>0.226451</td>\n",
       "      <td>-0.272652</td>\n",
       "      <td>-0.635231</td>\n",
       "    </tr>\n",
       "    <tr>\n",
       "      <th>2020-08</th>\n",
       "      <td>-0.358729</td>\n",
       "      <td>0.116839</td>\n",
       "      <td>-0.368103</td>\n",
       "      <td>-0.844074</td>\n",
       "    </tr>\n",
       "    <tr>\n",
       "      <th>2020-09</th>\n",
       "      <td>4.595689</td>\n",
       "      <td>1.002906</td>\n",
       "      <td>-0.378708</td>\n",
       "      <td>-0.545727</td>\n",
       "    </tr>\n",
       "    <tr>\n",
       "      <th>2020-10</th>\n",
       "      <td>-0.123155</td>\n",
       "      <td>-1.167472</td>\n",
       "      <td>-0.449412</td>\n",
       "      <td>-0.635231</td>\n",
       "    </tr>\n",
       "    <tr>\n",
       "      <th>2020-11</th>\n",
       "      <td>-0.228059</td>\n",
       "      <td>0.144433</td>\n",
       "      <td>-0.438806</td>\n",
       "      <td>-0.903743</td>\n",
       "    </tr>\n",
       "    <tr>\n",
       "      <th>2020-12</th>\n",
       "      <td>-0.281431</td>\n",
       "      <td>-0.541742</td>\n",
       "      <td>-0.431736</td>\n",
       "      <td>-0.844074</td>\n",
       "    </tr>\n",
       "    <tr>\n",
       "      <th>2021-01</th>\n",
       "      <td>-0.345846</td>\n",
       "      <td>-1.040960</td>\n",
       "      <td>-0.382243</td>\n",
       "      <td>-0.993247</td>\n",
       "    </tr>\n",
       "    <tr>\n",
       "      <th>2021-02</th>\n",
       "      <td>-0.356889</td>\n",
       "      <td>-2.306093</td>\n",
       "      <td>-0.431736</td>\n",
       "      <td>-0.486057</td>\n",
       "    </tr>\n",
       "    <tr>\n",
       "      <th>2021-03</th>\n",
       "      <td>-0.349527</td>\n",
       "      <td>-1.375080</td>\n",
       "      <td>-0.449412</td>\n",
       "      <td>2.467579</td>\n",
       "    </tr>\n",
       "    <tr>\n",
       "      <th>2021-04</th>\n",
       "      <td>-0.340325</td>\n",
       "      <td>-0.233214</td>\n",
       "      <td>-0.431736</td>\n",
       "      <td>2.407910</td>\n",
       "    </tr>\n",
       "    <tr>\n",
       "      <th>2021-05</th>\n",
       "      <td>-0.246463</td>\n",
       "      <td>-0.020338</td>\n",
       "      <td>-0.410525</td>\n",
       "      <td>1.483034</td>\n",
       "    </tr>\n",
       "    <tr>\n",
       "      <th>2021-06</th>\n",
       "      <td>-0.240942</td>\n",
       "      <td>-0.247308</td>\n",
       "      <td>-0.467088</td>\n",
       "      <td>1.691877</td>\n",
       "    </tr>\n",
       "    <tr>\n",
       "      <th>2021-07</th>\n",
       "      <td>-0.299836</td>\n",
       "      <td>-1.499088</td>\n",
       "      <td>-0.467088</td>\n",
       "      <td>0.558158</td>\n",
       "    </tr>\n",
       "    <tr>\n",
       "      <th>2021-08</th>\n",
       "      <td>-0.101070</td>\n",
       "      <td>-0.101261</td>\n",
       "      <td>-0.467088</td>\n",
       "      <td>0.080802</td>\n",
       "    </tr>\n",
       "    <tr>\n",
       "      <th>2021-09</th>\n",
       "      <td>-0.213336</td>\n",
       "      <td>-0.271546</td>\n",
       "      <td>-0.467088</td>\n",
       "      <td>-0.217545</td>\n",
       "    </tr>\n",
       "    <tr>\n",
       "      <th>2021-10</th>\n",
       "      <td>-0.325601</td>\n",
       "      <td>0.564270</td>\n",
       "      <td>-0.467088</td>\n",
       "      <td>-0.366718</td>\n",
       "    </tr>\n",
       "    <tr>\n",
       "      <th>2021-11</th>\n",
       "      <td>-0.229899</td>\n",
       "      <td>0.873224</td>\n",
       "      <td>-0.467088</td>\n",
       "      <td>-0.038537</td>\n",
       "    </tr>\n",
       "    <tr>\n",
       "      <th>2021-12</th>\n",
       "      <td>-0.250144</td>\n",
       "      <td>0.799204</td>\n",
       "      <td>-0.467088</td>\n",
       "      <td>-0.307049</td>\n",
       "    </tr>\n",
       "  </tbody>\n",
       "</table>\n",
       "</div>"
      ],
      "text/plain": [
       "         Hate Amount  Hate Intensity  Sinophobic Google Search  \\\n",
       "2020-01    -0.226219        1.414206                  3.015082   \n",
       "2020-02    -0.187570        1.440158                  1.441919   \n",
       "2020-03     1.122811        0.466240                  3.025688   \n",
       "2020-04    -0.347687       -0.635303                  0.522767   \n",
       "2020-05    -0.113953        0.408987                 -0.212554   \n",
       "2020-06    -0.259346        1.982486                 -0.078216   \n",
       "2020-07    -0.292474        0.226451                 -0.272652   \n",
       "2020-08    -0.358729        0.116839                 -0.368103   \n",
       "2020-09     4.595689        1.002906                 -0.378708   \n",
       "2020-10    -0.123155       -1.167472                 -0.449412   \n",
       "2020-11    -0.228059        0.144433                 -0.438806   \n",
       "2020-12    -0.281431       -0.541742                 -0.431736   \n",
       "2021-01    -0.345846       -1.040960                 -0.382243   \n",
       "2021-02    -0.356889       -2.306093                 -0.431736   \n",
       "2021-03    -0.349527       -1.375080                 -0.449412   \n",
       "2021-04    -0.340325       -0.233214                 -0.431736   \n",
       "2021-05    -0.246463       -0.020338                 -0.410525   \n",
       "2021-06    -0.240942       -0.247308                 -0.467088   \n",
       "2021-07    -0.299836       -1.499088                 -0.467088   \n",
       "2021-08    -0.101070       -0.101261                 -0.467088   \n",
       "2021-09    -0.213336       -0.271546                 -0.467088   \n",
       "2021-10    -0.325601        0.564270                 -0.467088   \n",
       "2021-11    -0.229899        0.873224                 -0.467088   \n",
       "2021-12    -0.250144        0.799204                 -0.467088   \n",
       "\n",
       "         FBI Hate Crimes  \n",
       "2020-01        -0.873908  \n",
       "2020-02        -0.993247  \n",
       "2020-03         0.229976  \n",
       "2020-04         0.110637  \n",
       "2020-05        -0.098206  \n",
       "2020-06        -0.247379  \n",
       "2020-07        -0.635231  \n",
       "2020-08        -0.844074  \n",
       "2020-09        -0.545727  \n",
       "2020-10        -0.635231  \n",
       "2020-11        -0.903743  \n",
       "2020-12        -0.844074  \n",
       "2021-01        -0.993247  \n",
       "2021-02        -0.486057  \n",
       "2021-03         2.467579  \n",
       "2021-04         2.407910  \n",
       "2021-05         1.483034  \n",
       "2021-06         1.691877  \n",
       "2021-07         0.558158  \n",
       "2021-08         0.080802  \n",
       "2021-09        -0.217545  \n",
       "2021-10        -0.366718  \n",
       "2021-11        -0.038537  \n",
       "2021-12        -0.307049  "
      ]
     },
     "execution_count": 236,
     "metadata": {},
     "output_type": "execute_result"
    }
   ],
   "source": [
    "comment_google_fbi_standardized"
   ]
  },
  {
   "cell_type": "code",
   "execution_count": 237,
   "metadata": {},
   "outputs": [
    {
     "name": "stdout",
     "output_type": "stream",
     "text": [
      "Results of Augmented Dickey-Fuller Test:\n",
      "Test Statistic                 -4.878091\n",
      "p-value                         0.000038\n",
      "#Lags Used                      0.000000\n",
      "Number of Observations Used    23.000000\n",
      "Critical Value (1%)            -3.752928\n",
      "Critical Value (5%)            -2.998500\n",
      "Critical Value (10%)           -2.638967\n",
      "dtype: float64\n"
     ]
    }
   ],
   "source": [
    "adf_test(comment_google_fbi_standardized['Hate Amount'])"
   ]
  },
  {
   "cell_type": "code",
   "execution_count": 238,
   "metadata": {},
   "outputs": [
    {
     "name": "stdout",
     "output_type": "stream",
     "text": [
      "Results of Augmented Dickey-Fuller Test:\n",
      "Test Statistic                 -2.991123\n",
      "p-value                         0.035732\n",
      "#Lags Used                      0.000000\n",
      "Number of Observations Used    23.000000\n",
      "Critical Value (1%)            -3.752928\n",
      "Critical Value (5%)            -2.998500\n",
      "Critical Value (10%)           -2.638967\n",
      "dtype: float64\n"
     ]
    }
   ],
   "source": [
    "adf_test(comment_google_fbi_standardized['Hate Intensity'])"
   ]
  },
  {
   "cell_type": "code",
   "execution_count": 235,
   "metadata": {},
   "outputs": [
    {
     "name": "stdout",
     "output_type": "stream",
     "text": [
      "Results of Augmented Dickey-Fuller Test:\n",
      "Test Statistic                 -4.003023\n",
      "p-value                         0.001395\n",
      "#Lags Used                      9.000000\n",
      "Number of Observations Used    14.000000\n",
      "Critical Value (1%)            -4.012034\n",
      "Critical Value (5%)            -3.104184\n",
      "Critical Value (10%)           -2.690987\n",
      "dtype: float64\n"
     ]
    }
   ],
   "source": [
    "adf_test(comment_google_fbi_standardized['Sinophobic Google Search'])"
   ]
  },
  {
   "cell_type": "code",
   "execution_count": 239,
   "metadata": {},
   "outputs": [
    {
     "name": "stdout",
     "output_type": "stream",
     "text": [
      "Results of Augmented Dickey-Fuller Test:\n",
      "Test Statistic                 -1.983590\n",
      "p-value                         0.293814\n",
      "#Lags Used                      0.000000\n",
      "Number of Observations Used    23.000000\n",
      "Critical Value (1%)            -3.752928\n",
      "Critical Value (5%)            -2.998500\n",
      "Critical Value (10%)           -2.638967\n",
      "dtype: float64\n"
     ]
    }
   ],
   "source": [
    "adf_test(comment_google_fbi_standardized['FBI Hate Crimes'])"
   ]
  },
  {
   "cell_type": "markdown",
   "metadata": {},
   "source": [
    "Among YouTube comment hate amount, hate intensity, Sinophobic Google searches, and FBI anti-Asian hate crimes, only the last one is non-stationary, so need to difference hate crime time series."
   ]
  },
  {
   "cell_type": "markdown",
   "metadata": {},
   "source": [
    "### 2.2 Difference Non-Stationary"
   ]
  },
  {
   "cell_type": "code",
   "execution_count": 241,
   "metadata": {},
   "outputs": [
    {
     "data": {
      "text/plain": [
       "incident_date\n",
       "2020-01   -0.855508\n",
       "2020-02   -0.972334\n",
       "2020-03    0.225134\n",
       "2020-04    0.108308\n",
       "2020-05   -0.096138\n",
       "2020-06   -0.242171\n",
       "2020-07   -0.621856\n",
       "2020-08   -0.826302\n",
       "2020-09   -0.534236\n",
       "2020-10   -0.621856\n",
       "2020-11   -0.884715\n",
       "2020-12   -0.826302\n",
       "2021-01   -0.972334\n",
       "2021-02   -0.475823\n",
       "2021-03    2.415624\n",
       "2021-04    2.357211\n",
       "2021-05    1.451809\n",
       "2021-06    1.656254\n",
       "2021-07    0.546406\n",
       "2021-08    0.079101\n",
       "2021-09   -0.212964\n",
       "2021-10   -0.358997\n",
       "2021-11   -0.037725\n",
       "2021-12   -0.300584\n",
       "Freq: M, dtype: float64"
      ]
     },
     "execution_count": 241,
     "metadata": {},
     "output_type": "execute_result"
    }
   ],
   "source": [
    "mean = monthly_fbi.mean()\n",
    "std = monthly_fbi.std()\n",
    "\n",
    "# Standardize the FBI hate crime series\n",
    "monthly_fbi_standardized = (monthly_fbi - mean) / std\n",
    "monthly_fbi_standardized"
   ]
  },
  {
   "cell_type": "code",
   "execution_count": 242,
   "metadata": {},
   "outputs": [],
   "source": [
    "monthly_fbi_diff = monthly_fbi_standardized.diff().dropna()"
   ]
  },
  {
   "cell_type": "code",
   "execution_count": 243,
   "metadata": {},
   "outputs": [
    {
     "name": "stdout",
     "output_type": "stream",
     "text": [
      "Results of Augmented Dickey-Fuller Test:\n",
      "Test Statistic                 -4.067213\n",
      "p-value                         0.001097\n",
      "#Lags Used                      0.000000\n",
      "Number of Observations Used    22.000000\n",
      "Critical Value (1%)            -3.769733\n",
      "Critical Value (5%)            -3.005426\n",
      "Critical Value (10%)           -2.642501\n",
      "dtype: float64\n"
     ]
    }
   ],
   "source": [
    "adf_test(monthly_fbi_diff)"
   ]
  },
  {
   "cell_type": "code",
   "execution_count": 246,
   "metadata": {},
   "outputs": [],
   "source": [
    "comment_google_fbi_standardized['FBI Hate Crimes'] = monthly_fbi_diff.to_frame(name='FBI Hate Crimes')"
   ]
  },
  {
   "cell_type": "code",
   "execution_count": 252,
   "metadata": {},
   "outputs": [],
   "source": [
    "comment_google_fbi_standardized['FBI Hate Crimes'] = comment_google_fbi_standardized['FBI Hate Crimes'].fillna(0)"
   ]
  },
  {
   "cell_type": "code",
   "execution_count": 253,
   "metadata": {},
   "outputs": [
    {
     "name": "stdout",
     "output_type": "stream",
     "text": [
      "Results of Augmented Dickey-Fuller Test:\n",
      "Test Statistic                 -4.162875\n",
      "p-value                         0.000761\n",
      "#Lags Used                      0.000000\n",
      "Number of Observations Used    23.000000\n",
      "Critical Value (1%)            -3.752928\n",
      "Critical Value (5%)            -2.998500\n",
      "Critical Value (10%)           -2.638967\n",
      "dtype: float64\n"
     ]
    }
   ],
   "source": [
    "adf_test(comment_google_fbi_standardized['FBI Hate Crimes'])"
   ]
  },
  {
   "cell_type": "markdown",
   "metadata": {},
   "source": [
    "### 2.3 Select Lag Length and Build the VAR model"
   ]
  },
  {
   "cell_type": "code",
   "execution_count": 254,
   "metadata": {},
   "outputs": [
    {
     "name": "stdout",
     "output_type": "stream",
     "text": [
      "{'aic': 3, 'bic': 3, 'hqic': 3, 'fpe': 3}\n"
     ]
    }
   ],
   "source": [
    "from statsmodels.tsa.api import VAR\n",
    "\n",
    "model = VAR(comment_google_fbi_standardized)\n",
    "optimal_order = model.select_order()\n",
    "print(optimal_order.selected_orders)"
   ]
  },
  {
   "cell_type": "code",
   "execution_count": 255,
   "metadata": {},
   "outputs": [
    {
     "data": {
      "text/html": [
       "<table class=\"simpletable\">\n",
       "<caption>VAR Order Selection (* highlights the minimums)</caption>\n",
       "<tr>\n",
       "  <td></td>      <th>AIC</th>         <th>BIC</th>         <th>FPE</th>        <th>HQIC</th>    \n",
       "</tr>\n",
       "<tr>\n",
       "  <th>0</th> <td>    -3.445</td>  <td>    -3.246</td>  <td>   0.03193</td>  <td>    -3.401</td> \n",
       "</tr>\n",
       "<tr>\n",
       "  <th>1</th> <td>    -5.007</td>  <td>    -4.012</td>  <td>  0.006947</td>  <td>    -4.791</td> \n",
       "</tr>\n",
       "<tr>\n",
       "  <th>2</th> <td>    -3.864</td>  <td>    -2.074</td>  <td>   0.02658</td>  <td>    -3.476</td> \n",
       "</tr>\n",
       "<tr>\n",
       "  <th>3</th> <td>    -6.605*</td> <td>    -4.019*</td> <td>  0.003120*</td> <td>    -6.044*</td>\n",
       "</tr>\n",
       "</table>"
      ],
      "text/latex": [
       "\\begin{center}\n",
       "\\begin{tabular}{lcccc}\n",
       "\\toprule\n",
       "           & \\textbf{AIC} & \\textbf{BIC} & \\textbf{FPE} & \\textbf{HQIC}  \\\\\n",
       "\\midrule\n",
       "\\textbf{0} &      -3.445  &      -3.246  &     0.03193  &       -3.401   \\\\\n",
       "\\textbf{1} &      -5.007  &      -4.012  &    0.006947  &       -4.791   \\\\\n",
       "\\textbf{2} &      -3.864  &      -2.074  &     0.02658  &       -3.476   \\\\\n",
       "\\textbf{3} &     -6.605*  &     -4.019*  &   0.003120*  &      -6.044*   \\\\\n",
       "\\bottomrule\n",
       "\\end{tabular}\n",
       "%\\caption{VAR Order Selection (* highlights the minimums)}\n",
       "\\end{center}"
      ],
      "text/plain": [
       "<class 'statsmodels.iolib.table.SimpleTable'>"
      ]
     },
     "execution_count": 255,
     "metadata": {},
     "output_type": "execute_result"
    }
   ],
   "source": [
    "optimal_order.summary()"
   ]
  },
  {
   "cell_type": "code",
   "execution_count": 257,
   "metadata": {},
   "outputs": [],
   "source": [
    "# Lag length=3, fit the VAR model\n",
    "model_fitted = model.fit(3)\n",
    "resid = model_fitted.resid[optimal_order.aic:]"
   ]
  },
  {
   "cell_type": "markdown",
   "metadata": {},
   "source": [
    "### 2.4 Granger Causality Test on VAR"
   ]
  },
  {
   "cell_type": "code",
   "execution_count": 258,
   "metadata": {},
   "outputs": [],
   "source": [
    "from statsmodels.tsa.stattools import grangercausalitytests"
   ]
  },
  {
   "cell_type": "code",
   "execution_count": 263,
   "metadata": {},
   "outputs": [
    {
     "name": "stdout",
     "output_type": "stream",
     "text": [
      "Lag 1\n",
      "\tF-Statistic: 1.1153, p-value: 0.3088\n",
      "Lag 2\n",
      "\tF-Statistic: 0.5153, p-value: 0.6111\n",
      "Lag 3\n",
      "\tF-Statistic: 1.4064, p-value: 0.3102\n",
      "Lag 4\n",
      "\tF-Statistic: 2.3991, p-value: 0.1816\n"
     ]
    },
    {
     "name": "stderr",
     "output_type": "stream",
     "text": [
      "/Users/itsyuzhou/opt/anaconda3/lib/python3.9/site-packages/statsmodels/tsa/stattools.py:1488: FutureWarning: verbose is deprecated since functions should not print results\n",
      "  warnings.warn(\n"
     ]
    }
   ],
   "source": [
    "# Hate Amount -> Hate Intensity\n",
    "\n",
    "results = grangercausalitytests(resid[['Hate Amount', 'Hate Intensity']], maxlag=4, verbose=False)\n",
    "p_values_tgo = []\n",
    "\n",
    "for lag, test_results in results.items():\n",
    "    print(f\"Lag {lag}\")\n",
    "    print(f\"\\tF-Statistic: {test_results[0]['params_ftest'][0]:.4f}, p-value: {test_results[0]['params_ftest'][1]:.4f}\")\n",
    "    p_values_tgo.append([lag, test_results[0]['params_ftest'][1]])"
   ]
  },
  {
   "cell_type": "code",
   "execution_count": 264,
   "metadata": {},
   "outputs": [
    {
     "name": "stdout",
     "output_type": "stream",
     "text": [
      "Lag 1\n",
      "\tF-Statistic: 2.0988, p-value: 0.1694\n",
      "Lag 2\n",
      "\tF-Statistic: 2.3800, p-value: 0.1384\n",
      "Lag 3\n",
      "\tF-Statistic: 0.9401, p-value: 0.4653\n",
      "Lag 4\n",
      "\tF-Statistic: 1.0249, p-value: 0.4759\n",
      "Hate Amount --> Hate Intensity:  [[1, 0.16944250825928656], [2, 0.13838462718026437], [3, 0.4653138680082187], [4, 0.47588599576584956]]\n"
     ]
    },
    {
     "name": "stderr",
     "output_type": "stream",
     "text": [
      "/Users/itsyuzhou/opt/anaconda3/lib/python3.9/site-packages/statsmodels/tsa/stattools.py:1488: FutureWarning: verbose is deprecated since functions should not print results\n",
      "  warnings.warn(\n"
     ]
    }
   ],
   "source": [
    "# Hate Intensity -> Hate Amount\n",
    "\n",
    "results = grangercausalitytests(resid[['Hate Intensity', 'Hate Amount']], maxlag=4, verbose=False)\n",
    "p_values_tgo = []\n",
    "\n",
    "for lag, test_results in results.items():\n",
    "    print(f\"Lag {lag}\")\n",
    "    print(f\"\\tF-Statistic: {test_results[0]['params_ftest'][0]:.4f}, p-value: {test_results[0]['params_ftest'][1]:.4f}\")\n",
    "    p_values_tgo.append([lag, test_results[0]['params_ftest'][1]])\n",
    "\n",
    "print('Hate Amount --> Hate Intensity: ',p_values_tgo)"
   ]
  },
  {
   "cell_type": "code",
   "execution_count": 267,
   "metadata": {},
   "outputs": [
    {
     "name": "stdout",
     "output_type": "stream",
     "text": [
      "Lag 1\n",
      "\tF-Statistic: 0.4906, p-value: 0.4951\n",
      "Lag 2\n",
      "\tF-Statistic: 0.3306, p-value: 0.7254\n",
      "Lag 3\n",
      "\tF-Statistic: 0.0809, p-value: 0.9685\n",
      "Lag 4\n",
      "\tF-Statistic: 0.0741, p-value: 0.9871\n"
     ]
    },
    {
     "name": "stderr",
     "output_type": "stream",
     "text": [
      "/Users/itsyuzhou/opt/anaconda3/lib/python3.9/site-packages/statsmodels/tsa/stattools.py:1488: FutureWarning: verbose is deprecated since functions should not print results\n",
      "  warnings.warn(\n"
     ]
    }
   ],
   "source": [
    "# Hate Amount -> Google Searches\n",
    "\n",
    "results = grangercausalitytests(resid[['Hate Amount', 'Sinophobic Google Search']], maxlag=4, verbose=False)\n",
    "p_values_tgo = []\n",
    "\n",
    "for lag, test_results in results.items():\n",
    "    print(f\"Lag {lag}\")\n",
    "    print(f\"\\tF-Statistic: {test_results[0]['params_ftest'][0]:.4f}, p-value: {test_results[0]['params_ftest'][1]:.4f}\")\n",
    "    p_values_tgo.append([lag, test_results[0]['params_ftest'][1]])"
   ]
  },
  {
   "cell_type": "code",
   "execution_count": 268,
   "metadata": {},
   "outputs": [
    {
     "name": "stdout",
     "output_type": "stream",
     "text": [
      "Lag 1\n",
      "\tF-Statistic: 0.0338, p-value: 0.8568\n",
      "Lag 2\n",
      "\tF-Statistic: 0.3616, p-value: 0.7045\n",
      "Lag 3\n",
      "\tF-Statistic: 0.1265, p-value: 0.9417\n",
      "Lag 4\n",
      "\tF-Statistic: 3.5823, p-value: 0.0971\n"
     ]
    },
    {
     "name": "stderr",
     "output_type": "stream",
     "text": [
      "/Users/itsyuzhou/opt/anaconda3/lib/python3.9/site-packages/statsmodels/tsa/stattools.py:1488: FutureWarning: verbose is deprecated since functions should not print results\n",
      "  warnings.warn(\n"
     ]
    }
   ],
   "source": [
    "# Google Searches -> Hate Amount\n",
    "\n",
    "results = grangercausalitytests(resid[['Sinophobic Google Search', 'Hate Amount']], maxlag=4, verbose=False)\n",
    "p_values_tgo = []\n",
    "\n",
    "for lag, test_results in results.items():\n",
    "    print(f\"Lag {lag}\")\n",
    "    print(f\"\\tF-Statistic: {test_results[0]['params_ftest'][0]:.4f}, p-value: {test_results[0]['params_ftest'][1]:.4f}\")\n",
    "    p_values_tgo.append([lag, test_results[0]['params_ftest'][1]])"
   ]
  },
  {
   "cell_type": "code",
   "execution_count": 265,
   "metadata": {},
   "outputs": [
    {
     "name": "stdout",
     "output_type": "stream",
     "text": [
      "Lag 1\n",
      "\tF-Statistic: 2.8422, p-value: 0.1140\n",
      "Lag 2\n",
      "\tF-Statistic: 1.4051, p-value: 0.2861\n",
      "Lag 3\n",
      "\tF-Statistic: 1.2838, p-value: 0.3442\n",
      "Lag 4\n",
      "\tF-Statistic: 2.1731, p-value: 0.2085\n"
     ]
    },
    {
     "name": "stderr",
     "output_type": "stream",
     "text": [
      "/Users/itsyuzhou/opt/anaconda3/lib/python3.9/site-packages/statsmodels/tsa/stattools.py:1488: FutureWarning: verbose is deprecated since functions should not print results\n",
      "  warnings.warn(\n"
     ]
    }
   ],
   "source": [
    "# Hate Intensity -> Google Searches\n",
    "\n",
    "results = grangercausalitytests(resid[['Hate Intensity', 'Sinophobic Google Search']], maxlag=4, verbose=False)\n",
    "p_values_tgo = []\n",
    "\n",
    "for lag, test_results in results.items():\n",
    "    print(f\"Lag {lag}\")\n",
    "    print(f\"\\tF-Statistic: {test_results[0]['params_ftest'][0]:.4f}, p-value: {test_results[0]['params_ftest'][1]:.4f}\")\n",
    "    p_values_tgo.append([lag, test_results[0]['params_ftest'][1]])"
   ]
  },
  {
   "cell_type": "code",
   "execution_count": 266,
   "metadata": {},
   "outputs": [
    {
     "name": "stdout",
     "output_type": "stream",
     "text": [
      "Lag 1\n",
      "\tF-Statistic: 0.0001, p-value: 0.9941\n",
      "Lag 2\n",
      "\tF-Statistic: 1.0906, p-value: 0.3697\n",
      "Lag 3\n",
      "\tF-Statistic: 0.5971, p-value: 0.6345\n",
      "Lag 4\n",
      "\tF-Statistic: 0.8953, p-value: 0.5295\n"
     ]
    },
    {
     "name": "stderr",
     "output_type": "stream",
     "text": [
      "/Users/itsyuzhou/opt/anaconda3/lib/python3.9/site-packages/statsmodels/tsa/stattools.py:1488: FutureWarning: verbose is deprecated since functions should not print results\n",
      "  warnings.warn(\n"
     ]
    }
   ],
   "source": [
    "# Google Searches -> Hate Intensity\n",
    "\n",
    "results = grangercausalitytests(resid[['Sinophobic Google Search', 'Hate Intensity']], maxlag=4, verbose=False)\n",
    "p_values_tgo = []\n",
    "\n",
    "for lag, test_results in results.items():\n",
    "    print(f\"Lag {lag}\")\n",
    "    print(f\"\\tF-Statistic: {test_results[0]['params_ftest'][0]:.4f}, p-value: {test_results[0]['params_ftest'][1]:.4f}\")\n",
    "    p_values_tgo.append([lag, test_results[0]['params_ftest'][1]])"
   ]
  },
  {
   "cell_type": "code",
   "execution_count": 269,
   "metadata": {},
   "outputs": [
    {
     "name": "stdout",
     "output_type": "stream",
     "text": [
      "Lag 1\n",
      "\tF-Statistic: 0.1079, p-value: 0.7475\n",
      "Lag 2\n",
      "\tF-Statistic: 0.3551, p-value: 0.7089\n",
      "Lag 3\n",
      "\tF-Statistic: 0.0105, p-value: 0.9984\n",
      "Lag 4\n",
      "\tF-Statistic: 0.0794, p-value: 0.9853\n"
     ]
    },
    {
     "name": "stderr",
     "output_type": "stream",
     "text": [
      "/Users/itsyuzhou/opt/anaconda3/lib/python3.9/site-packages/statsmodels/tsa/stattools.py:1488: FutureWarning: verbose is deprecated since functions should not print results\n",
      "  warnings.warn(\n"
     ]
    }
   ],
   "source": [
    "# Hate Amount -> FBI Hate Crimes\n",
    "\n",
    "results = grangercausalitytests(resid[['Hate Amount', 'FBI Hate Crimes']], maxlag=4, verbose=False)\n",
    "p_values_tgo = []\n",
    "\n",
    "for lag, test_results in results.items():\n",
    "    print(f\"Lag {lag}\")\n",
    "    print(f\"\\tF-Statistic: {test_results[0]['params_ftest'][0]:.4f}, p-value: {test_results[0]['params_ftest'][1]:.4f}\")\n",
    "    p_values_tgo.append([lag, test_results[0]['params_ftest'][1]])"
   ]
  },
  {
   "cell_type": "code",
   "execution_count": 270,
   "metadata": {},
   "outputs": [
    {
     "name": "stdout",
     "output_type": "stream",
     "text": [
      "Lag 1\n",
      "\tF-Statistic: 0.2546, p-value: 0.6217\n",
      "Lag 2\n",
      "\tF-Statistic: 0.3715, p-value: 0.6980\n",
      "Lag 3\n",
      "\tF-Statistic: 0.2521, p-value: 0.8578\n",
      "Lag 4\n",
      "\tF-Statistic: 0.3014, p-value: 0.8657\n"
     ]
    },
    {
     "name": "stderr",
     "output_type": "stream",
     "text": [
      "/Users/itsyuzhou/opt/anaconda3/lib/python3.9/site-packages/statsmodels/tsa/stattools.py:1488: FutureWarning: verbose is deprecated since functions should not print results\n",
      "  warnings.warn(\n"
     ]
    }
   ],
   "source": [
    "# FBI Hate Crimes -> Hate Amount\n",
    "\n",
    "results = grangercausalitytests(resid[['FBI Hate Crimes', 'Hate Amount']], maxlag=4, verbose=False)\n",
    "p_values_tgo = []\n",
    "\n",
    "for lag, test_results in results.items():\n",
    "    print(f\"Lag {lag}\")\n",
    "    print(f\"\\tF-Statistic: {test_results[0]['params_ftest'][0]:.4f}, p-value: {test_results[0]['params_ftest'][1]:.4f}\")\n",
    "    p_values_tgo.append([lag, test_results[0]['params_ftest'][1]])"
   ]
  },
  {
   "cell_type": "code",
   "execution_count": 271,
   "metadata": {},
   "outputs": [
    {
     "name": "stdout",
     "output_type": "stream",
     "text": [
      "Lag 1\n",
      "\tF-Statistic: 0.0662, p-value: 0.8007\n",
      "Lag 2\n",
      "\tF-Statistic: 0.1330, p-value: 0.8769\n",
      "Lag 3\n",
      "\tF-Statistic: 0.5821, p-value: 0.6432\n",
      "Lag 4\n",
      "\tF-Statistic: 1.3288, p-value: 0.3743\n"
     ]
    },
    {
     "name": "stderr",
     "output_type": "stream",
     "text": [
      "/Users/itsyuzhou/opt/anaconda3/lib/python3.9/site-packages/statsmodels/tsa/stattools.py:1488: FutureWarning: verbose is deprecated since functions should not print results\n",
      "  warnings.warn(\n"
     ]
    }
   ],
   "source": [
    "# Hate Intensity -> FBI Hate Crimes\n",
    "\n",
    "results = grangercausalitytests(resid[['Hate Intensity', 'FBI Hate Crimes']], maxlag=4, verbose=False)\n",
    "p_values_tgo = []\n",
    "\n",
    "for lag, test_results in results.items():\n",
    "    print(f\"Lag {lag}\")\n",
    "    print(f\"\\tF-Statistic: {test_results[0]['params_ftest'][0]:.4f}, p-value: {test_results[0]['params_ftest'][1]:.4f}\")\n",
    "    p_values_tgo.append([lag, test_results[0]['params_ftest'][1]])"
   ]
  },
  {
   "cell_type": "code",
   "execution_count": 272,
   "metadata": {},
   "outputs": [
    {
     "name": "stdout",
     "output_type": "stream",
     "text": [
      "Lag 1\n",
      "\tF-Statistic: 1.5262, p-value: 0.2370\n",
      "Lag 2\n",
      "\tF-Statistic: 1.1240, p-value: 0.3596\n",
      "Lag 3\n",
      "\tF-Statistic: 0.7099, p-value: 0.5728\n",
      "Lag 4\n",
      "\tF-Statistic: 0.8507, p-value: 0.5497\n"
     ]
    },
    {
     "name": "stderr",
     "output_type": "stream",
     "text": [
      "/Users/itsyuzhou/opt/anaconda3/lib/python3.9/site-packages/statsmodels/tsa/stattools.py:1488: FutureWarning: verbose is deprecated since functions should not print results\n",
      "  warnings.warn(\n"
     ]
    }
   ],
   "source": [
    "# FBI Hate Crimes -> Hate Intensity\n",
    "\n",
    "results = grangercausalitytests(resid[['FBI Hate Crimes', 'Hate Intensity']], maxlag=4, verbose=False)\n",
    "p_values_tgo = []\n",
    "\n",
    "for lag, test_results in results.items():\n",
    "    print(f\"Lag {lag}\")\n",
    "    print(f\"\\tF-Statistic: {test_results[0]['params_ftest'][0]:.4f}, p-value: {test_results[0]['params_ftest'][1]:.4f}\")\n",
    "    p_values_tgo.append([lag, test_results[0]['params_ftest'][1]])"
   ]
  },
  {
   "cell_type": "code",
   "execution_count": 273,
   "metadata": {},
   "outputs": [
    {
     "name": "stdout",
     "output_type": "stream",
     "text": [
      "Lag 1\n",
      "\tF-Statistic: 0.0666, p-value: 0.8000\n",
      "Lag 2\n",
      "\tF-Statistic: 0.1744, p-value: 0.8422\n",
      "Lag 3\n",
      "\tF-Statistic: 0.0709, p-value: 0.9739\n",
      "Lag 4\n",
      "\tF-Statistic: 1.0917, p-value: 0.4508\n"
     ]
    },
    {
     "name": "stderr",
     "output_type": "stream",
     "text": [
      "/Users/itsyuzhou/opt/anaconda3/lib/python3.9/site-packages/statsmodels/tsa/stattools.py:1488: FutureWarning: verbose is deprecated since functions should not print results\n",
      "  warnings.warn(\n"
     ]
    }
   ],
   "source": [
    "# Sinophobic Google Search -> FBI Hate Crimes\n",
    "\n",
    "results = grangercausalitytests(resid[['Sinophobic Google Search', 'FBI Hate Crimes']], maxlag=4, verbose=False)\n",
    "p_values_tgo = []\n",
    "\n",
    "for lag, test_results in results.items():\n",
    "    print(f\"Lag {lag}\")\n",
    "    print(f\"\\tF-Statistic: {test_results[0]['params_ftest'][0]:.4f}, p-value: {test_results[0]['params_ftest'][1]:.4f}\")\n",
    "    p_values_tgo.append([lag, test_results[0]['params_ftest'][1]])"
   ]
  },
  {
   "cell_type": "code",
   "execution_count": 274,
   "metadata": {},
   "outputs": [
    {
     "name": "stdout",
     "output_type": "stream",
     "text": [
      "Lag 1\n",
      "\tF-Statistic: 0.8055, p-value: 0.3846\n",
      "Lag 2\n",
      "\tF-Statistic: 5.2853, p-value: 0.0246\n",
      "Lag 3\n",
      "\tF-Statistic: 2.8623, p-value: 0.1042\n",
      "Lag 4\n",
      "\tF-Statistic: 5.0506, p-value: 0.0527\n"
     ]
    },
    {
     "name": "stderr",
     "output_type": "stream",
     "text": [
      "/Users/itsyuzhou/opt/anaconda3/lib/python3.9/site-packages/statsmodels/tsa/stattools.py:1488: FutureWarning: verbose is deprecated since functions should not print results\n",
      "  warnings.warn(\n"
     ]
    }
   ],
   "source": [
    "# FBI Hate Crimes -> Sinophobic Google Search\n",
    "\n",
    "results = grangercausalitytests(resid[['FBI Hate Crimes', 'Sinophobic Google Search']], maxlag=4, verbose=False)\n",
    "p_values_tgo = []\n",
    "\n",
    "for lag, test_results in results.items():\n",
    "    print(f\"Lag {lag}\")\n",
    "    print(f\"\\tF-Statistic: {test_results[0]['params_ftest'][0]:.4f}, p-value: {test_results[0]['params_ftest'][1]:.4f}\")\n",
    "    p_values_tgo.append([lag, test_results[0]['params_ftest'][1]])"
   ]
  }
 ],
 "metadata": {
  "kernelspec": {
   "display_name": "base",
   "language": "python",
   "name": "python3"
  },
  "language_info": {
   "codemirror_mode": {
    "name": "ipython",
    "version": 3
   },
   "file_extension": ".py",
   "mimetype": "text/x-python",
   "name": "python",
   "nbconvert_exporter": "python",
   "pygments_lexer": "ipython3",
   "version": "3.9.12"
  }
 },
 "nbformat": 4,
 "nbformat_minor": 2
}
