{
 "cells": [
  {
   "cell_type": "code",
   "execution_count": 2,
   "metadata": {},
   "outputs": [
    {
     "name": "stderr",
     "output_type": "stream",
     "text": [
      "/Users/itsyuzhou/opt/anaconda3/lib/python3.9/site-packages/pandas/core/arrays/masked.py:60: UserWarning: Pandas requires version '1.3.6' or newer of 'bottleneck' (version '1.3.4' currently installed).\n",
      "  from pandas.core import (\n"
     ]
    }
   ],
   "source": [
    "import pandas as pd\n",
    "import numpy as np\n",
    "import matplotlib.pyplot as plt"
   ]
  },
  {
   "cell_type": "markdown",
   "metadata": {},
   "source": [
    "# FBI Hate Crime"
   ]
  },
  {
   "cell_type": "markdown",
   "metadata": {},
   "source": [
    "### Hate Crime Preprocess"
   ]
  },
  {
   "cell_type": "code",
   "execution_count": 9,
   "metadata": {},
   "outputs": [
    {
     "data": {
      "text/html": [
       "<div>\n",
       "<style scoped>\n",
       "    .dataframe tbody tr th:only-of-type {\n",
       "        vertical-align: middle;\n",
       "    }\n",
       "\n",
       "    .dataframe tbody tr th {\n",
       "        vertical-align: top;\n",
       "    }\n",
       "\n",
       "    .dataframe thead th {\n",
       "        text-align: right;\n",
       "    }\n",
       "</style>\n",
       "<table border=\"1\" class=\"dataframe\">\n",
       "  <thead>\n",
       "    <tr style=\"text-align: right;\">\n",
       "      <th></th>\n",
       "      <th>incident_id</th>\n",
       "      <th>data_year</th>\n",
       "      <th>ori</th>\n",
       "      <th>pug_agency_name</th>\n",
       "      <th>pub_agency_unit</th>\n",
       "      <th>agency_type_name</th>\n",
       "      <th>state_abbr</th>\n",
       "      <th>state_name</th>\n",
       "      <th>division_name</th>\n",
       "      <th>region_name</th>\n",
       "      <th>...</th>\n",
       "      <th>offender_race</th>\n",
       "      <th>offender_ethnicity</th>\n",
       "      <th>victim_count</th>\n",
       "      <th>offense_name</th>\n",
       "      <th>total_individual_victims</th>\n",
       "      <th>location_name</th>\n",
       "      <th>bias_desc</th>\n",
       "      <th>victim_types</th>\n",
       "      <th>multiple_offense</th>\n",
       "      <th>multiple_bias</th>\n",
       "    </tr>\n",
       "  </thead>\n",
       "  <tbody>\n",
       "    <tr>\n",
       "      <th>0</th>\n",
       "      <td>864279</td>\n",
       "      <td>2020</td>\n",
       "      <td>AK0010100</td>\n",
       "      <td>Anchorage</td>\n",
       "      <td>NaN</td>\n",
       "      <td>City</td>\n",
       "      <td>AK</td>\n",
       "      <td>Alaska</td>\n",
       "      <td>Pacific</td>\n",
       "      <td>West</td>\n",
       "      <td>...</td>\n",
       "      <td>Unknown</td>\n",
       "      <td>Unknown</td>\n",
       "      <td>2</td>\n",
       "      <td>Arson;Burglary/Breaking &amp; Entering</td>\n",
       "      <td>NaN</td>\n",
       "      <td>Church/Synagogue/Temple/Mosque</td>\n",
       "      <td>Anti-Other Christian</td>\n",
       "      <td>Religious Organization</td>\n",
       "      <td>M</td>\n",
       "      <td>S</td>\n",
       "    </tr>\n",
       "    <tr>\n",
       "      <th>1</th>\n",
       "      <td>893434</td>\n",
       "      <td>2020</td>\n",
       "      <td>AK0010200</td>\n",
       "      <td>Fairbanks</td>\n",
       "      <td>NaN</td>\n",
       "      <td>City</td>\n",
       "      <td>AK</td>\n",
       "      <td>Alaska</td>\n",
       "      <td>Pacific</td>\n",
       "      <td>West</td>\n",
       "      <td>...</td>\n",
       "      <td>White</td>\n",
       "      <td>Not Hispanic or Latino</td>\n",
       "      <td>1</td>\n",
       "      <td>Aggravated Assault</td>\n",
       "      <td>1.0</td>\n",
       "      <td>Government/Public Building</td>\n",
       "      <td>Anti-Transgender</td>\n",
       "      <td>Individual</td>\n",
       "      <td>S</td>\n",
       "      <td>S</td>\n",
       "    </tr>\n",
       "    <tr>\n",
       "      <th>2</th>\n",
       "      <td>1052479</td>\n",
       "      <td>2020</td>\n",
       "      <td>AK0010300</td>\n",
       "      <td>Juneau</td>\n",
       "      <td>NaN</td>\n",
       "      <td>City</td>\n",
       "      <td>AK</td>\n",
       "      <td>Alaska</td>\n",
       "      <td>Pacific</td>\n",
       "      <td>West</td>\n",
       "      <td>...</td>\n",
       "      <td>Unknown</td>\n",
       "      <td>Unknown</td>\n",
       "      <td>1</td>\n",
       "      <td>Aggravated Assault</td>\n",
       "      <td>1.0</td>\n",
       "      <td>Parking/Drop Lot/Garage</td>\n",
       "      <td>Anti-American Indian or Alaska Native</td>\n",
       "      <td>Individual</td>\n",
       "      <td>S</td>\n",
       "      <td>S</td>\n",
       "    </tr>\n",
       "    <tr>\n",
       "      <th>3</th>\n",
       "      <td>1054279</td>\n",
       "      <td>2020</td>\n",
       "      <td>AK0010100</td>\n",
       "      <td>Anchorage</td>\n",
       "      <td>NaN</td>\n",
       "      <td>City</td>\n",
       "      <td>AK</td>\n",
       "      <td>Alaska</td>\n",
       "      <td>Pacific</td>\n",
       "      <td>West</td>\n",
       "      <td>...</td>\n",
       "      <td>Unknown</td>\n",
       "      <td>Unknown</td>\n",
       "      <td>1</td>\n",
       "      <td>Sexual Assault With An Object</td>\n",
       "      <td>1.0</td>\n",
       "      <td>Park/Playground</td>\n",
       "      <td>Anti-Female</td>\n",
       "      <td>Individual</td>\n",
       "      <td>S</td>\n",
       "      <td>S</td>\n",
       "    </tr>\n",
       "    <tr>\n",
       "      <th>4</th>\n",
       "      <td>1054280</td>\n",
       "      <td>2020</td>\n",
       "      <td>AK0010100</td>\n",
       "      <td>Anchorage</td>\n",
       "      <td>NaN</td>\n",
       "      <td>City</td>\n",
       "      <td>AK</td>\n",
       "      <td>Alaska</td>\n",
       "      <td>Pacific</td>\n",
       "      <td>West</td>\n",
       "      <td>...</td>\n",
       "      <td>American Indian or Alaska Native</td>\n",
       "      <td>Not Hispanic or Latino</td>\n",
       "      <td>1</td>\n",
       "      <td>Aggravated Assault</td>\n",
       "      <td>1.0</td>\n",
       "      <td>Hotel/Motel/Etc.</td>\n",
       "      <td>Anti-Black or African American</td>\n",
       "      <td>Individual</td>\n",
       "      <td>S</td>\n",
       "      <td>S</td>\n",
       "    </tr>\n",
       "  </tbody>\n",
       "</table>\n",
       "<p>5 rows × 28 columns</p>\n",
       "</div>"
      ],
      "text/plain": [
       "   incident_id  data_year        ori pug_agency_name pub_agency_unit  \\\n",
       "0       864279       2020  AK0010100       Anchorage             NaN   \n",
       "1       893434       2020  AK0010200       Fairbanks             NaN   \n",
       "2      1052479       2020  AK0010300          Juneau             NaN   \n",
       "3      1054279       2020  AK0010100       Anchorage             NaN   \n",
       "4      1054280       2020  AK0010100       Anchorage             NaN   \n",
       "\n",
       "  agency_type_name state_abbr state_name division_name region_name  ...  \\\n",
       "0             City         AK     Alaska       Pacific        West  ...   \n",
       "1             City         AK     Alaska       Pacific        West  ...   \n",
       "2             City         AK     Alaska       Pacific        West  ...   \n",
       "3             City         AK     Alaska       Pacific        West  ...   \n",
       "4             City         AK     Alaska       Pacific        West  ...   \n",
       "\n",
       "                      offender_race      offender_ethnicity victim_count  \\\n",
       "0                           Unknown                 Unknown            2   \n",
       "1                             White  Not Hispanic or Latino            1   \n",
       "2                           Unknown                 Unknown            1   \n",
       "3                           Unknown                 Unknown            1   \n",
       "4  American Indian or Alaska Native  Not Hispanic or Latino            1   \n",
       "\n",
       "                         offense_name  total_individual_victims  \\\n",
       "0  Arson;Burglary/Breaking & Entering                       NaN   \n",
       "1                  Aggravated Assault                       1.0   \n",
       "2                  Aggravated Assault                       1.0   \n",
       "3       Sexual Assault With An Object                       1.0   \n",
       "4                  Aggravated Assault                       1.0   \n",
       "\n",
       "                    location_name                              bias_desc  \\\n",
       "0  Church/Synagogue/Temple/Mosque                   Anti-Other Christian   \n",
       "1      Government/Public Building                       Anti-Transgender   \n",
       "2         Parking/Drop Lot/Garage  Anti-American Indian or Alaska Native   \n",
       "3                 Park/Playground                            Anti-Female   \n",
       "4                Hotel/Motel/Etc.         Anti-Black or African American   \n",
       "\n",
       "             victim_types multiple_offense multiple_bias  \n",
       "0  Religious Organization                M             S  \n",
       "1              Individual                S             S  \n",
       "2              Individual                S             S  \n",
       "3              Individual                S             S  \n",
       "4              Individual                S             S  \n",
       "\n",
       "[5 rows x 28 columns]"
      ]
     },
     "execution_count": 9,
     "metadata": {},
     "output_type": "execute_result"
    }
   ],
   "source": [
    "crime_df = pd.read_csv(\"hate_crime.csv\")\n",
    "crime_df.head()"
   ]
  },
  {
   "cell_type": "code",
   "execution_count": 11,
   "metadata": {},
   "outputs": [],
   "source": [
    "crime_df['incident_date'] = pd.to_datetime(crime_df['incident_date'])"
   ]
  },
  {
   "cell_type": "code",
   "execution_count": 13,
   "metadata": {},
   "outputs": [
    {
     "data": {
      "text/html": [
       "<div>\n",
       "<style scoped>\n",
       "    .dataframe tbody tr th:only-of-type {\n",
       "        vertical-align: middle;\n",
       "    }\n",
       "\n",
       "    .dataframe tbody tr th {\n",
       "        vertical-align: top;\n",
       "    }\n",
       "\n",
       "    .dataframe thead th {\n",
       "        text-align: right;\n",
       "    }\n",
       "</style>\n",
       "<table border=\"1\" class=\"dataframe\">\n",
       "  <thead>\n",
       "    <tr style=\"text-align: right;\">\n",
       "      <th></th>\n",
       "      <th>data_year</th>\n",
       "      <th>incident_date</th>\n",
       "      <th>offense_name</th>\n",
       "      <th>bias_desc</th>\n",
       "    </tr>\n",
       "  </thead>\n",
       "  <tbody>\n",
       "    <tr>\n",
       "      <th>0</th>\n",
       "      <td>2020</td>\n",
       "      <td>2020-01-24</td>\n",
       "      <td>Arson;Burglary/Breaking &amp; Entering</td>\n",
       "      <td>Anti-Other Christian</td>\n",
       "    </tr>\n",
       "    <tr>\n",
       "      <th>1</th>\n",
       "      <td>2020</td>\n",
       "      <td>2020-01-03</td>\n",
       "      <td>Aggravated Assault</td>\n",
       "      <td>Anti-Transgender</td>\n",
       "    </tr>\n",
       "    <tr>\n",
       "      <th>2</th>\n",
       "      <td>2020</td>\n",
       "      <td>2020-05-04</td>\n",
       "      <td>Aggravated Assault</td>\n",
       "      <td>Anti-American Indian or Alaska Native</td>\n",
       "    </tr>\n",
       "    <tr>\n",
       "      <th>3</th>\n",
       "      <td>2020</td>\n",
       "      <td>2020-06-01</td>\n",
       "      <td>Sexual Assault With An Object</td>\n",
       "      <td>Anti-Female</td>\n",
       "    </tr>\n",
       "    <tr>\n",
       "      <th>4</th>\n",
       "      <td>2020</td>\n",
       "      <td>2020-06-21</td>\n",
       "      <td>Aggravated Assault</td>\n",
       "      <td>Anti-Black or African American</td>\n",
       "    </tr>\n",
       "    <tr>\n",
       "      <th>...</th>\n",
       "      <td>...</td>\n",
       "      <td>...</td>\n",
       "      <td>...</td>\n",
       "      <td>...</td>\n",
       "    </tr>\n",
       "    <tr>\n",
       "      <th>20833</th>\n",
       "      <td>2021</td>\n",
       "      <td>2021-01-12</td>\n",
       "      <td>Intimidation</td>\n",
       "      <td>Anti-American Indian or Alaska Native</td>\n",
       "    </tr>\n",
       "    <tr>\n",
       "      <th>20834</th>\n",
       "      <td>2021</td>\n",
       "      <td>2021-01-04</td>\n",
       "      <td>Aggravated Assault</td>\n",
       "      <td>Anti-Female</td>\n",
       "    </tr>\n",
       "    <tr>\n",
       "      <th>20835</th>\n",
       "      <td>2021</td>\n",
       "      <td>2021-10-06</td>\n",
       "      <td>Aggravated Assault</td>\n",
       "      <td>Anti-Mental Disability</td>\n",
       "    </tr>\n",
       "    <tr>\n",
       "      <th>20836</th>\n",
       "      <td>2021</td>\n",
       "      <td>2021-05-20</td>\n",
       "      <td>All Other Larceny</td>\n",
       "      <td>Anti-Lesbian, Gay, Bisexual, or Transgender (M...</td>\n",
       "    </tr>\n",
       "    <tr>\n",
       "      <th>20837</th>\n",
       "      <td>2021</td>\n",
       "      <td>2021-07-01</td>\n",
       "      <td>Simple Assault</td>\n",
       "      <td>Anti-Lesbian (Female)</td>\n",
       "    </tr>\n",
       "  </tbody>\n",
       "</table>\n",
       "<p>20838 rows × 4 columns</p>\n",
       "</div>"
      ],
      "text/plain": [
       "       data_year incident_date                        offense_name  \\\n",
       "0           2020    2020-01-24  Arson;Burglary/Breaking & Entering   \n",
       "1           2020    2020-01-03                  Aggravated Assault   \n",
       "2           2020    2020-05-04                  Aggravated Assault   \n",
       "3           2020    2020-06-01       Sexual Assault With An Object   \n",
       "4           2020    2020-06-21                  Aggravated Assault   \n",
       "...          ...           ...                                 ...   \n",
       "20833       2021    2021-01-12                        Intimidation   \n",
       "20834       2021    2021-01-04                  Aggravated Assault   \n",
       "20835       2021    2021-10-06                  Aggravated Assault   \n",
       "20836       2021    2021-05-20                   All Other Larceny   \n",
       "20837       2021    2021-07-01                      Simple Assault   \n",
       "\n",
       "                                               bias_desc  \n",
       "0                                   Anti-Other Christian  \n",
       "1                                       Anti-Transgender  \n",
       "2                  Anti-American Indian or Alaska Native  \n",
       "3                                            Anti-Female  \n",
       "4                         Anti-Black or African American  \n",
       "...                                                  ...  \n",
       "20833              Anti-American Indian or Alaska Native  \n",
       "20834                                        Anti-Female  \n",
       "20835                             Anti-Mental Disability  \n",
       "20836  Anti-Lesbian, Gay, Bisexual, or Transgender (M...  \n",
       "20837                              Anti-Lesbian (Female)  \n",
       "\n",
       "[20838 rows x 4 columns]"
      ]
     },
     "execution_count": 13,
     "metadata": {},
     "output_type": "execute_result"
    }
   ],
   "source": [
    "# Columns to keep: data_year, incident_date, offense_name, bias_desc\n",
    "col_keep = ['data_year', 'incident_date', 'offense_name', 'bias_desc']\n",
    "filtered_crime_df = crime_df[col_keep]\n",
    "filtered_crime_df"
   ]
  },
  {
   "cell_type": "markdown",
   "metadata": {},
   "source": [
    "Note: The Hate Crime Statistics Data Collection compiles data about both single-bias and\n",
    "multiple-bias hate crimes. A single-bias incident is defined as an incident in which one\n",
    "or more offense types are motivated by the same bias. Beginning in 2013, law\n",
    "enforcement agencies could report up to five bias motivations per offense type.\n",
    "Therefore, the definition of a multiple-bias incident has been revised to “an incident in\n",
    "which one or more offense types are motivated by two or more biases.”\n",
    "\n",
    "- Anti-Asian\n",
    "- Anti-Asian;Anti-Black or African American\n",
    "- Anti-Asian;Anti-Other Race/Ethnicity/Ancestry\n",
    "- Anti-Arab;Anti-Asian\n",
    "- Anti-Asian;Anti-White\n",
    "- Anti-Asian;Anti-Black or African American;Anti-Gay (Male)\n",
    "- Anti-Asian;Anti-Hindu\n",
    "- Anti-Asian;Anti-Black or African American;Anti-Islamic (Muslim)\n",
    "- Anti-Asian;Anti-Lesbian, Gay, Bisexual, or Transgender (Mixed Group)\n",
    "- Anti-Asian;Anti-Black or African American;Anti-Multiple Races, Group\n",
    "- Anti-Asian;Anti-Black or African American;Anti-Gay (Male);Anti-Multiple Races, Group\n",
    "- Anti-Asian;Anti-Female\n",
    "- Anti-Asian;Anti-Black or African American;Anti-Female;Anti-Jewish;Anti-Multiple Races, Group\n",
    "- Anti-Asian;Anti-Jewish\n",
    "- Anti-Asian;Anti-Black or African American;Anti-Jewish\n",
    "- Anti-Asian;Anti-Multiple Races, Group\n",
    "- Anti-Asian;Anti-Gay (Male)\n",
    "- Anti-Asian;Anti-Black or African American;Anti-Hispanic or Latino\n",
    "- Anti-Asian;Anti-Black or African American;Anti-Lesbian, Gay, Bisexual, or Transgender (Mixed Group)\n",
    "- Anti-American Indian or Alaska Native;Anti-Asian;Anti-Black or African American;Anti-Islamic (Muslim);Anti-White\n",
    "- Anti-Asian;Anti-Female;Anti-Multiple Races, Group\n",
    "- Anti-American Indian or Alaska Native;Anti-Asian\n",
    "- Anti-Asian;Anti-Transgender\n",
    "- Anti-Asian;Anti-Black or African American;Anti-Female;Anti-Multiple Races, Group\n",
    "- Anti-Asian;Anti-Black or African American;Anti-Female;Anti-Hispanic or Latino\n",
    "- Anti-Arab;Anti-Asian;Anti-Black or African American\n",
    "\n"
   ]
  },
  {
   "cell_type": "code",
   "execution_count": 15,
   "metadata": {},
   "outputs": [
    {
     "data": {
      "text/html": [
       "<div>\n",
       "<style scoped>\n",
       "    .dataframe tbody tr th:only-of-type {\n",
       "        vertical-align: middle;\n",
       "    }\n",
       "\n",
       "    .dataframe tbody tr th {\n",
       "        vertical-align: top;\n",
       "    }\n",
       "\n",
       "    .dataframe thead th {\n",
       "        text-align: right;\n",
       "    }\n",
       "</style>\n",
       "<table border=\"1\" class=\"dataframe\">\n",
       "  <thead>\n",
       "    <tr style=\"text-align: right;\">\n",
       "      <th></th>\n",
       "      <th>data_year</th>\n",
       "      <th>incident_date</th>\n",
       "      <th>offense_name</th>\n",
       "      <th>bias_desc</th>\n",
       "    </tr>\n",
       "  </thead>\n",
       "  <tbody>\n",
       "    <tr>\n",
       "      <th>50</th>\n",
       "      <td>2020</td>\n",
       "      <td>2020-04-05</td>\n",
       "      <td>Destruction/Damage/Vandalism of Property</td>\n",
       "      <td>Anti-Asian</td>\n",
       "    </tr>\n",
       "    <tr>\n",
       "      <th>96</th>\n",
       "      <td>2020</td>\n",
       "      <td>2020-04-08</td>\n",
       "      <td>Aggravated Assault</td>\n",
       "      <td>Anti-Asian</td>\n",
       "    </tr>\n",
       "    <tr>\n",
       "      <th>180</th>\n",
       "      <td>2020</td>\n",
       "      <td>2020-03-19</td>\n",
       "      <td>Intimidation</td>\n",
       "      <td>Anti-Asian</td>\n",
       "    </tr>\n",
       "    <tr>\n",
       "      <th>211</th>\n",
       "      <td>2020</td>\n",
       "      <td>2020-12-01</td>\n",
       "      <td>Intimidation</td>\n",
       "      <td>Anti-Asian</td>\n",
       "    </tr>\n",
       "    <tr>\n",
       "      <th>340</th>\n",
       "      <td>2020</td>\n",
       "      <td>2020-09-08</td>\n",
       "      <td>Intimidation</td>\n",
       "      <td>Anti-Asian</td>\n",
       "    </tr>\n",
       "    <tr>\n",
       "      <th>...</th>\n",
       "      <td>...</td>\n",
       "      <td>...</td>\n",
       "      <td>...</td>\n",
       "      <td>...</td>\n",
       "    </tr>\n",
       "    <tr>\n",
       "      <th>20713</th>\n",
       "      <td>2021</td>\n",
       "      <td>2021-10-27</td>\n",
       "      <td>Simple Assault</td>\n",
       "      <td>Anti-Arab;Anti-Asian;Anti-Black or African Ame...</td>\n",
       "    </tr>\n",
       "    <tr>\n",
       "      <th>20738</th>\n",
       "      <td>2021</td>\n",
       "      <td>2021-11-05</td>\n",
       "      <td>Destruction/Damage/Vandalism of Property</td>\n",
       "      <td>Anti-Asian</td>\n",
       "    </tr>\n",
       "    <tr>\n",
       "      <th>20754</th>\n",
       "      <td>2021</td>\n",
       "      <td>2021-10-16</td>\n",
       "      <td>Destruction/Damage/Vandalism of Property</td>\n",
       "      <td>Anti-Asian</td>\n",
       "    </tr>\n",
       "    <tr>\n",
       "      <th>20801</th>\n",
       "      <td>2021</td>\n",
       "      <td>2021-10-06</td>\n",
       "      <td>Intimidation</td>\n",
       "      <td>Anti-Asian</td>\n",
       "    </tr>\n",
       "    <tr>\n",
       "      <th>20817</th>\n",
       "      <td>2021</td>\n",
       "      <td>2021-07-21</td>\n",
       "      <td>Drug/Narcotic Violations</td>\n",
       "      <td>Anti-Asian</td>\n",
       "    </tr>\n",
       "  </tbody>\n",
       "</table>\n",
       "<p>1135 rows × 4 columns</p>\n",
       "</div>"
      ],
      "text/plain": [
       "       data_year incident_date                              offense_name  \\\n",
       "50          2020    2020-04-05  Destruction/Damage/Vandalism of Property   \n",
       "96          2020    2020-04-08                        Aggravated Assault   \n",
       "180         2020    2020-03-19                              Intimidation   \n",
       "211         2020    2020-12-01                              Intimidation   \n",
       "340         2020    2020-09-08                              Intimidation   \n",
       "...          ...           ...                                       ...   \n",
       "20713       2021    2021-10-27                            Simple Assault   \n",
       "20738       2021    2021-11-05  Destruction/Damage/Vandalism of Property   \n",
       "20754       2021    2021-10-16  Destruction/Damage/Vandalism of Property   \n",
       "20801       2021    2021-10-06                              Intimidation   \n",
       "20817       2021    2021-07-21                  Drug/Narcotic Violations   \n",
       "\n",
       "                                               bias_desc  \n",
       "50                                            Anti-Asian  \n",
       "96                                            Anti-Asian  \n",
       "180                                           Anti-Asian  \n",
       "211                                           Anti-Asian  \n",
       "340                                           Anti-Asian  \n",
       "...                                                  ...  \n",
       "20713  Anti-Arab;Anti-Asian;Anti-Black or African Ame...  \n",
       "20738                                         Anti-Asian  \n",
       "20754                                         Anti-Asian  \n",
       "20801                                         Anti-Asian  \n",
       "20817                                         Anti-Asian  \n",
       "\n",
       "[1135 rows x 4 columns]"
      ]
     },
     "execution_count": 15,
     "metadata": {},
     "output_type": "execute_result"
    }
   ],
   "source": [
    "# Filter those anti-asian incidents\n",
    "asian_crime_df = filtered_crime_df[filtered_crime_df['bias_desc'].str.contains(\"Anti-Asian\", case=True)]\n",
    "asian_crime_df"
   ]
  },
  {
   "cell_type": "code",
   "execution_count": 18,
   "metadata": {},
   "outputs": [],
   "source": [
    "crime_2020 = filtered_crime_df[filtered_crime_df['data_year']==2020]\n",
    "crime_2021 = filtered_crime_df[filtered_crime_df['data_year']==2021]\n",
    "\n",
    "asian_crime_2020 = asian_crime_df[asian_crime_df['data_year']==2020]\n",
    "asian_crime_2021 = asian_crime_df[asian_crime_df['data_year']==2021]"
   ]
  },
  {
   "cell_type": "code",
   "execution_count": 19,
   "metadata": {},
   "outputs": [
    {
     "name": "stdout",
     "output_type": "stream",
     "text": [
      "Number of Anti-Asian Hate Crimes:  357 778\n",
      "Number of all hate crimes:  9949 10889\n",
      "Ratio of Anti-Asian hate crimes:  0.035883003316916275 0.07144825052805584\n"
     ]
    }
   ],
   "source": [
    "# Ratio of anti-asian incidents\n",
    "asian_ratio_2020 = len(asian_crime_2020) / len(crime_2020)\n",
    "asian_ratio_2021 = len(asian_crime_2021) / len(crime_2021)\n",
    "print('Number of Anti-Asian Hate Crimes: ', len(asian_crime_2020),len(asian_crime_2021))\n",
    "print('Number of all hate crimes: ', len(crime_2020), len(crime_2021))\n",
    "print('Ratio of Anti-Asian hate crimes: ', asian_ratio_2020, asian_ratio_2021)"
   ]
  },
  {
   "cell_type": "markdown",
   "metadata": {},
   "source": [
    "### 2020 Anti-Asian Hate Crime Visualization"
   ]
  },
  {
   "cell_type": "code",
   "execution_count": 52,
   "metadata": {},
   "outputs": [
    {
     "data": {
      "image/png": "[encoded data removed]",
      "text/plain": [
       "<Figure size 576x360 with 1 Axes>"
      ]
     },
     "metadata": {
      "needs_background": "light"
     },
     "output_type": "display_data"
    }
   ],
   "source": [
    "asian_monthly_counts = asian_crime_2020.groupby(asian_crime_2020['incident_date'].dt.to_period('M')).size()\n",
    "\n",
    "asian_monthly_counts.plot(kind='bar', figsize=(8, 5))\n",
    "\n",
    "plt.title('Monthly Anti-Asian Hate Incidents in 2020')\n",
    "plt.xlabel('Month')\n",
    "plt.ylabel('Number of Incidents')\n",
    "plt.xticks(rotation=60)  # Rotate x-axis labels for better readability\n",
    "\n",
    "for index, value in enumerate(asian_monthly_counts):\n",
    "    plt.text(index, value, str(value), ha='center', va='bottom')\n",
    "\n",
    "plt.tight_layout()\n",
    "plt.show()"
   ]
  },
  {
   "cell_type": "code",
   "execution_count": 53,
   "metadata": {},
   "outputs": [
    {
     "data": {
      "image/png": "[encoded data removed]",
      "text/plain": [
       "<Figure size 576x360 with 1 Axes>"
      ]
     },
     "metadata": {
      "needs_background": "light"
     },
     "output_type": "display_data"
    }
   ],
   "source": [
    "df_2020_monthly = crime_2020.groupby(crime_2020['incident_date'].dt.to_period('M')).size()\n",
    "monthly_proportions = asian_monthly_counts / df_2020_monthly\n",
    "\n",
    "monthly_proportions.plot(kind='bar', figsize=(8, 5))\n",
    "plt.title('Proportion of Asian Incidents Over Total Incidents by Month in 2020')\n",
    "plt.xlabel('Month')\n",
    "plt.ylabel('Proportion')\n",
    "plt.xticks(rotation=45)\n",
    "\n",
    "for index, value in enumerate(monthly_proportions):\n",
    "    plt.text(index, round(value, 3), str(round(value, 3)), ha='center', va='bottom')\n",
    "\n",
    "plt.show()"
   ]
  },
  {
   "cell_type": "markdown",
   "metadata": {},
   "source": [
    "### 2021 Anti-Asian Hate Crime Visualization"
   ]
  },
  {
   "cell_type": "code",
   "execution_count": 23,
   "metadata": {},
   "outputs": [
    {
     "data": {
      "image/png": "[encoded data removed]",
      "text/plain": [
       "<Figure size 576x360 with 1 Axes>"
      ]
     },
     "metadata": {
      "needs_background": "light"
     },
     "output_type": "display_data"
    }
   ],
   "source": [
    "asian_monthly_counts = asian_crime_2021.groupby(asian_crime_2021['incident_date'].dt.to_period('M')).size()\n",
    "\n",
    "asian_monthly_counts.plot(kind='bar', figsize=(8, 5))\n",
    "\n",
    "plt.title('Monthly Anti-Asian Hate Incidents in 2021')\n",
    "plt.xlabel('Month')\n",
    "plt.ylabel('Number of Incidents')\n",
    "plt.xticks(rotation=60)  # Rotate x-axis labels for better readability\n",
    "\n",
    "for index, value in enumerate(asian_monthly_counts):\n",
    "    plt.text(index, value, str(value), ha='center', va='bottom')\n",
    "\n",
    "plt.tight_layout()\n",
    "plt.show()"
   ]
  },
  {
   "cell_type": "code",
   "execution_count": 24,
   "metadata": {},
   "outputs": [
    {
     "data": {
      "image/png": "[encoded data removed]",
      "text/plain": [
       "<Figure size 576x360 with 1 Axes>"
      ]
     },
     "metadata": {
      "needs_background": "light"
     },
     "output_type": "display_data"
    }
   ],
   "source": [
    "df_2021_monthly = crime_2021.groupby(crime_2021['incident_date'].dt.to_period('M')).size()\n",
    "monthly_proportions = asian_monthly_counts / df_2021_monthly\n",
    "\n",
    "monthly_proportions.plot(kind='bar', figsize=(8, 5))\n",
    "plt.title('Proportion of Asian Incidents Over Total Incidents by Month in 2021')\n",
    "plt.xlabel('Month')\n",
    "plt.ylabel('Proportion')\n",
    "plt.xticks(rotation=45)\n",
    "\n",
    "for index, value in enumerate(monthly_proportions):\n",
    "    plt.text(index, round(value, 3), str(round(value, 3)), ha='center', va='bottom')\n",
    "\n",
    "plt.show()"
   ]
  },
  {
   "cell_type": "markdown",
   "metadata": {},
   "source": [
    "FBI Hate Crime EDA:\n",
    "- 2020: Peak in March and April, two tails are insignificant in comparison\n",
    "- 2021: Peak in March and April, the peak effect spillover to later month decreasingly with another increase in November"
   ]
  },
  {
   "cell_type": "markdown",
   "metadata": {},
   "source": [
    "# Google Search Trend"
   ]
  },
  {
   "cell_type": "markdown",
   "metadata": {},
   "source": [
    "### Google trend preprocess"
   ]
  },
  {
   "cell_type": "code",
   "execution_count": 83,
   "metadata": {},
   "outputs": [
    {
     "data": {
      "text/html": [
       "<div>\n",
       "<style scoped>\n",
       "    .dataframe tbody tr th:only-of-type {\n",
       "        vertical-align: middle;\n",
       "    }\n",
       "\n",
       "    .dataframe tbody tr th {\n",
       "        vertical-align: top;\n",
       "    }\n",
       "\n",
       "    .dataframe thead th {\n",
       "        text-align: right;\n",
       "    }\n",
       "</style>\n",
       "<table border=\"1\" class=\"dataframe\">\n",
       "  <thead>\n",
       "    <tr style=\"text-align: right;\">\n",
       "      <th></th>\n",
       "      <th>Week</th>\n",
       "      <th>Chink + Chinaman + Chinkland + Gook: (United States)</th>\n",
       "      <th>Chinese virus + China virus + Wuhan virus + Kung flu: (United States)</th>\n",
       "    </tr>\n",
       "  </thead>\n",
       "  <tbody>\n",
       "    <tr>\n",
       "      <th>0</th>\n",
       "      <td>2020-01-05</td>\n",
       "      <td>1</td>\n",
       "      <td>1</td>\n",
       "    </tr>\n",
       "    <tr>\n",
       "      <th>1</th>\n",
       "      <td>2020-01-12</td>\n",
       "      <td>1</td>\n",
       "      <td>2</td>\n",
       "    </tr>\n",
       "    <tr>\n",
       "      <th>2</th>\n",
       "      <td>2020-01-19</td>\n",
       "      <td>1</td>\n",
       "      <td>89</td>\n",
       "    </tr>\n",
       "    <tr>\n",
       "      <th>3</th>\n",
       "      <td>2020-01-26</td>\n",
       "      <td>1</td>\n",
       "      <td>100</td>\n",
       "    </tr>\n",
       "    <tr>\n",
       "      <th>4</th>\n",
       "      <td>2020-02-02</td>\n",
       "      <td>1</td>\n",
       "      <td>40</td>\n",
       "    </tr>\n",
       "    <tr>\n",
       "      <th>...</th>\n",
       "      <td>...</td>\n",
       "      <td>...</td>\n",
       "      <td>...</td>\n",
       "    </tr>\n",
       "    <tr>\n",
       "      <th>99</th>\n",
       "      <td>2021-11-28</td>\n",
       "      <td>1</td>\n",
       "      <td>1</td>\n",
       "    </tr>\n",
       "    <tr>\n",
       "      <th>100</th>\n",
       "      <td>2021-12-05</td>\n",
       "      <td>1</td>\n",
       "      <td>1</td>\n",
       "    </tr>\n",
       "    <tr>\n",
       "      <th>101</th>\n",
       "      <td>2021-12-12</td>\n",
       "      <td>1</td>\n",
       "      <td>1</td>\n",
       "    </tr>\n",
       "    <tr>\n",
       "      <th>102</th>\n",
       "      <td>2021-12-19</td>\n",
       "      <td>1</td>\n",
       "      <td>1</td>\n",
       "    </tr>\n",
       "    <tr>\n",
       "      <th>103</th>\n",
       "      <td>2021-12-26</td>\n",
       "      <td>1</td>\n",
       "      <td>1</td>\n",
       "    </tr>\n",
       "  </tbody>\n",
       "</table>\n",
       "<p>104 rows × 3 columns</p>\n",
       "</div>"
      ],
      "text/plain": [
       "           Week  Chink + Chinaman + Chinkland + Gook: (United States)  \\\n",
       "0    2020-01-05                                                  1      \n",
       "1    2020-01-12                                                  1      \n",
       "2    2020-01-19                                                  1      \n",
       "3    2020-01-26                                                  1      \n",
       "4    2020-02-02                                                  1      \n",
       "..          ...                                                ...      \n",
       "99   2021-11-28                                                  1      \n",
       "100  2021-12-05                                                  1      \n",
       "101  2021-12-12                                                  1      \n",
       "102  2021-12-19                                                  1      \n",
       "103  2021-12-26                                                  1      \n",
       "\n",
       "    Chinese virus + China virus + Wuhan virus + Kung flu: (United States)  \n",
       "0                                                    1                     \n",
       "1                                                    2                     \n",
       "2                                                   89                     \n",
       "3                                                  100                     \n",
       "4                                                   40                     \n",
       "..                                                 ...                     \n",
       "99                                                   1                     \n",
       "100                                                  1                     \n",
       "101                                                  1                     \n",
       "102                                                  1                     \n",
       "103                                                  1                     \n",
       "\n",
       "[104 rows x 3 columns]"
      ]
     },
     "execution_count": 83,
     "metadata": {},
     "output_type": "execute_result"
    }
   ],
   "source": [
    "google_df = pd.read_csv(\"/Users/itsyuzhou/Winter2024/MA_thesis/GoogleTrends.csv\")\n",
    "google_df"
   ]
  },
  {
   "cell_type": "code",
   "execution_count": 26,
   "metadata": {},
   "outputs": [
    {
     "data": {
      "text/plain": [
       "Week                                                                     datetime64[ns]\n",
       "Chink + Chinaman + Chinkland + Gook: (United States)                            float64\n",
       "Chinese virus + China virus + Wuhan virus + Kung flu: (United States)           float64\n",
       "dtype: object"
      ]
     },
     "execution_count": 26,
     "metadata": {},
     "output_type": "execute_result"
    }
   ],
   "source": [
    "google_df['Week'] = pd.to_datetime(google_df['Week'])\n",
    "google_df['Chinese virus + China virus + Wuhan virus + Kung flu: (United States)'] = google_df['Chinese virus + China virus + Wuhan virus + Kung flu: (United States)'].replace('<1', '0.5').astype(float)\n",
    "google_df['Chink + Chinaman + Chinkland + Gook: (United States)'] = google_df['Chink + Chinaman + Chinkland + Gook: (United States)'].replace('<1', '0.5').astype(float)\n",
    "\n",
    "google_df.dtypes"
   ]
  },
  {
   "cell_type": "code",
   "execution_count": 27,
   "metadata": {},
   "outputs": [
    {
     "data": {
      "image/png": "[encoded data removed]",
      "text/plain": [
       "<Figure size 1080x504 with 1 Axes>"
      ]
     },
     "metadata": {
      "needs_background": "light"
     },
     "output_type": "display_data"
    }
   ],
   "source": [
    "plt.figure(figsize=(15, 7))\n",
    "plt.plot(\n",
    "    google_df['Week'].values, \n",
    "    google_df['Chinese virus + China virus + Wuhan virus + Kung flu: (United States)'].values, \n",
    "    marker='o', linestyle='-'\n",
    ")\n",
    "\n",
    "plt.title('Search Proportion Trend for Chinese virus + China virus + Wuhan virus + Kung flu')\n",
    "plt.xlabel('Week')\n",
    "plt.ylabel('Search Proportion')\n",
    "plt.xticks(rotation=45)\n",
    "plt.tight_layout()\n",
    "\n",
    "plt.show()"
   ]
  },
  {
   "cell_type": "code",
   "execution_count": 28,
   "metadata": {},
   "outputs": [
    {
     "data": {
      "image/png": "[encoded data removed]",
      "text/plain": [
       "<Figure size 1080x504 with 1 Axes>"
      ]
     },
     "metadata": {
      "needs_background": "light"
     },
     "output_type": "display_data"
    }
   ],
   "source": [
    "plt.figure(figsize=(15, 7))\n",
    "plt.plot(\n",
    "    google_df['Week'].values, \n",
    "    google_df['Chink + Chinaman + Chinkland + Gook: (United States)'].values, \n",
    "    marker='o', linestyle='-'\n",
    ")\n",
    "\n",
    "plt.title('Search Proportion Trend for Chink + Chinaman + Chinkland + Gook: (United States)')\n",
    "plt.xlabel('Week')\n",
    "plt.ylabel('Search Proportion')\n",
    "plt.xticks(rotation=45)\n",
    "plt.tight_layout()\n",
    "\n",
    "plt.show()"
   ]
  },
  {
   "cell_type": "code",
   "execution_count": 29,
   "metadata": {},
   "outputs": [
    {
     "data": {
      "image/png": "[encoded data removed]",
      "text/plain": [
       "<Figure size 1080x504 with 1 Axes>"
      ]
     },
     "metadata": {
      "needs_background": "light"
     },
     "output_type": "display_data"
    }
   ],
   "source": [
    "plt.figure(figsize=(15, 7))\n",
    "\n",
    "plt.plot(\n",
    "    google_df['Week'].values, \n",
    "    google_df['Chinese virus + China virus + Wuhan virus + Kung flu: (United States)'].values, \n",
    "    marker='o', linestyle='-', \n",
    "    label='Series 1: search proportion for covid-related Sinophobic terms'\n",
    ")\n",
    "\n",
    "plt.plot(\n",
    "    google_df['Week'].values, \n",
    "    google_df['Chink + Chinaman + Chinkland + Gook: (United States)'].values, \n",
    "    marker='o', linestyle='-', \n",
    "    label='Series 2: Search proportion for traditional Sinophobic terms'\n",
    ")\n",
    "\n",
    "plt.title('Combined Sinophobic Search Proportion Trends')\n",
    "plt.xlabel('Week')\n",
    "plt.ylabel('Search Proportion')\n",
    "plt.xticks(rotation=45)\n",
    "plt.legend()\n",
    "plt.tight_layout()\n",
    "plt.show()"
   ]
  },
  {
   "cell_type": "markdown",
   "metadata": {},
   "source": [
    "Google Search Trend EDA:\n",
    "- Covid-related Sinophobic searches peak in 2020/2 and 2020/3, with another noticeable increase in 2020/6 and 2020/7\n",
    "- Traditional Sinophobic searches peak in 2021/2, 2021/3, 2021/4 (most significant), and 2021/7"
   ]
  },
  {
   "cell_type": "code",
   "execution_count": 33,
   "metadata": {},
   "outputs": [
    {
     "data": {
      "text/html": [
       "<div>\n",
       "<style scoped>\n",
       "    .dataframe tbody tr th:only-of-type {\n",
       "        vertical-align: middle;\n",
       "    }\n",
       "\n",
       "    .dataframe tbody tr th {\n",
       "        vertical-align: top;\n",
       "    }\n",
       "\n",
       "    .dataframe thead th {\n",
       "        text-align: right;\n",
       "    }\n",
       "</style>\n",
       "<table border=\"1\" class=\"dataframe\">\n",
       "  <thead>\n",
       "    <tr style=\"text-align: right;\">\n",
       "      <th></th>\n",
       "      <th>Comment PublishedAt</th>\n",
       "      <th>Comment</th>\n",
       "      <th>Video PublishedAt</th>\n",
       "      <th>Video Title</th>\n",
       "      <th>tokenized_text</th>\n",
       "      <th>normalized_tokens</th>\n",
       "      <th>Hate Speech Score</th>\n",
       "    </tr>\n",
       "  </thead>\n",
       "  <tbody>\n",
       "    <tr>\n",
       "      <th>0</th>\n",
       "      <td>2023-03-16</td>\n",
       "      <td>Hey! First comment of 2023! Is it anniversary ...</td>\n",
       "      <td>2020-03-09</td>\n",
       "      <td>Tucker: We must remain calm but not complacent...</td>\n",
       "      <td>['Hey', 'First', 'comment', 'of', '2023', 'Is'...</td>\n",
       "      <td>['hey', 'comment', 'anniversary', 'day', 'chin...</td>\n",
       "      <td>0.685360</td>\n",
       "    </tr>\n",
       "    <tr>\n",
       "      <th>1</th>\n",
       "      <td>2021-03-26</td>\n",
       "      <td>Lora of good warnings here... that unfortunate...</td>\n",
       "      <td>2020-03-09</td>\n",
       "      <td>Tucker: We must remain calm but not complacent...</td>\n",
       "      <td>['Lora', 'of', 'good', 'warnings', 'here', 'th...</td>\n",
       "      <td>['lora', 'good', 'warnings', 'unfortunately', ...</td>\n",
       "      <td>0.320128</td>\n",
       "    </tr>\n",
       "    <tr>\n",
       "      <th>2</th>\n",
       "      <td>2020-06-22</td>\n",
       "      <td>The Chinese Coronavirus.</td>\n",
       "      <td>2020-03-09</td>\n",
       "      <td>Tucker: We must remain calm but not complacent...</td>\n",
       "      <td>['The', 'Chinese', 'Coronavirus']</td>\n",
       "      <td>['chinese', 'coronavirus']</td>\n",
       "      <td>0.000340</td>\n",
       "    </tr>\n",
       "    <tr>\n",
       "      <th>3</th>\n",
       "      <td>2020-06-09</td>\n",
       "      <td>I bet his favorite food is Chinese food. Gtfoh</td>\n",
       "      <td>2020-03-09</td>\n",
       "      <td>Tucker: We must remain calm but not complacent...</td>\n",
       "      <td>['I', 'bet', 'his', 'favorite', 'food', 'is', ...</td>\n",
       "      <td>['bet', 'favorite', 'food', 'chinese', 'food',...</td>\n",
       "      <td>0.999489</td>\n",
       "    </tr>\n",
       "    <tr>\n",
       "      <th>4</th>\n",
       "      <td>2020-05-19</td>\n",
       "      <td>Did he just said that China is the most racist...</td>\n",
       "      <td>2020-03-09</td>\n",
       "      <td>Tucker: We must remain calm but not complacent...</td>\n",
       "      <td>['Did', 'he', 'just', 'said', 'that', 'China',...</td>\n",
       "      <td>['said', 'china', 'racist', 'country', 'world']</td>\n",
       "      <td>0.000678</td>\n",
       "    </tr>\n",
       "  </tbody>\n",
       "</table>\n",
       "</div>"
      ],
      "text/plain": [
       "  Comment PublishedAt                                            Comment  \\\n",
       "0          2023-03-16  Hey! First comment of 2023! Is it anniversary ...   \n",
       "1          2021-03-26  Lora of good warnings here... that unfortunate...   \n",
       "2          2020-06-22                           The Chinese Coronavirus.   \n",
       "3          2020-06-09     I bet his favorite food is Chinese food. Gtfoh   \n",
       "4          2020-05-19  Did he just said that China is the most racist...   \n",
       "\n",
       "  Video PublishedAt                                        Video Title  \\\n",
       "0        2020-03-09  Tucker: We must remain calm but not complacent...   \n",
       "1        2020-03-09  Tucker: We must remain calm but not complacent...   \n",
       "2        2020-03-09  Tucker: We must remain calm but not complacent...   \n",
       "3        2020-03-09  Tucker: We must remain calm but not complacent...   \n",
       "4        2020-03-09  Tucker: We must remain calm but not complacent...   \n",
       "\n",
       "                                      tokenized_text  \\\n",
       "0  ['Hey', 'First', 'comment', 'of', '2023', 'Is'...   \n",
       "1  ['Lora', 'of', 'good', 'warnings', 'here', 'th...   \n",
       "2                  ['The', 'Chinese', 'Coronavirus']   \n",
       "3  ['I', 'bet', 'his', 'favorite', 'food', 'is', ...   \n",
       "4  ['Did', 'he', 'just', 'said', 'that', 'China',...   \n",
       "\n",
       "                                   normalized_tokens  Hate Speech Score  \n",
       "0  ['hey', 'comment', 'anniversary', 'day', 'chin...           0.685360  \n",
       "1  ['lora', 'good', 'warnings', 'unfortunately', ...           0.320128  \n",
       "2                         ['chinese', 'coronavirus']           0.000340  \n",
       "3  ['bet', 'favorite', 'food', 'chinese', 'food',...           0.999489  \n",
       "4    ['said', 'china', 'racist', 'country', 'world']           0.000678  "
      ]
     },
     "execution_count": 33,
     "metadata": {},
     "output_type": "execute_result"
    }
   ],
   "source": [
    "comment_df = pd.read_csv(\"/Users/itsyuzhou/Winter2024/Content-Analysis-Homework/final_project/china_sentiment.csv\", lineterminator='\\n')\n",
    "comment_df.head()"
   ]
  },
  {
   "cell_type": "code",
   "execution_count": 42,
   "metadata": {},
   "outputs": [
    {
     "name": "stdout",
     "output_type": "stream",
     "text": [
      "I seem to remember my President calling out this problem of outsourcing key American industries to China over 10 years ago.\n",
      "0.0001686504983808\n"
     ]
    }
   ],
   "source": [
    "print(comment_df.iloc[123]['Comment'])\n",
    "print(comment_df.iloc[123]['Hate Speech Score'])"
   ]
  },
  {
   "cell_type": "markdown",
   "metadata": {},
   "source": [
    "# Correlation Analysis"
   ]
  },
  {
   "cell_type": "code",
   "execution_count": 44,
   "metadata": {},
   "outputs": [
    {
     "data": {
      "text/html": [
       "<div>\n",
       "<style scoped>\n",
       "    .dataframe tbody tr th:only-of-type {\n",
       "        vertical-align: middle;\n",
       "    }\n",
       "\n",
       "    .dataframe tbody tr th {\n",
       "        vertical-align: top;\n",
       "    }\n",
       "\n",
       "    .dataframe thead th {\n",
       "        text-align: right;\n",
       "    }\n",
       "</style>\n",
       "<table border=\"1\" class=\"dataframe\">\n",
       "  <thead>\n",
       "    <tr style=\"text-align: right;\">\n",
       "      <th></th>\n",
       "      <th>Comment PublishedAt</th>\n",
       "      <th>Comment</th>\n",
       "      <th>Video PublishedAt</th>\n",
       "      <th>Video Title</th>\n",
       "      <th>tokenized_text</th>\n",
       "      <th>normalized_tokens</th>\n",
       "      <th>Hate Speech Score</th>\n",
       "      <th>Hate Speech</th>\n",
       "    </tr>\n",
       "  </thead>\n",
       "  <tbody>\n",
       "    <tr>\n",
       "      <th>0</th>\n",
       "      <td>2023-03-16</td>\n",
       "      <td>Hey! First comment of 2023! Is it anniversary ...</td>\n",
       "      <td>2020-03-09</td>\n",
       "      <td>Tucker: We must remain calm but not complacent...</td>\n",
       "      <td>['Hey', 'First', 'comment', 'of', '2023', 'Is'...</td>\n",
       "      <td>['hey', 'comment', 'anniversary', 'day', 'chin...</td>\n",
       "      <td>0.685360</td>\n",
       "      <td>1</td>\n",
       "    </tr>\n",
       "    <tr>\n",
       "      <th>1</th>\n",
       "      <td>2021-03-26</td>\n",
       "      <td>Lora of good warnings here... that unfortunate...</td>\n",
       "      <td>2020-03-09</td>\n",
       "      <td>Tucker: We must remain calm but not complacent...</td>\n",
       "      <td>['Lora', 'of', 'good', 'warnings', 'here', 'th...</td>\n",
       "      <td>['lora', 'good', 'warnings', 'unfortunately', ...</td>\n",
       "      <td>0.320128</td>\n",
       "      <td>1</td>\n",
       "    </tr>\n",
       "    <tr>\n",
       "      <th>2</th>\n",
       "      <td>2020-06-22</td>\n",
       "      <td>The Chinese Coronavirus.</td>\n",
       "      <td>2020-03-09</td>\n",
       "      <td>Tucker: We must remain calm but not complacent...</td>\n",
       "      <td>['The', 'Chinese', 'Coronavirus']</td>\n",
       "      <td>['chinese', 'coronavirus']</td>\n",
       "      <td>0.000340</td>\n",
       "      <td>0</td>\n",
       "    </tr>\n",
       "    <tr>\n",
       "      <th>3</th>\n",
       "      <td>2020-06-09</td>\n",
       "      <td>I bet his favorite food is Chinese food. Gtfoh</td>\n",
       "      <td>2020-03-09</td>\n",
       "      <td>Tucker: We must remain calm but not complacent...</td>\n",
       "      <td>['I', 'bet', 'his', 'favorite', 'food', 'is', ...</td>\n",
       "      <td>['bet', 'favorite', 'food', 'chinese', 'food',...</td>\n",
       "      <td>0.999489</td>\n",
       "      <td>1</td>\n",
       "    </tr>\n",
       "    <tr>\n",
       "      <th>4</th>\n",
       "      <td>2020-05-19</td>\n",
       "      <td>Did he just said that China is the most racist...</td>\n",
       "      <td>2020-03-09</td>\n",
       "      <td>Tucker: We must remain calm but not complacent...</td>\n",
       "      <td>['Did', 'he', 'just', 'said', 'that', 'China',...</td>\n",
       "      <td>['said', 'china', 'racist', 'country', 'world']</td>\n",
       "      <td>0.000678</td>\n",
       "      <td>0</td>\n",
       "    </tr>\n",
       "  </tbody>\n",
       "</table>\n",
       "</div>"
      ],
      "text/plain": [
       "  Comment PublishedAt                                            Comment  \\\n",
       "0          2023-03-16  Hey! First comment of 2023! Is it anniversary ...   \n",
       "1          2021-03-26  Lora of good warnings here... that unfortunate...   \n",
       "2          2020-06-22                           The Chinese Coronavirus.   \n",
       "3          2020-06-09     I bet his favorite food is Chinese food. Gtfoh   \n",
       "4          2020-05-19  Did he just said that China is the most racist...   \n",
       "\n",
       "  Video PublishedAt                                        Video Title  \\\n",
       "0        2020-03-09  Tucker: We must remain calm but not complacent...   \n",
       "1        2020-03-09  Tucker: We must remain calm but not complacent...   \n",
       "2        2020-03-09  Tucker: We must remain calm but not complacent...   \n",
       "3        2020-03-09  Tucker: We must remain calm but not complacent...   \n",
       "4        2020-03-09  Tucker: We must remain calm but not complacent...   \n",
       "\n",
       "                                      tokenized_text  \\\n",
       "0  ['Hey', 'First', 'comment', 'of', '2023', 'Is'...   \n",
       "1  ['Lora', 'of', 'good', 'warnings', 'here', 'th...   \n",
       "2                  ['The', 'Chinese', 'Coronavirus']   \n",
       "3  ['I', 'bet', 'his', 'favorite', 'food', 'is', ...   \n",
       "4  ['Did', 'he', 'just', 'said', 'that', 'China',...   \n",
       "\n",
       "                                   normalized_tokens  Hate Speech Score  \\\n",
       "0  ['hey', 'comment', 'anniversary', 'day', 'chin...           0.685360   \n",
       "1  ['lora', 'good', 'warnings', 'unfortunately', ...           0.320128   \n",
       "2                         ['chinese', 'coronavirus']           0.000340   \n",
       "3  ['bet', 'favorite', 'food', 'chinese', 'food',...           0.999489   \n",
       "4    ['said', 'china', 'racist', 'country', 'world']           0.000678   \n",
       "\n",
       "   Hate Speech  \n",
       "0            1  \n",
       "1            1  \n",
       "2            0  \n",
       "3            1  \n",
       "4            0  "
      ]
     },
     "execution_count": 44,
     "metadata": {},
     "output_type": "execute_result"
    }
   ],
   "source": [
    "comment_df['Hate Speech'] = (comment_df['Hate Speech Score'] >= 0.2).astype(int)\n",
    "comment_df.head()"
   ]
  },
  {
   "cell_type": "code",
   "execution_count": 48,
   "metadata": {},
   "outputs": [
    {
     "data": {
      "text/html": [
       "<div>\n",
       "<style scoped>\n",
       "    .dataframe tbody tr th:only-of-type {\n",
       "        vertical-align: middle;\n",
       "    }\n",
       "\n",
       "    .dataframe tbody tr th {\n",
       "        vertical-align: top;\n",
       "    }\n",
       "\n",
       "    .dataframe thead th {\n",
       "        text-align: right;\n",
       "    }\n",
       "</style>\n",
       "<table border=\"1\" class=\"dataframe\">\n",
       "  <thead>\n",
       "    <tr style=\"text-align: right;\">\n",
       "      <th></th>\n",
       "      <th>Comment PublishedAt</th>\n",
       "      <th>Comment</th>\n",
       "      <th>Video PublishedAt</th>\n",
       "      <th>Video Title</th>\n",
       "      <th>tokenized_text</th>\n",
       "      <th>normalized_tokens</th>\n",
       "      <th>Hate Speech Score</th>\n",
       "      <th>Hate Speech</th>\n",
       "      <th>Month</th>\n",
       "    </tr>\n",
       "  </thead>\n",
       "  <tbody>\n",
       "    <tr>\n",
       "      <th>0</th>\n",
       "      <td>2023-03-16</td>\n",
       "      <td>Hey! First comment of 2023! Is it anniversary ...</td>\n",
       "      <td>2020-03-09</td>\n",
       "      <td>Tucker: We must remain calm but not complacent...</td>\n",
       "      <td>['Hey', 'First', 'comment', 'of', '2023', 'Is'...</td>\n",
       "      <td>['hey', 'comment', 'anniversary', 'day', 'chin...</td>\n",
       "      <td>0.685360</td>\n",
       "      <td>1</td>\n",
       "      <td>2020-03</td>\n",
       "    </tr>\n",
       "    <tr>\n",
       "      <th>1</th>\n",
       "      <td>2021-03-26</td>\n",
       "      <td>Lora of good warnings here... that unfortunate...</td>\n",
       "      <td>2020-03-09</td>\n",
       "      <td>Tucker: We must remain calm but not complacent...</td>\n",
       "      <td>['Lora', 'of', 'good', 'warnings', 'here', 'th...</td>\n",
       "      <td>['lora', 'good', 'warnings', 'unfortunately', ...</td>\n",
       "      <td>0.320128</td>\n",
       "      <td>1</td>\n",
       "      <td>2020-03</td>\n",
       "    </tr>\n",
       "    <tr>\n",
       "      <th>2</th>\n",
       "      <td>2020-06-22</td>\n",
       "      <td>The Chinese Coronavirus.</td>\n",
       "      <td>2020-03-09</td>\n",
       "      <td>Tucker: We must remain calm but not complacent...</td>\n",
       "      <td>['The', 'Chinese', 'Coronavirus']</td>\n",
       "      <td>['chinese', 'coronavirus']</td>\n",
       "      <td>0.000340</td>\n",
       "      <td>0</td>\n",
       "      <td>2020-03</td>\n",
       "    </tr>\n",
       "    <tr>\n",
       "      <th>3</th>\n",
       "      <td>2020-06-09</td>\n",
       "      <td>I bet his favorite food is Chinese food. Gtfoh</td>\n",
       "      <td>2020-03-09</td>\n",
       "      <td>Tucker: We must remain calm but not complacent...</td>\n",
       "      <td>['I', 'bet', 'his', 'favorite', 'food', 'is', ...</td>\n",
       "      <td>['bet', 'favorite', 'food', 'chinese', 'food',...</td>\n",
       "      <td>0.999489</td>\n",
       "      <td>1</td>\n",
       "      <td>2020-03</td>\n",
       "    </tr>\n",
       "    <tr>\n",
       "      <th>4</th>\n",
       "      <td>2020-05-19</td>\n",
       "      <td>Did he just said that China is the most racist...</td>\n",
       "      <td>2020-03-09</td>\n",
       "      <td>Tucker: We must remain calm but not complacent...</td>\n",
       "      <td>['Did', 'he', 'just', 'said', 'that', 'China',...</td>\n",
       "      <td>['said', 'china', 'racist', 'country', 'world']</td>\n",
       "      <td>0.000678</td>\n",
       "      <td>0</td>\n",
       "      <td>2020-03</td>\n",
       "    </tr>\n",
       "  </tbody>\n",
       "</table>\n",
       "</div>"
      ],
      "text/plain": [
       "  Comment PublishedAt                                            Comment  \\\n",
       "0          2023-03-16  Hey! First comment of 2023! Is it anniversary ...   \n",
       "1          2021-03-26  Lora of good warnings here... that unfortunate...   \n",
       "2          2020-06-22                           The Chinese Coronavirus.   \n",
       "3          2020-06-09     I bet his favorite food is Chinese food. Gtfoh   \n",
       "4          2020-05-19  Did he just said that China is the most racist...   \n",
       "\n",
       "  Video PublishedAt                                        Video Title  \\\n",
       "0        2020-03-09  Tucker: We must remain calm but not complacent...   \n",
       "1        2020-03-09  Tucker: We must remain calm but not complacent...   \n",
       "2        2020-03-09  Tucker: We must remain calm but not complacent...   \n",
       "3        2020-03-09  Tucker: We must remain calm but not complacent...   \n",
       "4        2020-03-09  Tucker: We must remain calm but not complacent...   \n",
       "\n",
       "                                      tokenized_text  \\\n",
       "0  ['Hey', 'First', 'comment', 'of', '2023', 'Is'...   \n",
       "1  ['Lora', 'of', 'good', 'warnings', 'here', 'th...   \n",
       "2                  ['The', 'Chinese', 'Coronavirus']   \n",
       "3  ['I', 'bet', 'his', 'favorite', 'food', 'is', ...   \n",
       "4  ['Did', 'he', 'just', 'said', 'that', 'China',...   \n",
       "\n",
       "                                   normalized_tokens  Hate Speech Score  \\\n",
       "0  ['hey', 'comment', 'anniversary', 'day', 'chin...           0.685360   \n",
       "1  ['lora', 'good', 'warnings', 'unfortunately', ...           0.320128   \n",
       "2                         ['chinese', 'coronavirus']           0.000340   \n",
       "3  ['bet', 'favorite', 'food', 'chinese', 'food',...           0.999489   \n",
       "4    ['said', 'china', 'racist', 'country', 'world']           0.000678   \n",
       "\n",
       "   Hate Speech    Month  \n",
       "0            1  2020-03  \n",
       "1            1  2020-03  \n",
       "2            0  2020-03  \n",
       "3            1  2020-03  \n",
       "4            0  2020-03  "
      ]
     },
     "execution_count": 48,
     "metadata": {},
     "output_type": "execute_result"
    }
   ],
   "source": [
    "comment_df['Video PublishedAt'] = pd.to_datetime(comment_df['Video PublishedAt'])\n",
    "comment_df['Month'] = comment_df['Video PublishedAt'].dt.to_period('M')\n",
    "comment_df.head()"
   ]
  },
  {
   "cell_type": "code",
   "execution_count": 51,
   "metadata": {},
   "outputs": [
    {
     "data": {
      "text/plain": [
       "Video PublishedAt\n",
       "2020-01      78\n",
       "2020-02     103\n",
       "2020-03     922\n",
       "2020-04      12\n",
       "2020-05     165\n",
       "2020-06      69\n",
       "2020-07      50\n",
       "2020-08       7\n",
       "2020-09    3037\n",
       "2020-10     167\n",
       "2020-11      86\n",
       "2020-12      51\n",
       "Freq: M, Name: Hate Speech, dtype: int64"
      ]
     },
     "execution_count": 51,
     "metadata": {},
     "output_type": "execute_result"
    }
   ],
   "source": [
    "hateComments_monthly_counts = comment_df.groupby(comment_df['Video PublishedAt'].dt.to_period('M'))['Hate Speech'].sum()\n",
    "hateComments_monthly_counts"
   ]
  },
  {
   "cell_type": "code",
   "execution_count": 54,
   "metadata": {},
   "outputs": [
    {
     "data": {
      "text/plain": [
       "incident_date\n",
       "2020-01    18\n",
       "2020-02    14\n",
       "2020-03    55\n",
       "2020-04    51\n",
       "2020-05    44\n",
       "2020-06    39\n",
       "2020-07    26\n",
       "2020-08    19\n",
       "2020-09    29\n",
       "2020-10    26\n",
       "2020-11    17\n",
       "2020-12    19\n",
       "Freq: M, dtype: int64"
      ]
     },
     "execution_count": 54,
     "metadata": {},
     "output_type": "execute_result"
    }
   ],
   "source": [
    "asian_monthly_counts"
   ]
  },
  {
   "cell_type": "code",
   "execution_count": 56,
   "metadata": {},
   "outputs": [
    {
     "data": {
      "text/plain": [
       "Month\n",
       "2020-01    0.441886\n",
       "2020-02    0.443404\n",
       "2020-03    0.386435\n",
       "2020-04    0.322001\n",
       "2020-05    0.383086\n",
       "2020-06    0.475127\n",
       "2020-07    0.372409\n",
       "2020-08    0.365997\n",
       "2020-09    0.417827\n",
       "2020-10    0.290872\n",
       "2020-11    0.367612\n",
       "2020-12    0.327474\n",
       "Freq: M, Name: Hate Speech Score, dtype: float64"
      ]
     },
     "execution_count": 56,
     "metadata": {},
     "output_type": "execute_result"
    }
   ],
   "source": [
    "comments_score_aggregated = comment_df.groupby('Month')['Hate Speech Score'].mean()\n",
    "comments_score_aggregated"
   ]
  },
  {
   "cell_type": "code",
   "execution_count": 57,
   "metadata": {},
   "outputs": [
    {
     "data": {
      "text/html": [
       "<div>\n",
       "<style scoped>\n",
       "    .dataframe tbody tr th:only-of-type {\n",
       "        vertical-align: middle;\n",
       "    }\n",
       "\n",
       "    .dataframe tbody tr th {\n",
       "        vertical-align: top;\n",
       "    }\n",
       "\n",
       "    .dataframe thead th {\n",
       "        text-align: right;\n",
       "    }\n",
       "</style>\n",
       "<table border=\"1\" class=\"dataframe\">\n",
       "  <thead>\n",
       "    <tr style=\"text-align: right;\">\n",
       "      <th></th>\n",
       "      <th>Crime Count</th>\n",
       "      <th>Average Hate Score</th>\n",
       "    </tr>\n",
       "  </thead>\n",
       "  <tbody>\n",
       "    <tr>\n",
       "      <th>2020-01</th>\n",
       "      <td>18</td>\n",
       "      <td>0.441886</td>\n",
       "    </tr>\n",
       "    <tr>\n",
       "      <th>2020-02</th>\n",
       "      <td>14</td>\n",
       "      <td>0.443404</td>\n",
       "    </tr>\n",
       "    <tr>\n",
       "      <th>2020-03</th>\n",
       "      <td>55</td>\n",
       "      <td>0.386435</td>\n",
       "    </tr>\n",
       "    <tr>\n",
       "      <th>2020-04</th>\n",
       "      <td>51</td>\n",
       "      <td>0.322001</td>\n",
       "    </tr>\n",
       "    <tr>\n",
       "      <th>2020-05</th>\n",
       "      <td>44</td>\n",
       "      <td>0.383086</td>\n",
       "    </tr>\n",
       "    <tr>\n",
       "      <th>2020-06</th>\n",
       "      <td>39</td>\n",
       "      <td>0.475127</td>\n",
       "    </tr>\n",
       "    <tr>\n",
       "      <th>2020-07</th>\n",
       "      <td>26</td>\n",
       "      <td>0.372409</td>\n",
       "    </tr>\n",
       "    <tr>\n",
       "      <th>2020-08</th>\n",
       "      <td>19</td>\n",
       "      <td>0.365997</td>\n",
       "    </tr>\n",
       "    <tr>\n",
       "      <th>2020-09</th>\n",
       "      <td>29</td>\n",
       "      <td>0.417827</td>\n",
       "    </tr>\n",
       "    <tr>\n",
       "      <th>2020-10</th>\n",
       "      <td>26</td>\n",
       "      <td>0.290872</td>\n",
       "    </tr>\n",
       "    <tr>\n",
       "      <th>2020-11</th>\n",
       "      <td>17</td>\n",
       "      <td>0.367612</td>\n",
       "    </tr>\n",
       "    <tr>\n",
       "      <th>2020-12</th>\n",
       "      <td>19</td>\n",
       "      <td>0.327474</td>\n",
       "    </tr>\n",
       "  </tbody>\n",
       "</table>\n",
       "</div>"
      ],
      "text/plain": [
       "         Crime Count  Average Hate Score\n",
       "2020-01           18            0.441886\n",
       "2020-02           14            0.443404\n",
       "2020-03           55            0.386435\n",
       "2020-04           51            0.322001\n",
       "2020-05           44            0.383086\n",
       "2020-06           39            0.475127\n",
       "2020-07           26            0.372409\n",
       "2020-08           19            0.365997\n",
       "2020-09           29            0.417827\n",
       "2020-10           26            0.290872\n",
       "2020-11           17            0.367612\n",
       "2020-12           19            0.327474"
      ]
     },
     "execution_count": 57,
     "metadata": {},
     "output_type": "execute_result"
    }
   ],
   "source": [
    "fbi_comment = pd.DataFrame({\n",
    "    'Crime Count': asian_monthly_counts,\n",
    "    'Average Hate Score': comments_score_aggregated\n",
    "}).dropna() \n",
    "fbi_comment"
   ]
  },
  {
   "cell_type": "code",
   "execution_count": 58,
   "metadata": {},
   "outputs": [
    {
     "name": "stdout",
     "output_type": "stream",
     "text": [
      "                    Crime Count  Average Hate Score\n",
      "Crime Count            1.000000           -0.078508\n",
      "Average Hate Score    -0.078508            1.000000\n"
     ]
    }
   ],
   "source": [
    "correlation = fbi_comment.corr()\n",
    "print(correlation)"
   ]
  },
  {
   "cell_type": "markdown",
   "metadata": {},
   "source": [
    "Analysis on FBI anti-asian hate crimes and comment hate score:\n",
    "- Weak Correlation: The correlation coefficient between \"Crime Count\" and \"Average Hate Score\" is 0.079, suggesting that there is almost no linear relationship between these two variables.\n",
    "- Negative Correlation: Average hate score descreases as crime count increases"
   ]
  },
  {
   "cell_type": "code",
   "execution_count": 62,
   "metadata": {},
   "outputs": [
    {
     "name": "stderr",
     "output_type": "stream",
     "text": [
      "/Users/itsyuzhou/opt/anaconda3/lib/python3.9/site-packages/scipy/__init__.py:146: UserWarning: A NumPy version >=1.16.5 and <1.23.0 is required for this version of SciPy (detected version 1.26.4\n",
      "  warnings.warn(f\"A NumPy version >={np_minversion} and <{np_maxversion}\"\n"
     ]
    }
   ],
   "source": [
    "from sklearn.preprocessing import StandardScaler\n",
    "\n",
    "scaler = StandardScaler()\n",
    "combined_data_standardized = pd.DataFrame(scaler.fit_transform(fbi_comment), columns=fbi_comment.columns, index=fbi_comment.index)"
   ]
  },
  {
   "cell_type": "code",
   "execution_count": 64,
   "metadata": {},
   "outputs": [
    {
     "data": {
      "image/png": "[encoded data removed]",
      "text/plain": [
       "<Figure size 720x432 with 1 Axes>"
      ]
     },
     "metadata": {
      "needs_background": "light"
     },
     "output_type": "display_data"
    }
   ],
   "source": [
    "combined_data_standardized.plot(kind='line', figsize=(10, 6))\n",
    "\n",
    "plt.title('Crime Count and Average Hate Score Over Time')\n",
    "plt.xlabel('Time')\n",
    "plt.ylabel('Values')\n",
    "plt.legend(['Crime Count', 'Average Hate Score'])\n",
    "plt.xticks(rotation=45)\n",
    "plt.tight_layout()\n",
    "plt.show()"
   ]
  },
  {
   "cell_type": "code",
   "execution_count": 59,
   "metadata": {},
   "outputs": [
    {
     "data": {
      "text/html": [
       "<div>\n",
       "<style scoped>\n",
       "    .dataframe tbody tr th:only-of-type {\n",
       "        vertical-align: middle;\n",
       "    }\n",
       "\n",
       "    .dataframe tbody tr th {\n",
       "        vertical-align: top;\n",
       "    }\n",
       "\n",
       "    .dataframe thead th {\n",
       "        text-align: right;\n",
       "    }\n",
       "</style>\n",
       "<table border=\"1\" class=\"dataframe\">\n",
       "  <thead>\n",
       "    <tr style=\"text-align: right;\">\n",
       "      <th></th>\n",
       "      <th>Crime Count</th>\n",
       "      <th>Hate Comment Count</th>\n",
       "    </tr>\n",
       "  </thead>\n",
       "  <tbody>\n",
       "    <tr>\n",
       "      <th>2020-01</th>\n",
       "      <td>18</td>\n",
       "      <td>78</td>\n",
       "    </tr>\n",
       "    <tr>\n",
       "      <th>2020-02</th>\n",
       "      <td>14</td>\n",
       "      <td>103</td>\n",
       "    </tr>\n",
       "    <tr>\n",
       "      <th>2020-03</th>\n",
       "      <td>55</td>\n",
       "      <td>922</td>\n",
       "    </tr>\n",
       "    <tr>\n",
       "      <th>2020-04</th>\n",
       "      <td>51</td>\n",
       "      <td>12</td>\n",
       "    </tr>\n",
       "    <tr>\n",
       "      <th>2020-05</th>\n",
       "      <td>44</td>\n",
       "      <td>165</td>\n",
       "    </tr>\n",
       "    <tr>\n",
       "      <th>2020-06</th>\n",
       "      <td>39</td>\n",
       "      <td>69</td>\n",
       "    </tr>\n",
       "    <tr>\n",
       "      <th>2020-07</th>\n",
       "      <td>26</td>\n",
       "      <td>50</td>\n",
       "    </tr>\n",
       "    <tr>\n",
       "      <th>2020-08</th>\n",
       "      <td>19</td>\n",
       "      <td>7</td>\n",
       "    </tr>\n",
       "    <tr>\n",
       "      <th>2020-09</th>\n",
       "      <td>29</td>\n",
       "      <td>3037</td>\n",
       "    </tr>\n",
       "    <tr>\n",
       "      <th>2020-10</th>\n",
       "      <td>26</td>\n",
       "      <td>167</td>\n",
       "    </tr>\n",
       "    <tr>\n",
       "      <th>2020-11</th>\n",
       "      <td>17</td>\n",
       "      <td>86</td>\n",
       "    </tr>\n",
       "    <tr>\n",
       "      <th>2020-12</th>\n",
       "      <td>19</td>\n",
       "      <td>51</td>\n",
       "    </tr>\n",
       "  </tbody>\n",
       "</table>\n",
       "</div>"
      ],
      "text/plain": [
       "         Crime Count  Hate Comment Count\n",
       "2020-01           18                  78\n",
       "2020-02           14                 103\n",
       "2020-03           55                 922\n",
       "2020-04           51                  12\n",
       "2020-05           44                 165\n",
       "2020-06           39                  69\n",
       "2020-07           26                  50\n",
       "2020-08           19                   7\n",
       "2020-09           29                3037\n",
       "2020-10           26                 167\n",
       "2020-11           17                  86\n",
       "2020-12           19                  51"
      ]
     },
     "execution_count": 59,
     "metadata": {},
     "output_type": "execute_result"
    }
   ],
   "source": [
    "fbi_comment1 = pd.DataFrame({\n",
    "    'Crime Count': asian_monthly_counts,\n",
    "    'Hate Comment Count': hateComments_monthly_counts\n",
    "}).dropna() \n",
    "fbi_comment1"
   ]
  },
  {
   "cell_type": "code",
   "execution_count": 60,
   "metadata": {},
   "outputs": [
    {
     "name": "stdout",
     "output_type": "stream",
     "text": [
      "                    Crime Count  Hate Comment Count\n",
      "Crime Count            1.000000            0.142474\n",
      "Hate Comment Count     0.142474            1.000000\n"
     ]
    }
   ],
   "source": [
    "correlation1 = fbi_comment1.corr()\n",
    "print(correlation1)"
   ]
  },
  {
   "cell_type": "markdown",
   "metadata": {},
   "source": [
    "Analysis on FBI anti-asian hate crimes and Sinophobic comment count:\n",
    "- Weak positive correlation\n",
    "- More logical then using average hate speech score, at least this one is positive as intuitive"
   ]
  },
  {
   "cell_type": "code",
   "execution_count": 65,
   "metadata": {},
   "outputs": [
    {
     "data": {
      "image/png": "[encoded data removed]",
      "text/plain": [
       "<Figure size 720x432 with 1 Axes>"
      ]
     },
     "metadata": {
      "needs_background": "light"
     },
     "output_type": "display_data"
    }
   ],
   "source": [
    "combined_data_standardized1 = pd.DataFrame(scaler.fit_transform(fbi_comment1), columns=fbi_comment1.columns, index=fbi_comment1.index)\n",
    "\n",
    "combined_data_standardized1.plot(kind='line', figsize=(10, 6))\n",
    "\n",
    "plt.title('Crime Count and Sinophobic Comment Count Over Time')\n",
    "plt.xlabel('Time')\n",
    "plt.ylabel('Values')\n",
    "plt.legend(['Crime Count', 'Hate Comment Count'])\n",
    "plt.xticks(rotation=45)\n",
    "plt.tight_layout()\n",
    "plt.show()"
   ]
  },
  {
   "cell_type": "markdown",
   "metadata": {},
   "source": [
    "# Regression Analysis"
   ]
  },
  {
   "cell_type": "markdown",
   "metadata": {},
   "source": [
    "### 1. OLS (Ordinary Least Squares)"
   ]
  },
  {
   "cell_type": "code",
   "execution_count": 66,
   "metadata": {},
   "outputs": [],
   "source": [
    "import statsmodels.api as sm"
   ]
  },
  {
   "cell_type": "code",
   "execution_count": 70,
   "metadata": {},
   "outputs": [
    {
     "data": {
      "text/html": [
       "<div>\n",
       "<style scoped>\n",
       "    .dataframe tbody tr th:only-of-type {\n",
       "        vertical-align: middle;\n",
       "    }\n",
       "\n",
       "    .dataframe tbody tr th {\n",
       "        vertical-align: top;\n",
       "    }\n",
       "\n",
       "    .dataframe thead th {\n",
       "        text-align: right;\n",
       "    }\n",
       "</style>\n",
       "<table border=\"1\" class=\"dataframe\">\n",
       "  <thead>\n",
       "    <tr style=\"text-align: right;\">\n",
       "      <th></th>\n",
       "      <th>Crime Count</th>\n",
       "      <th>Average Hate Score</th>\n",
       "    </tr>\n",
       "  </thead>\n",
       "  <tbody>\n",
       "    <tr>\n",
       "      <th>2020-01</th>\n",
       "      <td>-0.870520</td>\n",
       "      <td>1.130038</td>\n",
       "    </tr>\n",
       "    <tr>\n",
       "      <th>2020-02</th>\n",
       "      <td>-1.166867</td>\n",
       "      <td>1.159093</td>\n",
       "    </tr>\n",
       "    <tr>\n",
       "      <th>2020-03</th>\n",
       "      <td>1.870691</td>\n",
       "      <td>0.068731</td>\n",
       "    </tr>\n",
       "    <tr>\n",
       "      <th>2020-04</th>\n",
       "      <td>1.574344</td>\n",
       "      <td>-1.164516</td>\n",
       "    </tr>\n",
       "    <tr>\n",
       "      <th>2020-05</th>\n",
       "      <td>1.055737</td>\n",
       "      <td>0.004632</td>\n",
       "    </tr>\n",
       "    <tr>\n",
       "      <th>2020-06</th>\n",
       "      <td>0.685303</td>\n",
       "      <td>1.766264</td>\n",
       "    </tr>\n",
       "    <tr>\n",
       "      <th>2020-07</th>\n",
       "      <td>-0.277825</td>\n",
       "      <td>-0.199728</td>\n",
       "    </tr>\n",
       "    <tr>\n",
       "      <th>2020-08</th>\n",
       "      <td>-0.796433</td>\n",
       "      <td>-0.322445</td>\n",
       "    </tr>\n",
       "    <tr>\n",
       "      <th>2020-09</th>\n",
       "      <td>-0.055565</td>\n",
       "      <td>0.669563</td>\n",
       "    </tr>\n",
       "    <tr>\n",
       "      <th>2020-10</th>\n",
       "      <td>-0.277825</td>\n",
       "      <td>-1.760312</td>\n",
       "    </tr>\n",
       "    <tr>\n",
       "      <th>2020-11</th>\n",
       "      <td>-0.944606</td>\n",
       "      <td>-0.291552</td>\n",
       "    </tr>\n",
       "    <tr>\n",
       "      <th>2020-12</th>\n",
       "      <td>-0.796433</td>\n",
       "      <td>-1.059768</td>\n",
       "    </tr>\n",
       "  </tbody>\n",
       "</table>\n",
       "</div>"
      ],
      "text/plain": [
       "         Crime Count  Average Hate Score\n",
       "2020-01    -0.870520            1.130038\n",
       "2020-02    -1.166867            1.159093\n",
       "2020-03     1.870691            0.068731\n",
       "2020-04     1.574344           -1.164516\n",
       "2020-05     1.055737            0.004632\n",
       "2020-06     0.685303            1.766264\n",
       "2020-07    -0.277825           -0.199728\n",
       "2020-08    -0.796433           -0.322445\n",
       "2020-09    -0.055565            0.669563\n",
       "2020-10    -0.277825           -1.760312\n",
       "2020-11    -0.944606           -0.291552\n",
       "2020-12    -0.796433           -1.059768"
      ]
     },
     "execution_count": 70,
     "metadata": {},
     "output_type": "execute_result"
    }
   ],
   "source": [
    "combined_data_standardized"
   ]
  },
  {
   "cell_type": "markdown",
   "metadata": {},
   "source": [
    "### 1.1 Crime count and average hate score"
   ]
  },
  {
   "cell_type": "code",
   "execution_count": 71,
   "metadata": {},
   "outputs": [
    {
     "name": "stdout",
     "output_type": "stream",
     "text": [
      "                            OLS Regression Results                            \n",
      "==============================================================================\n",
      "Dep. Variable:            Crime Count   R-squared:                       0.006\n",
      "Model:                            OLS   Adj. R-squared:                 -0.093\n",
      "Method:                 Least Squares   F-statistic:                   0.06202\n",
      "Date:                Tue, 19 Mar 2024   Prob (F-statistic):              0.808\n",
      "Time:                        16:44:40   Log-Likelihood:                -16.990\n",
      "No. Observations:                  12   AIC:                             37.98\n",
      "Df Residuals:                      10   BIC:                             38.95\n",
      "Df Model:                           1                                         \n",
      "Covariance Type:            nonrobust                                         \n",
      "======================================================================================\n",
      "                         coef    std err          t      P>|t|      [0.025      0.975]\n",
      "--------------------------------------------------------------------------------------\n",
      "const                       0      0.315          0      1.000      -0.702       0.702\n",
      "Average Hate Score    -0.0785      0.315     -0.249      0.808      -0.781       0.624\n",
      "==============================================================================\n",
      "Omnibus:                        2.161   Durbin-Watson:                   0.995\n",
      "Prob(Omnibus):                  0.339   Jarque-Bera (JB):                1.422\n",
      "Skew:                           0.643   Prob(JB):                        0.491\n",
      "Kurtosis:                       1.908   Cond. No.                         1.00\n",
      "==============================================================================\n",
      "\n",
      "Notes:\n",
      "[1] Standard Errors assume that the covariance matrix of the errors is correctly specified.\n"
     ]
    },
    {
     "name": "stderr",
     "output_type": "stream",
     "text": [
      "/Users/itsyuzhou/opt/anaconda3/lib/python3.9/site-packages/scipy/stats/stats.py:1541: UserWarning: kurtosistest only valid for n>=20 ... continuing anyway, n=12\n",
      "  warnings.warn(\"kurtosistest only valid for n>=20 ... continuing \"\n"
     ]
    }
   ],
   "source": [
    "# Define predictor and response variables\n",
    "y = combined_data_standardized['Crime Count']\n",
    "x = combined_data_standardized['Average Hate Score']\n",
    "\n",
    "# Add constant to predictor variables\n",
    "x = sm.add_constant(x)\n",
    "\n",
    "# Fit linear regression model\n",
    "model = sm.OLS(y, x).fit()\n",
    "\n",
    "# View model summary\n",
    "print(model.summary())"
   ]
  },
  {
   "cell_type": "markdown",
   "metadata": {},
   "source": [
    "- Indenpendent variable: Average Hate Score\n",
    "- Dependent variable: Crime Count\n",
    "- changes in crime count = -0.0785 * average hate score"
   ]
  },
  {
   "cell_type": "code",
   "execution_count": 72,
   "metadata": {},
   "outputs": [
    {
     "name": "stdout",
     "output_type": "stream",
     "text": [
      "                            OLS Regression Results                            \n",
      "==============================================================================\n",
      "Dep. Variable:     Average Hate Score   R-squared:                       0.006\n",
      "Model:                            OLS   Adj. R-squared:                 -0.093\n",
      "Method:                 Least Squares   F-statistic:                   0.06202\n",
      "Date:                Tue, 19 Mar 2024   Prob (F-statistic):              0.808\n",
      "Time:                        16:48:30   Log-Likelihood:                -16.990\n",
      "No. Observations:                  12   AIC:                             37.98\n",
      "Df Residuals:                      10   BIC:                             38.95\n",
      "Df Model:                           1                                         \n",
      "Covariance Type:            nonrobust                                         \n",
      "===============================================================================\n",
      "                  coef    std err          t      P>|t|      [0.025      0.975]\n",
      "-------------------------------------------------------------------------------\n",
      "const       -6.661e-16      0.315  -2.11e-15      1.000      -0.702       0.702\n",
      "Crime Count    -0.0785      0.315     -0.249      0.808      -0.781       0.624\n",
      "==============================================================================\n",
      "Omnibus:                        0.056   Durbin-Watson:                   1.714\n",
      "Prob(Omnibus):                  0.972   Jarque-Bera (JB):                0.286\n",
      "Skew:                           0.036   Prob(JB):                        0.867\n",
      "Kurtosis:                       2.247   Cond. No.                         1.00\n",
      "==============================================================================\n",
      "\n",
      "Notes:\n",
      "[1] Standard Errors assume that the covariance matrix of the errors is correctly specified.\n"
     ]
    },
    {
     "name": "stderr",
     "output_type": "stream",
     "text": [
      "/Users/itsyuzhou/opt/anaconda3/lib/python3.9/site-packages/scipy/stats/stats.py:1541: UserWarning: kurtosistest only valid for n>=20 ... continuing anyway, n=12\n",
      "  warnings.warn(\"kurtosistest only valid for n>=20 ... continuing \"\n"
     ]
    }
   ],
   "source": [
    "x = combined_data_standardized['Crime Count']\n",
    "y = combined_data_standardized['Average Hate Score']\n",
    "\n",
    "x = sm.add_constant(x)\n",
    "model = sm.OLS(y, x).fit()\n",
    "\n",
    "print(model.summary())"
   ]
  },
  {
   "cell_type": "markdown",
   "metadata": {},
   "source": [
    "### 1.2 Crime count and Sinophobic comment count"
   ]
  },
  {
   "cell_type": "code",
   "execution_count": 74,
   "metadata": {},
   "outputs": [
    {
     "data": {
      "text/html": [
       "<div>\n",
       "<style scoped>\n",
       "    .dataframe tbody tr th:only-of-type {\n",
       "        vertical-align: middle;\n",
       "    }\n",
       "\n",
       "    .dataframe tbody tr th {\n",
       "        vertical-align: top;\n",
       "    }\n",
       "\n",
       "    .dataframe thead th {\n",
       "        text-align: right;\n",
       "    }\n",
       "</style>\n",
       "<table border=\"1\" class=\"dataframe\">\n",
       "  <thead>\n",
       "    <tr style=\"text-align: right;\">\n",
       "      <th></th>\n",
       "      <th>Crime Count</th>\n",
       "      <th>Hate Comment Count</th>\n",
       "    </tr>\n",
       "  </thead>\n",
       "  <tbody>\n",
       "    <tr>\n",
       "      <th>2020-01</th>\n",
       "      <td>-0.870520</td>\n",
       "      <td>-0.382213</td>\n",
       "    </tr>\n",
       "    <tr>\n",
       "      <th>2020-02</th>\n",
       "      <td>-1.166867</td>\n",
       "      <td>-0.352125</td>\n",
       "    </tr>\n",
       "    <tr>\n",
       "      <th>2020-03</th>\n",
       "      <td>1.870691</td>\n",
       "      <td>0.633545</td>\n",
       "    </tr>\n",
       "    <tr>\n",
       "      <th>2020-04</th>\n",
       "      <td>1.574344</td>\n",
       "      <td>-0.461644</td>\n",
       "    </tr>\n",
       "    <tr>\n",
       "      <th>2020-05</th>\n",
       "      <td>1.055737</td>\n",
       "      <td>-0.277508</td>\n",
       "    </tr>\n",
       "    <tr>\n",
       "      <th>2020-06</th>\n",
       "      <td>0.685303</td>\n",
       "      <td>-0.393044</td>\n",
       "    </tr>\n",
       "    <tr>\n",
       "      <th>2020-07</th>\n",
       "      <td>-0.277825</td>\n",
       "      <td>-0.415911</td>\n",
       "    </tr>\n",
       "    <tr>\n",
       "      <th>2020-08</th>\n",
       "      <td>-0.796433</td>\n",
       "      <td>-0.467662</td>\n",
       "    </tr>\n",
       "    <tr>\n",
       "      <th>2020-09</th>\n",
       "      <td>-0.055565</td>\n",
       "      <td>3.178956</td>\n",
       "    </tr>\n",
       "    <tr>\n",
       "      <th>2020-10</th>\n",
       "      <td>-0.277825</td>\n",
       "      <td>-0.275101</td>\n",
       "    </tr>\n",
       "    <tr>\n",
       "      <th>2020-11</th>\n",
       "      <td>-0.944606</td>\n",
       "      <td>-0.372585</td>\n",
       "    </tr>\n",
       "    <tr>\n",
       "      <th>2020-12</th>\n",
       "      <td>-0.796433</td>\n",
       "      <td>-0.414707</td>\n",
       "    </tr>\n",
       "  </tbody>\n",
       "</table>\n",
       "</div>"
      ],
      "text/plain": [
       "         Crime Count  Hate Comment Count\n",
       "2020-01    -0.870520           -0.382213\n",
       "2020-02    -1.166867           -0.352125\n",
       "2020-03     1.870691            0.633545\n",
       "2020-04     1.574344           -0.461644\n",
       "2020-05     1.055737           -0.277508\n",
       "2020-06     0.685303           -0.393044\n",
       "2020-07    -0.277825           -0.415911\n",
       "2020-08    -0.796433           -0.467662\n",
       "2020-09    -0.055565            3.178956\n",
       "2020-10    -0.277825           -0.275101\n",
       "2020-11    -0.944606           -0.372585\n",
       "2020-12    -0.796433           -0.414707"
      ]
     },
     "execution_count": 74,
     "metadata": {},
     "output_type": "execute_result"
    }
   ],
   "source": [
    "combined_data_standardized1"
   ]
  },
  {
   "cell_type": "code",
   "execution_count": 75,
   "metadata": {},
   "outputs": [
    {
     "name": "stdout",
     "output_type": "stream",
     "text": [
      "                            OLS Regression Results                            \n",
      "==============================================================================\n",
      "Dep. Variable:            Crime Count   R-squared:                       0.020\n",
      "Model:                            OLS   Adj. R-squared:                 -0.078\n",
      "Method:                 Least Squares   F-statistic:                    0.2072\n",
      "Date:                Tue, 19 Mar 2024   Prob (F-statistic):              0.659\n",
      "Time:                        16:51:00   Log-Likelihood:                -16.904\n",
      "No. Observations:                  12   AIC:                             37.81\n",
      "Df Residuals:                      10   BIC:                             38.78\n",
      "Df Model:                           1                                         \n",
      "Covariance Type:            nonrobust                                         \n",
      "======================================================================================\n",
      "                         coef    std err          t      P>|t|      [0.025      0.975]\n",
      "--------------------------------------------------------------------------------------\n",
      "const                       0      0.313          0      1.000      -0.697       0.697\n",
      "Hate Comment Count     0.1425      0.313      0.455      0.659      -0.555       0.840\n",
      "==============================================================================\n",
      "Omnibus:                        2.326   Durbin-Watson:                   0.908\n",
      "Prob(Omnibus):                  0.313   Jarque-Bera (JB):                1.555\n",
      "Skew:                           0.704   Prob(JB):                        0.459\n",
      "Kurtosis:                       1.937   Cond. No.                         1.00\n",
      "==============================================================================\n",
      "\n",
      "Notes:\n",
      "[1] Standard Errors assume that the covariance matrix of the errors is correctly specified.\n"
     ]
    },
    {
     "name": "stderr",
     "output_type": "stream",
     "text": [
      "/Users/itsyuzhou/opt/anaconda3/lib/python3.9/site-packages/scipy/stats/stats.py:1541: UserWarning: kurtosistest only valid for n>=20 ... continuing anyway, n=12\n",
      "  warnings.warn(\"kurtosistest only valid for n>=20 ... continuing \"\n"
     ]
    }
   ],
   "source": [
    "y = combined_data_standardized1['Crime Count']\n",
    "x = combined_data_standardized1['Hate Comment Count']\n",
    "\n",
    "x = sm.add_constant(x)\n",
    "model = sm.OLS(y, x).fit()\n",
    "\n",
    "print(model.summary())"
   ]
  },
  {
   "cell_type": "markdown",
   "metadata": {},
   "source": [
    "### 1.3 Crime count and Google search trend"
   ]
  },
  {
   "cell_type": "code",
   "execution_count": 87,
   "metadata": {},
   "outputs": [
    {
     "data": {
      "text/html": [
       "<div>\n",
       "<style scoped>\n",
       "    .dataframe tbody tr th:only-of-type {\n",
       "        vertical-align: middle;\n",
       "    }\n",
       "\n",
       "    .dataframe tbody tr th {\n",
       "        vertical-align: top;\n",
       "    }\n",
       "\n",
       "    .dataframe thead th {\n",
       "        text-align: right;\n",
       "    }\n",
       "</style>\n",
       "<table border=\"1\" class=\"dataframe\">\n",
       "  <thead>\n",
       "    <tr style=\"text-align: right;\">\n",
       "      <th></th>\n",
       "      <th>Week</th>\n",
       "      <th>Chink + Chinaman + Chinkland + Gook + Chinese virus + China virus + Wuhan virus + Kung flu: (United States)</th>\n",
       "    </tr>\n",
       "  </thead>\n",
       "  <tbody>\n",
       "    <tr>\n",
       "      <th>0</th>\n",
       "      <td>2019-12-29</td>\n",
       "      <td>1</td>\n",
       "    </tr>\n",
       "    <tr>\n",
       "      <th>1</th>\n",
       "      <td>2020-01-05</td>\n",
       "      <td>2</td>\n",
       "    </tr>\n",
       "    <tr>\n",
       "      <th>2</th>\n",
       "      <td>2020-01-12</td>\n",
       "      <td>4</td>\n",
       "    </tr>\n",
       "    <tr>\n",
       "      <th>3</th>\n",
       "      <td>2020-01-19</td>\n",
       "      <td>96</td>\n",
       "    </tr>\n",
       "    <tr>\n",
       "      <th>4</th>\n",
       "      <td>2020-01-26</td>\n",
       "      <td>100</td>\n",
       "    </tr>\n",
       "    <tr>\n",
       "      <th>5</th>\n",
       "      <td>2020-02-02</td>\n",
       "      <td>44</td>\n",
       "    </tr>\n",
       "    <tr>\n",
       "      <th>6</th>\n",
       "      <td>2020-02-09</td>\n",
       "      <td>30</td>\n",
       "    </tr>\n",
       "    <tr>\n",
       "      <th>7</th>\n",
       "      <td>2020-02-16</td>\n",
       "      <td>19</td>\n",
       "    </tr>\n",
       "    <tr>\n",
       "      <th>8</th>\n",
       "      <td>2020-02-23</td>\n",
       "      <td>28</td>\n",
       "    </tr>\n",
       "    <tr>\n",
       "      <th>9</th>\n",
       "      <td>2020-03-01</td>\n",
       "      <td>27</td>\n",
       "    </tr>\n",
       "    <tr>\n",
       "      <th>10</th>\n",
       "      <td>2020-03-08</td>\n",
       "      <td>49</td>\n",
       "    </tr>\n",
       "    <tr>\n",
       "      <th>11</th>\n",
       "      <td>2020-03-15</td>\n",
       "      <td>86</td>\n",
       "    </tr>\n",
       "    <tr>\n",
       "      <th>12</th>\n",
       "      <td>2020-03-22</td>\n",
       "      <td>63</td>\n",
       "    </tr>\n",
       "    <tr>\n",
       "      <th>13</th>\n",
       "      <td>2020-03-29</td>\n",
       "      <td>35</td>\n",
       "    </tr>\n",
       "    <tr>\n",
       "      <th>14</th>\n",
       "      <td>2020-04-05</td>\n",
       "      <td>22</td>\n",
       "    </tr>\n",
       "    <tr>\n",
       "      <th>15</th>\n",
       "      <td>2020-04-12</td>\n",
       "      <td>21</td>\n",
       "    </tr>\n",
       "    <tr>\n",
       "      <th>16</th>\n",
       "      <td>2020-04-19</td>\n",
       "      <td>11</td>\n",
       "    </tr>\n",
       "    <tr>\n",
       "      <th>17</th>\n",
       "      <td>2020-04-26</td>\n",
       "      <td>9</td>\n",
       "    </tr>\n",
       "    <tr>\n",
       "      <th>18</th>\n",
       "      <td>2020-05-03</td>\n",
       "      <td>8</td>\n",
       "    </tr>\n",
       "    <tr>\n",
       "      <th>19</th>\n",
       "      <td>2020-05-10</td>\n",
       "      <td>6</td>\n",
       "    </tr>\n",
       "    <tr>\n",
       "      <th>20</th>\n",
       "      <td>2020-05-17</td>\n",
       "      <td>6</td>\n",
       "    </tr>\n",
       "    <tr>\n",
       "      <th>21</th>\n",
       "      <td>2020-05-24</td>\n",
       "      <td>5</td>\n",
       "    </tr>\n",
       "    <tr>\n",
       "      <th>22</th>\n",
       "      <td>2020-05-31</td>\n",
       "      <td>3</td>\n",
       "    </tr>\n",
       "    <tr>\n",
       "      <th>23</th>\n",
       "      <td>2020-06-07</td>\n",
       "      <td>3</td>\n",
       "    </tr>\n",
       "    <tr>\n",
       "      <th>24</th>\n",
       "      <td>2020-06-14</td>\n",
       "      <td>4</td>\n",
       "    </tr>\n",
       "    <tr>\n",
       "      <th>25</th>\n",
       "      <td>2020-06-21</td>\n",
       "      <td>11</td>\n",
       "    </tr>\n",
       "    <tr>\n",
       "      <th>26</th>\n",
       "      <td>2020-06-28</td>\n",
       "      <td>11</td>\n",
       "    </tr>\n",
       "    <tr>\n",
       "      <th>27</th>\n",
       "      <td>2020-07-05</td>\n",
       "      <td>6</td>\n",
       "    </tr>\n",
       "    <tr>\n",
       "      <th>28</th>\n",
       "      <td>2020-07-12</td>\n",
       "      <td>5</td>\n",
       "    </tr>\n",
       "    <tr>\n",
       "      <th>29</th>\n",
       "      <td>2020-07-19</td>\n",
       "      <td>4</td>\n",
       "    </tr>\n",
       "    <tr>\n",
       "      <th>30</th>\n",
       "      <td>2020-07-26</td>\n",
       "      <td>4</td>\n",
       "    </tr>\n",
       "    <tr>\n",
       "      <th>31</th>\n",
       "      <td>2020-08-02</td>\n",
       "      <td>4</td>\n",
       "    </tr>\n",
       "    <tr>\n",
       "      <th>32</th>\n",
       "      <td>2020-08-09</td>\n",
       "      <td>4</td>\n",
       "    </tr>\n",
       "    <tr>\n",
       "      <th>33</th>\n",
       "      <td>2020-08-16</td>\n",
       "      <td>3</td>\n",
       "    </tr>\n",
       "    <tr>\n",
       "      <th>34</th>\n",
       "      <td>2020-08-23</td>\n",
       "      <td>3</td>\n",
       "    </tr>\n",
       "    <tr>\n",
       "      <th>35</th>\n",
       "      <td>2020-08-30</td>\n",
       "      <td>3</td>\n",
       "    </tr>\n",
       "    <tr>\n",
       "      <th>36</th>\n",
       "      <td>2020-09-06</td>\n",
       "      <td>3</td>\n",
       "    </tr>\n",
       "    <tr>\n",
       "      <th>37</th>\n",
       "      <td>2020-09-13</td>\n",
       "      <td>4</td>\n",
       "    </tr>\n",
       "    <tr>\n",
       "      <th>38</th>\n",
       "      <td>2020-09-20</td>\n",
       "      <td>3</td>\n",
       "    </tr>\n",
       "    <tr>\n",
       "      <th>39</th>\n",
       "      <td>2020-09-27</td>\n",
       "      <td>3</td>\n",
       "    </tr>\n",
       "    <tr>\n",
       "      <th>40</th>\n",
       "      <td>2020-10-04</td>\n",
       "      <td>3</td>\n",
       "    </tr>\n",
       "    <tr>\n",
       "      <th>41</th>\n",
       "      <td>2020-10-11</td>\n",
       "      <td>2</td>\n",
       "    </tr>\n",
       "    <tr>\n",
       "      <th>42</th>\n",
       "      <td>2020-10-18</td>\n",
       "      <td>3</td>\n",
       "    </tr>\n",
       "    <tr>\n",
       "      <th>43</th>\n",
       "      <td>2020-10-25</td>\n",
       "      <td>3</td>\n",
       "    </tr>\n",
       "    <tr>\n",
       "      <th>44</th>\n",
       "      <td>2020-11-01</td>\n",
       "      <td>2</td>\n",
       "    </tr>\n",
       "    <tr>\n",
       "      <th>45</th>\n",
       "      <td>2020-11-08</td>\n",
       "      <td>2</td>\n",
       "    </tr>\n",
       "    <tr>\n",
       "      <th>46</th>\n",
       "      <td>2020-11-15</td>\n",
       "      <td>3</td>\n",
       "    </tr>\n",
       "    <tr>\n",
       "      <th>47</th>\n",
       "      <td>2020-11-22</td>\n",
       "      <td>2</td>\n",
       "    </tr>\n",
       "    <tr>\n",
       "      <th>48</th>\n",
       "      <td>2020-11-29</td>\n",
       "      <td>2</td>\n",
       "    </tr>\n",
       "    <tr>\n",
       "      <th>49</th>\n",
       "      <td>2020-12-06</td>\n",
       "      <td>3</td>\n",
       "    </tr>\n",
       "    <tr>\n",
       "      <th>50</th>\n",
       "      <td>2020-12-13</td>\n",
       "      <td>2</td>\n",
       "    </tr>\n",
       "    <tr>\n",
       "      <th>51</th>\n",
       "      <td>2020-12-20</td>\n",
       "      <td>2</td>\n",
       "    </tr>\n",
       "    <tr>\n",
       "      <th>52</th>\n",
       "      <td>2020-12-27</td>\n",
       "      <td>3</td>\n",
       "    </tr>\n",
       "  </tbody>\n",
       "</table>\n",
       "</div>"
      ],
      "text/plain": [
       "          Week  \\\n",
       "0   2019-12-29   \n",
       "1   2020-01-05   \n",
       "2   2020-01-12   \n",
       "3   2020-01-19   \n",
       "4   2020-01-26   \n",
       "5   2020-02-02   \n",
       "6   2020-02-09   \n",
       "7   2020-02-16   \n",
       "8   2020-02-23   \n",
       "9   2020-03-01   \n",
       "10  2020-03-08   \n",
       "11  2020-03-15   \n",
       "12  2020-03-22   \n",
       "13  2020-03-29   \n",
       "14  2020-04-05   \n",
       "15  2020-04-12   \n",
       "16  2020-04-19   \n",
       "17  2020-04-26   \n",
       "18  2020-05-03   \n",
       "19  2020-05-10   \n",
       "20  2020-05-17   \n",
       "21  2020-05-24   \n",
       "22  2020-05-31   \n",
       "23  2020-06-07   \n",
       "24  2020-06-14   \n",
       "25  2020-06-21   \n",
       "26  2020-06-28   \n",
       "27  2020-07-05   \n",
       "28  2020-07-12   \n",
       "29  2020-07-19   \n",
       "30  2020-07-26   \n",
       "31  2020-08-02   \n",
       "32  2020-08-09   \n",
       "33  2020-08-16   \n",
       "34  2020-08-23   \n",
       "35  2020-08-30   \n",
       "36  2020-09-06   \n",
       "37  2020-09-13   \n",
       "38  2020-09-20   \n",
       "39  2020-09-27   \n",
       "40  2020-10-04   \n",
       "41  2020-10-11   \n",
       "42  2020-10-18   \n",
       "43  2020-10-25   \n",
       "44  2020-11-01   \n",
       "45  2020-11-08   \n",
       "46  2020-11-15   \n",
       "47  2020-11-22   \n",
       "48  2020-11-29   \n",
       "49  2020-12-06   \n",
       "50  2020-12-13   \n",
       "51  2020-12-20   \n",
       "52  2020-12-27   \n",
       "\n",
       "    Chink + Chinaman + Chinkland + Gook + Chinese virus + China virus + Wuhan virus + Kung flu: (United States)  \n",
       "0                                                   1                                                            \n",
       "1                                                   2                                                            \n",
       "2                                                   4                                                            \n",
       "3                                                  96                                                            \n",
       "4                                                 100                                                            \n",
       "5                                                  44                                                            \n",
       "6                                                  30                                                            \n",
       "7                                                  19                                                            \n",
       "8                                                  28                                                            \n",
       "9                                                  27                                                            \n",
       "10                                                 49                                                            \n",
       "11                                                 86                                                            \n",
       "12                                                 63                                                            \n",
       "13                                                 35                                                            \n",
       "14                                                 22                                                            \n",
       "15                                                 21                                                            \n",
       "16                                                 11                                                            \n",
       "17                                                  9                                                            \n",
       "18                                                  8                                                            \n",
       "19                                                  6                                                            \n",
       "20                                                  6                                                            \n",
       "21                                                  5                                                            \n",
       "22                                                  3                                                            \n",
       "23                                                  3                                                            \n",
       "24                                                  4                                                            \n",
       "25                                                 11                                                            \n",
       "26                                                 11                                                            \n",
       "27                                                  6                                                            \n",
       "28                                                  5                                                            \n",
       "29                                                  4                                                            \n",
       "30                                                  4                                                            \n",
       "31                                                  4                                                            \n",
       "32                                                  4                                                            \n",
       "33                                                  3                                                            \n",
       "34                                                  3                                                            \n",
       "35                                                  3                                                            \n",
       "36                                                  3                                                            \n",
       "37                                                  4                                                            \n",
       "38                                                  3                                                            \n",
       "39                                                  3                                                            \n",
       "40                                                  3                                                            \n",
       "41                                                  2                                                            \n",
       "42                                                  3                                                            \n",
       "43                                                  3                                                            \n",
       "44                                                  2                                                            \n",
       "45                                                  2                                                            \n",
       "46                                                  3                                                            \n",
       "47                                                  2                                                            \n",
       "48                                                  2                                                            \n",
       "49                                                  3                                                            \n",
       "50                                                  2                                                            \n",
       "51                                                  2                                                            \n",
       "52                                                  3                                                            "
      ]
     },
     "execution_count": 87,
     "metadata": {},
     "output_type": "execute_result"
    }
   ],
   "source": [
    "google_2020_df = pd.read_csv('/Users/itsyuzhou/Winter2024/MA_thesis/GoogleSearch2020.csv')\n",
    "google_2020_df"
   ]
  },
  {
   "cell_type": "code",
   "execution_count": 90,
   "metadata": {},
   "outputs": [
    {
     "data": {
      "text/plain": [
       "Week                                                                                                           datetime64[ns]\n",
       "Chink + Chinaman + Chinkland + Gook + Chinese virus + China virus + Wuhan virus + Kung flu: (United States)             int64\n",
       "dtype: object"
      ]
     },
     "execution_count": 90,
     "metadata": {},
     "output_type": "execute_result"
    }
   ],
   "source": [
    "google_2020_df['Week'] = pd.to_datetime(google_2020_df['Week'])\n",
    "google_2020_df.dtypes"
   ]
  },
  {
   "cell_type": "code",
   "execution_count": 91,
   "metadata": {},
   "outputs": [
    {
     "data": {
      "text/plain": [
       "Week\n",
       "2019-12     1.00\n",
       "2020-01    50.50\n",
       "2020-02    30.25\n",
       "2020-03    52.00\n",
       "2020-04    15.75\n",
       "2020-05     5.60\n",
       "2020-06     7.25\n",
       "2020-07     4.75\n",
       "2020-08     3.40\n",
       "2020-09     3.25\n",
       "2020-10     2.75\n",
       "2020-11     2.20\n",
       "2020-12     2.50\n",
       "Freq: M, Name: Chink + Chinaman + Chinkland + Gook + Chinese virus + China virus + Wuhan virus + Kung flu: (United States), dtype: float64"
      ]
     },
     "execution_count": 91,
     "metadata": {},
     "output_type": "execute_result"
    }
   ],
   "source": [
    "google_monthly = google_2020_df.groupby(google_2020_df['Week'].dt.to_period('M'))['Chink + Chinaman + Chinkland + Gook + Chinese virus + China virus + Wuhan virus + Kung flu: (United States)'].mean()\n",
    "google_monthly"
   ]
  },
  {
   "cell_type": "code",
   "execution_count": 93,
   "metadata": {},
   "outputs": [
    {
     "data": {
      "text/plain": [
       "Week\n",
       "2020-01    50.50\n",
       "2020-02    30.25\n",
       "2020-03    52.00\n",
       "2020-04    15.75\n",
       "2020-05     5.60\n",
       "2020-06     7.25\n",
       "2020-07     4.75\n",
       "2020-08     3.40\n",
       "2020-09     3.25\n",
       "2020-10     2.75\n",
       "2020-11     2.20\n",
       "2020-12     2.50\n",
       "Freq: M, Name: Chink + Chinaman + Chinkland + Gook + Chinese virus + China virus + Wuhan virus + Kung flu: (United States), dtype: float64"
      ]
     },
     "execution_count": 93,
     "metadata": {},
     "output_type": "execute_result"
    }
   ],
   "source": [
    "google_monthly = google_monthly.iloc[1:]\n",
    "google_monthly"
   ]
  },
  {
   "cell_type": "code",
   "execution_count": 94,
   "metadata": {},
   "outputs": [
    {
     "data": {
      "text/html": [
       "<div>\n",
       "<style scoped>\n",
       "    .dataframe tbody tr th:only-of-type {\n",
       "        vertical-align: middle;\n",
       "    }\n",
       "\n",
       "    .dataframe tbody tr th {\n",
       "        vertical-align: top;\n",
       "    }\n",
       "\n",
       "    .dataframe thead th {\n",
       "        text-align: right;\n",
       "    }\n",
       "</style>\n",
       "<table border=\"1\" class=\"dataframe\">\n",
       "  <thead>\n",
       "    <tr style=\"text-align: right;\">\n",
       "      <th></th>\n",
       "      <th>Crime Count</th>\n",
       "      <th>Google Search Trend</th>\n",
       "    </tr>\n",
       "  </thead>\n",
       "  <tbody>\n",
       "    <tr>\n",
       "      <th>2020-01</th>\n",
       "      <td>18</td>\n",
       "      <td>50.50</td>\n",
       "    </tr>\n",
       "    <tr>\n",
       "      <th>2020-02</th>\n",
       "      <td>14</td>\n",
       "      <td>30.25</td>\n",
       "    </tr>\n",
       "    <tr>\n",
       "      <th>2020-03</th>\n",
       "      <td>55</td>\n",
       "      <td>52.00</td>\n",
       "    </tr>\n",
       "    <tr>\n",
       "      <th>2020-04</th>\n",
       "      <td>51</td>\n",
       "      <td>15.75</td>\n",
       "    </tr>\n",
       "    <tr>\n",
       "      <th>2020-05</th>\n",
       "      <td>44</td>\n",
       "      <td>5.60</td>\n",
       "    </tr>\n",
       "    <tr>\n",
       "      <th>2020-06</th>\n",
       "      <td>39</td>\n",
       "      <td>7.25</td>\n",
       "    </tr>\n",
       "    <tr>\n",
       "      <th>2020-07</th>\n",
       "      <td>26</td>\n",
       "      <td>4.75</td>\n",
       "    </tr>\n",
       "    <tr>\n",
       "      <th>2020-08</th>\n",
       "      <td>19</td>\n",
       "      <td>3.40</td>\n",
       "    </tr>\n",
       "    <tr>\n",
       "      <th>2020-09</th>\n",
       "      <td>29</td>\n",
       "      <td>3.25</td>\n",
       "    </tr>\n",
       "    <tr>\n",
       "      <th>2020-10</th>\n",
       "      <td>26</td>\n",
       "      <td>2.75</td>\n",
       "    </tr>\n",
       "    <tr>\n",
       "      <th>2020-11</th>\n",
       "      <td>17</td>\n",
       "      <td>2.20</td>\n",
       "    </tr>\n",
       "    <tr>\n",
       "      <th>2020-12</th>\n",
       "      <td>19</td>\n",
       "      <td>2.50</td>\n",
       "    </tr>\n",
       "  </tbody>\n",
       "</table>\n",
       "</div>"
      ],
      "text/plain": [
       "         Crime Count  Google Search Trend\n",
       "2020-01           18                50.50\n",
       "2020-02           14                30.25\n",
       "2020-03           55                52.00\n",
       "2020-04           51                15.75\n",
       "2020-05           44                 5.60\n",
       "2020-06           39                 7.25\n",
       "2020-07           26                 4.75\n",
       "2020-08           19                 3.40\n",
       "2020-09           29                 3.25\n",
       "2020-10           26                 2.75\n",
       "2020-11           17                 2.20\n",
       "2020-12           19                 2.50"
      ]
     },
     "execution_count": 94,
     "metadata": {},
     "output_type": "execute_result"
    }
   ],
   "source": [
    "fbi_google = pd.DataFrame({\n",
    "    'Crime Count': asian_monthly_counts,\n",
    "    'Google Search Trend': google_monthly\n",
    "}).dropna() \n",
    "fbi_google"
   ]
  },
  {
   "cell_type": "code",
   "execution_count": 95,
   "metadata": {},
   "outputs": [
    {
     "data": {
      "image/png": "[encoded data removed]",
      "text/plain": [
       "<Figure size 720x432 with 1 Axes>"
      ]
     },
     "metadata": {
      "needs_background": "light"
     },
     "output_type": "display_data"
    }
   ],
   "source": [
    "fbi_google_standardized = pd.DataFrame(scaler.fit_transform(fbi_google), columns=fbi_google.columns, index=fbi_google.index)\n",
    "\n",
    "fbi_google_standardized.plot(kind='line', figsize=(10, 6))\n",
    "\n",
    "plt.title('Crime Count and Sinophobic Searches Over Time')\n",
    "plt.xlabel('Time')\n",
    "plt.ylabel('Values')\n",
    "plt.legend(['Crime Count', 'Google Search Trend'])\n",
    "plt.xticks(rotation=45)\n",
    "plt.tight_layout()\n",
    "plt.show()"
   ]
  },
  {
   "cell_type": "code",
   "execution_count": 96,
   "metadata": {},
   "outputs": [
    {
     "name": "stdout",
     "output_type": "stream",
     "text": [
      "                            OLS Regression Results                            \n",
      "==============================================================================\n",
      "Dep. Variable:            Crime Count   R-squared:                       0.043\n",
      "Model:                            OLS   Adj. R-squared:                 -0.053\n",
      "Method:                 Least Squares   F-statistic:                    0.4500\n",
      "Date:                Tue, 19 Mar 2024   Prob (F-statistic):              0.518\n",
      "Time:                        17:17:16   Log-Likelihood:                -16.763\n",
      "No. Observations:                  12   AIC:                             37.53\n",
      "Df Residuals:                      10   BIC:                             38.50\n",
      "Df Model:                           1                                         \n",
      "Covariance Type:            nonrobust                                         \n",
      "=======================================================================================\n",
      "                          coef    std err          t      P>|t|      [0.025      0.975]\n",
      "---------------------------------------------------------------------------------------\n",
      "const                        0      0.309          0      1.000      -0.689       0.689\n",
      "Google Search Trend     0.2075      0.309      0.671      0.518      -0.482       0.897\n",
      "==============================================================================\n",
      "Omnibus:                        1.781   Durbin-Watson:                   0.895\n",
      "Prob(Omnibus):                  0.410   Jarque-Bera (JB):                0.948\n",
      "Skew:                           0.292   Prob(JB):                        0.623\n",
      "Kurtosis:                       1.754   Cond. No.                         1.00\n",
      "==============================================================================\n",
      "\n",
      "Notes:\n",
      "[1] Standard Errors assume that the covariance matrix of the errors is correctly specified.\n"
     ]
    },
    {
     "name": "stderr",
     "output_type": "stream",
     "text": [
      "/Users/itsyuzhou/opt/anaconda3/lib/python3.9/site-packages/scipy/stats/stats.py:1541: UserWarning: kurtosistest only valid for n>=20 ... continuing anyway, n=12\n",
      "  warnings.warn(\"kurtosistest only valid for n>=20 ... continuing \"\n"
     ]
    }
   ],
   "source": [
    "y = fbi_google_standardized['Crime Count']\n",
    "x = fbi_google_standardized['Google Search Trend']\n",
    "\n",
    "x = sm.add_constant(x)\n",
    "model = sm.OLS(y, x).fit()\n",
    "\n",
    "print(model.summary())"
   ]
  },
  {
   "cell_type": "markdown",
   "metadata": {},
   "source": [
    "anti-asian crime count = 0.2075 * sinophobic search frequency"
   ]
  },
  {
   "cell_type": "code",
   "execution_count": 97,
   "metadata": {},
   "outputs": [
    {
     "name": "stdout",
     "output_type": "stream",
     "text": [
      "                             OLS Regression Results                            \n",
      "===============================================================================\n",
      "Dep. Variable:     Google Search Trend   R-squared:                       0.043\n",
      "Model:                             OLS   Adj. R-squared:                 -0.053\n",
      "Method:                  Least Squares   F-statistic:                    0.4500\n",
      "Date:                 Tue, 19 Mar 2024   Prob (F-statistic):              0.518\n",
      "Time:                         17:21:06   Log-Likelihood:                -16.763\n",
      "No. Observations:                   12   AIC:                             37.53\n",
      "Df Residuals:                       10   BIC:                             38.50\n",
      "Df Model:                            1                                         \n",
      "Covariance Type:             nonrobust                                         \n",
      "===============================================================================\n",
      "                  coef    std err          t      P>|t|      [0.025      0.975]\n",
      "-------------------------------------------------------------------------------\n",
      "const        2.776e-17      0.309   8.97e-17      1.000      -0.689       0.689\n",
      "Crime Count     0.2075      0.309      0.671      0.518      -0.482       0.897\n",
      "==============================================================================\n",
      "Omnibus:                        5.494   Durbin-Watson:                   0.488\n",
      "Prob(Omnibus):                  0.064   Jarque-Bera (JB):                3.283\n",
      "Skew:                           1.281   Prob(JB):                        0.194\n",
      "Kurtosis:                       2.917   Cond. No.                         1.00\n",
      "==============================================================================\n",
      "\n",
      "Notes:\n",
      "[1] Standard Errors assume that the covariance matrix of the errors is correctly specified.\n"
     ]
    },
    {
     "name": "stderr",
     "output_type": "stream",
     "text": [
      "/Users/itsyuzhou/opt/anaconda3/lib/python3.9/site-packages/scipy/stats/stats.py:1541: UserWarning: kurtosistest only valid for n>=20 ... continuing anyway, n=12\n",
      "  warnings.warn(\"kurtosistest only valid for n>=20 ... continuing \"\n"
     ]
    }
   ],
   "source": [
    "x = fbi_google_standardized['Crime Count']\n",
    "y = fbi_google_standardized['Google Search Trend']\n",
    "\n",
    "x = sm.add_constant(x)\n",
    "model = sm.OLS(y, x).fit()\n",
    "\n",
    "print(model.summary())"
   ]
  },
  {
   "cell_type": "markdown",
   "metadata": {},
   "source": [
    "### 1.4 Google Search Trend and Hate Comment Score"
   ]
  },
  {
   "cell_type": "code",
   "execution_count": 98,
   "metadata": {},
   "outputs": [
    {
     "data": {
      "image/png": "[encoded data removed]",
      "text/plain": [
       "<Figure size 720x432 with 1 Axes>"
      ]
     },
     "metadata": {
      "needs_background": "light"
     },
     "output_type": "display_data"
    }
   ],
   "source": [
    "google_comment = pd.DataFrame({\n",
    "    'Google Search Trend': google_monthly,\n",
    "    'Sinophobic Comment Count': hateComments_monthly_counts,\n",
    "    'Average Hate Score': comments_score_aggregated\n",
    "}).dropna() \n",
    "\n",
    "google_comment_standardized = pd.DataFrame(scaler.fit_transform(google_comment), columns=google_comment.columns, index=google_comment.index)\n",
    "\n",
    "google_comment_standardized.plot(kind='line', figsize=(10, 6))\n",
    "\n",
    "plt.title('Google Searches, Sinophobic Comment Count, and Comment Hate Score Over Time')\n",
    "plt.xlabel('Time')\n",
    "plt.ylabel('Values')\n",
    "plt.legend(['Google Search Trend', 'Sinophobic Comment Count', 'Average Hate Score'])\n",
    "plt.xticks(rotation=45)\n",
    "plt.tight_layout()\n",
    "plt.show()"
   ]
  },
  {
   "cell_type": "code",
   "execution_count": 101,
   "metadata": {},
   "outputs": [
    {
     "name": "stdout",
     "output_type": "stream",
     "text": [
      "                            OLS Regression Results                            \n",
      "==============================================================================\n",
      "Dep. Variable:     Average Hate Score   R-squared:                       0.146\n",
      "Model:                            OLS   Adj. R-squared:                  0.060\n",
      "Method:                 Least Squares   F-statistic:                     1.708\n",
      "Date:                Wed, 20 Mar 2024   Prob (F-statistic):              0.220\n",
      "Time:                        08:49:15   Log-Likelihood:                -16.081\n",
      "No. Observations:                  12   AIC:                             36.16\n",
      "Df Residuals:                      10   BIC:                             37.13\n",
      "Df Model:                           1                                         \n",
      "Covariance Type:            nonrobust                                         \n",
      "=======================================================================================\n",
      "                          coef    std err          t      P>|t|      [0.025      0.975]\n",
      "---------------------------------------------------------------------------------------\n",
      "const               -6.661e-16      0.292  -2.28e-15      1.000      -0.651       0.651\n",
      "Google Search Trend     0.3820      0.292      1.307      0.220      -0.269       1.033\n",
      "==============================================================================\n",
      "Omnibus:                        0.390   Durbin-Watson:                   2.053\n",
      "Prob(Omnibus):                  0.823   Jarque-Bera (JB):                0.246\n",
      "Skew:                           0.290   Prob(JB):                        0.884\n",
      "Kurtosis:                       2.605   Cond. No.                         1.00\n",
      "==============================================================================\n",
      "\n",
      "Notes:\n",
      "[1] Standard Errors assume that the covariance matrix of the errors is correctly specified.\n"
     ]
    },
    {
     "name": "stderr",
     "output_type": "stream",
     "text": [
      "/Users/itsyuzhou/opt/anaconda3/lib/python3.9/site-packages/scipy/stats/stats.py:1541: UserWarning: kurtosistest only valid for n>=20 ... continuing anyway, n=12\n",
      "  warnings.warn(\"kurtosistest only valid for n>=20 ... continuing \"\n"
     ]
    }
   ],
   "source": [
    "y = google_comment_standardized['Average Hate Score']\n",
    "x = google_comment_standardized['Google Search Trend']\n",
    "\n",
    "x = sm.add_constant(x)\n",
    "model = sm.OLS(y, x).fit()\n",
    "\n",
    "print(model.summary())"
   ]
  },
  {
   "cell_type": "markdown",
   "metadata": {},
   "source": [
    "### 1.5 Google Search Trend and Sinophobic Comment Count"
   ]
  },
  {
   "cell_type": "code",
   "execution_count": 102,
   "metadata": {},
   "outputs": [
    {
     "name": "stdout",
     "output_type": "stream",
     "text": [
      "                               OLS Regression Results                               \n",
      "====================================================================================\n",
      "Dep. Variable:     Sinophobic Comment Count   R-squared:                       0.000\n",
      "Model:                                  OLS   Adj. R-squared:                 -0.100\n",
      "Method:                       Least Squares   F-statistic:                  0.004435\n",
      "Date:                      Wed, 20 Mar 2024   Prob (F-statistic):              0.948\n",
      "Time:                              08:53:16   Log-Likelihood:                -17.025\n",
      "No. Observations:                        12   AIC:                             38.05\n",
      "Df Residuals:                            10   BIC:                             39.02\n",
      "Df Model:                                 1                                         \n",
      "Covariance Type:                  nonrobust                                         \n",
      "=======================================================================================\n",
      "                          coef    std err          t      P>|t|      [0.025      0.975]\n",
      "---------------------------------------------------------------------------------------\n",
      "const                5.551e-17      0.316   1.76e-16      1.000      -0.704       0.704\n",
      "Google Search Trend    -0.0211      0.316     -0.067      0.948      -0.725       0.683\n",
      "==============================================================================\n",
      "Omnibus:                       27.648   Durbin-Watson:                   2.301\n",
      "Prob(Omnibus):                  0.000   Jarque-Bera (JB):               28.348\n",
      "Skew:                           2.619   Prob(JB):                     6.99e-07\n",
      "Kurtosis:                       8.410   Cond. No.                         1.00\n",
      "==============================================================================\n",
      "\n",
      "Notes:\n",
      "[1] Standard Errors assume that the covariance matrix of the errors is correctly specified.\n"
     ]
    },
    {
     "name": "stderr",
     "output_type": "stream",
     "text": [
      "/Users/itsyuzhou/opt/anaconda3/lib/python3.9/site-packages/scipy/stats/stats.py:1541: UserWarning: kurtosistest only valid for n>=20 ... continuing anyway, n=12\n",
      "  warnings.warn(\"kurtosistest only valid for n>=20 ... continuing \"\n"
     ]
    }
   ],
   "source": [
    "y = google_comment_standardized['Sinophobic Comment Count']\n",
    "x = google_comment_standardized['Google Search Trend']\n",
    "\n",
    "x = sm.add_constant(x)\n",
    "model = sm.OLS(y, x).fit()\n",
    "\n",
    "print(model.summary())"
   ]
  },
  {
   "cell_type": "code",
   "execution_count": 99,
   "metadata": {},
   "outputs": [
    {
     "data": {
      "image/png": "[encoded data removed]",
      "text/plain": [
       "<Figure size 720x432 with 1 Axes>"
      ]
     },
     "metadata": {
      "needs_background": "light"
     },
     "output_type": "display_data"
    }
   ],
   "source": [
    "google_comment_crime = pd.DataFrame({\n",
    "    'Google Search Trend': google_monthly,\n",
    "    'Sinophobic Comment Count': hateComments_monthly_counts,\n",
    "    'Average Hate Score': comments_score_aggregated,\n",
    "    'Crime Count': asian_monthly_counts,\n",
    "}).dropna() \n",
    "\n",
    "google_comment_crime_standardized = pd.DataFrame(scaler.fit_transform(google_comment_crime), columns=google_comment_crime.columns, index=google_comment_crime.index)\n",
    "\n",
    "google_comment_crime_standardized.plot(kind='line', figsize=(10, 6))\n",
    "\n",
    "plt.title('Google Searches, Sinophobic Comment Count, Comment Hate Score, and Crime Count Over Time')\n",
    "plt.xlabel('Time')\n",
    "plt.ylabel('Values')\n",
    "plt.legend(['Google Search Trend', 'Sinophobic Comment Count', 'Average Hate Score', 'Crime Count'])\n",
    "plt.xticks(rotation=45)\n",
    "plt.tight_layout()\n",
    "plt.show()"
   ]
  },
  {
   "cell_type": "code",
   "execution_count": null,
   "metadata": {},
   "outputs": [],
   "source": [
    "comments = pd.DataFrame({\n",
    "    'Sinophobic Comment Count': hateComments_monthly_counts,\n",
    "    'Average Hate Score': comments_score_aggregated\n",
    "}).dropna() \n",
    "\n",
    "google_comment_standardized = pd.DataFrame(scaler.fit_transform(google_comment), columns=google_comment.columns, index=google_comment.index)\n",
    "\n",
    "google_comment_standardized.plot(kind='line', figsize=(10, 6))\n",
    "\n",
    "plt.title('Google Searches, Sinophobic Comment Count, and Comment Hate Score Over Time')\n",
    "plt.xlabel('Time')\n",
    "plt.ylabel('Values')\n",
    "plt.legend(['Google Search Trend', 'Sinophobic Comment Count', 'Average Hate Score'])\n",
    "plt.xticks(rotation=45)\n",
    "plt.tight_layout()\n",
    "plt.show()"
   ]
  },
  {
   "cell_type": "markdown",
   "metadata": {},
   "source": [
    "### 2. VAR (Vector Autoregression)"
   ]
  },
  {
   "cell_type": "markdown",
   "metadata": {},
   "source": [
    "A VAR(p) model for a multivariate time series is a regression model for outcomes at a specified time t and time lagged predictors, with p indicating the lag (e.g., p = 1 refers to the observation previous to t; p = 2 refers to two observations prior to t, and so on ).\n",
    "- Testing Stationarity\n",
    "- Selecting Lag Length\n",
    "- Building the VAR Model\n",
    "- Testing for Residual Autocorrelation\n",
    "- Assessing Stability of the VAR Model\n",
    "- Evaluating Granger Causality"
   ]
  },
  {
   "cell_type": "markdown",
   "metadata": {},
   "source": [
    "### 2.1 Test Stationarity - Augmented Dickey-Fuller Test\n",
    "\n",
    "Stationarity is critical to development of a VAR model because in its absence, a model’s statistics such as means and correlations will not accurately describe the time series signal.\n",
    "\n",
    "The augmented Dickey-Fuller test is used to test stationarity. The null hypothesis is that the time series is nonstationary and the alternative is that the series is stationary. Rejection of the null hypothesis indicates that the series does not need transformation to achieve stationarity and modeling can proceed to the lag length selection step.\n",
    "- Null Hypothesis (HO): Series is non-stationary, or series has a unit root.\n",
    "- Alternate Hypothesis(HA): Series is stationary, or series has no unit root.\n",
    "\n",
    "Citation: https://www.analyticsvidhya.com/blog/2021/06/statistical-tests-to-check-stationarity-in-time-series-part-1/"
   ]
  },
  {
   "cell_type": "code",
   "execution_count": 103,
   "metadata": {},
   "outputs": [],
   "source": [
    "from statsmodels.tsa.stattools import adfuller"
   ]
  },
  {
   "cell_type": "code",
   "execution_count": 104,
   "metadata": {},
   "outputs": [],
   "source": [
    "def adf_test(timeseries):\n",
    "    print ('Results of Augmented Dickey-Fuller Test:')\n",
    "    dftest = adfuller(timeseries, autolag='AIC')\n",
    "    dfoutput = pd.Series(dftest[0:4], index=['Test Statistic','p-value','#Lags Used','Number of Observations Used'])\n",
    "    for key,value in dftest[4].items():\n",
    "        dfoutput['Critical Value (%s)'%key] = value\n",
    "    print (dfoutput)"
   ]
  },
  {
   "cell_type": "code",
   "execution_count": 106,
   "metadata": {},
   "outputs": [
    {
     "data": {
      "text/html": [
       "<div>\n",
       "<style scoped>\n",
       "    .dataframe tbody tr th:only-of-type {\n",
       "        vertical-align: middle;\n",
       "    }\n",
       "\n",
       "    .dataframe tbody tr th {\n",
       "        vertical-align: top;\n",
       "    }\n",
       "\n",
       "    .dataframe thead th {\n",
       "        text-align: right;\n",
       "    }\n",
       "</style>\n",
       "<table border=\"1\" class=\"dataframe\">\n",
       "  <thead>\n",
       "    <tr style=\"text-align: right;\">\n",
       "      <th></th>\n",
       "      <th>Google Search Trend</th>\n",
       "      <th>Sinophobic Comment Count</th>\n",
       "      <th>Average Hate Score</th>\n",
       "      <th>Crime Count</th>\n",
       "    </tr>\n",
       "  </thead>\n",
       "  <tbody>\n",
       "    <tr>\n",
       "      <th>2020-01</th>\n",
       "      <td>1.978784</td>\n",
       "      <td>-0.382213</td>\n",
       "      <td>1.130038</td>\n",
       "      <td>-0.870520</td>\n",
       "    </tr>\n",
       "    <tr>\n",
       "      <th>2020-02</th>\n",
       "      <td>0.849511</td>\n",
       "      <td>-0.352125</td>\n",
       "      <td>1.159093</td>\n",
       "      <td>-1.166867</td>\n",
       "    </tr>\n",
       "    <tr>\n",
       "      <th>2020-03</th>\n",
       "      <td>2.062434</td>\n",
       "      <td>0.633545</td>\n",
       "      <td>0.068731</td>\n",
       "      <td>1.870691</td>\n",
       "    </tr>\n",
       "    <tr>\n",
       "      <th>2020-04</th>\n",
       "      <td>0.040895</td>\n",
       "      <td>-0.461644</td>\n",
       "      <td>-1.164516</td>\n",
       "      <td>1.574344</td>\n",
       "    </tr>\n",
       "    <tr>\n",
       "      <th>2020-05</th>\n",
       "      <td>-0.525135</td>\n",
       "      <td>-0.277508</td>\n",
       "      <td>0.004632</td>\n",
       "      <td>1.055737</td>\n",
       "    </tr>\n",
       "    <tr>\n",
       "      <th>2020-06</th>\n",
       "      <td>-0.433120</td>\n",
       "      <td>-0.393044</td>\n",
       "      <td>1.766264</td>\n",
       "      <td>0.685303</td>\n",
       "    </tr>\n",
       "    <tr>\n",
       "      <th>2020-07</th>\n",
       "      <td>-0.572537</td>\n",
       "      <td>-0.415911</td>\n",
       "      <td>-0.199728</td>\n",
       "      <td>-0.277825</td>\n",
       "    </tr>\n",
       "    <tr>\n",
       "      <th>2020-08</th>\n",
       "      <td>-0.647822</td>\n",
       "      <td>-0.467662</td>\n",
       "      <td>-0.322445</td>\n",
       "      <td>-0.796433</td>\n",
       "    </tr>\n",
       "    <tr>\n",
       "      <th>2020-09</th>\n",
       "      <td>-0.656187</td>\n",
       "      <td>3.178956</td>\n",
       "      <td>0.669563</td>\n",
       "      <td>-0.055565</td>\n",
       "    </tr>\n",
       "    <tr>\n",
       "      <th>2020-10</th>\n",
       "      <td>-0.684070</td>\n",
       "      <td>-0.275101</td>\n",
       "      <td>-1.760312</td>\n",
       "      <td>-0.277825</td>\n",
       "    </tr>\n",
       "    <tr>\n",
       "      <th>2020-11</th>\n",
       "      <td>-0.714742</td>\n",
       "      <td>-0.372585</td>\n",
       "      <td>-0.291552</td>\n",
       "      <td>-0.944606</td>\n",
       "    </tr>\n",
       "    <tr>\n",
       "      <th>2020-12</th>\n",
       "      <td>-0.698012</td>\n",
       "      <td>-0.414707</td>\n",
       "      <td>-1.059768</td>\n",
       "      <td>-0.796433</td>\n",
       "    </tr>\n",
       "  </tbody>\n",
       "</table>\n",
       "</div>"
      ],
      "text/plain": [
       "         Google Search Trend  Sinophobic Comment Count  Average Hate Score  \\\n",
       "2020-01             1.978784                 -0.382213            1.130038   \n",
       "2020-02             0.849511                 -0.352125            1.159093   \n",
       "2020-03             2.062434                  0.633545            0.068731   \n",
       "2020-04             0.040895                 -0.461644           -1.164516   \n",
       "2020-05            -0.525135                 -0.277508            0.004632   \n",
       "2020-06            -0.433120                 -0.393044            1.766264   \n",
       "2020-07            -0.572537                 -0.415911           -0.199728   \n",
       "2020-08            -0.647822                 -0.467662           -0.322445   \n",
       "2020-09            -0.656187                  3.178956            0.669563   \n",
       "2020-10            -0.684070                 -0.275101           -1.760312   \n",
       "2020-11            -0.714742                 -0.372585           -0.291552   \n",
       "2020-12            -0.698012                 -0.414707           -1.059768   \n",
       "\n",
       "         Crime Count  \n",
       "2020-01    -0.870520  \n",
       "2020-02    -1.166867  \n",
       "2020-03     1.870691  \n",
       "2020-04     1.574344  \n",
       "2020-05     1.055737  \n",
       "2020-06     0.685303  \n",
       "2020-07    -0.277825  \n",
       "2020-08    -0.796433  \n",
       "2020-09    -0.055565  \n",
       "2020-10    -0.277825  \n",
       "2020-11    -0.944606  \n",
       "2020-12    -0.796433  "
      ]
     },
     "execution_count": 106,
     "metadata": {},
     "output_type": "execute_result"
    }
   ],
   "source": [
    "google_comment_crime_standardized"
   ]
  },
  {
   "cell_type": "markdown",
   "metadata": {},
   "source": [
    "#### 2.1.1 Google Search Trend Stationary"
   ]
  },
  {
   "cell_type": "code",
   "execution_count": 107,
   "metadata": {},
   "outputs": [
    {
     "name": "stdout",
     "output_type": "stream",
     "text": [
      "Results of Augmented Dickey-Fuller Test:\n",
      "Test Statistic                -2.334751\n",
      "p-value                        0.161005\n",
      "#Lags Used                     4.000000\n",
      "Number of Observations Used    7.000000\n",
      "Critical Value (1%)           -4.938690\n",
      "Critical Value (5%)           -3.477583\n",
      "Critical Value (10%)          -2.843868\n",
      "dtype: float64\n"
     ]
    }
   ],
   "source": [
    "# Standardized\n",
    "adf_test(google_comment_crime_standardized['Google Search Trend'])"
   ]
  },
  {
   "cell_type": "markdown",
   "metadata": {},
   "source": [
    "Google Search Trend: The p-value 0.161005 is greater than the significance level of 0.05, and the ADF statistic is higher than any of the critical values. Fail to reject the null hypothesis and hence the time series is non-stationary."
   ]
  },
  {
   "cell_type": "markdown",
   "metadata": {},
   "source": [
    "#### 2.1.2 YouTube Comment Stationary"
   ]
  },
  {
   "cell_type": "code",
   "execution_count": 109,
   "metadata": {},
   "outputs": [
    {
     "name": "stdout",
     "output_type": "stream",
     "text": [
      "Results of Augmented Dickey-Fuller Test:\n",
      "Test Statistic                 -3.525518\n",
      "p-value                         0.007355\n",
      "#Lags Used                      0.000000\n",
      "Number of Observations Used    11.000000\n",
      "Critical Value (1%)            -4.223238\n",
      "Critical Value (5%)            -3.189369\n",
      "Critical Value (10%)           -2.729839\n",
      "dtype: float64\n"
     ]
    }
   ],
   "source": [
    "adf_test(google_comment_crime_standardized['Sinophobic Comment Count'])"
   ]
  },
  {
   "cell_type": "code",
   "execution_count": 111,
   "metadata": {},
   "outputs": [
    {
     "name": "stdout",
     "output_type": "stream",
     "text": [
      "Results of Augmented Dickey-Fuller Test:\n",
      "Test Statistic                 2.631450\n",
      "p-value                        0.999080\n",
      "#Lags Used                     4.000000\n",
      "Number of Observations Used    7.000000\n",
      "Critical Value (1%)           -4.938690\n",
      "Critical Value (5%)           -3.477583\n",
      "Critical Value (10%)          -2.843868\n",
      "dtype: float64\n"
     ]
    }
   ],
   "source": [
    "adf_test(google_comment_crime_standardized['Average Hate Score'])"
   ]
  },
  {
   "cell_type": "markdown",
   "metadata": {},
   "source": [
    "Sinophobic comment count is stationary, comment hate score is non-stationary"
   ]
  },
  {
   "cell_type": "markdown",
   "metadata": {},
   "source": [
    "#### 2.1.3 FBI Hate Crime Stationary"
   ]
  },
  {
   "cell_type": "code",
   "execution_count": 112,
   "metadata": {},
   "outputs": [
    {
     "name": "stdout",
     "output_type": "stream",
     "text": [
      "Results of Augmented Dickey-Fuller Test:\n",
      "Test Statistic                -1.294867\n",
      "p-value                        0.631517\n",
      "#Lags Used                     3.000000\n",
      "Number of Observations Used    8.000000\n",
      "Critical Value (1%)           -4.665186\n",
      "Critical Value (5%)           -3.367187\n",
      "Critical Value (10%)          -2.802961\n",
      "dtype: float64\n"
     ]
    }
   ],
   "source": [
    "adf_test(google_comment_crime_standardized['Crime Count'])"
   ]
  },
  {
   "cell_type": "markdown",
   "metadata": {},
   "source": [
    "Anti-Asian hate crime count is also non-stationary"
   ]
  },
  {
   "cell_type": "markdown",
   "metadata": {},
   "source": [
    "### 2.1.4 Difference Non-Stationary"
   ]
  },
  {
   "cell_type": "code",
   "execution_count": 114,
   "metadata": {},
   "outputs": [],
   "source": [
    "comment_count_diff = hateComments_monthly_counts.diff().dropna()\n",
    "comment_score_diff = comments_score_aggregated.diff().dropna()\n",
    "google_diff = google_monthly.diff().dropna()\n",
    "crime_diff = asian_monthly_counts.diff().dropna()"
   ]
  },
  {
   "cell_type": "code",
   "execution_count": 115,
   "metadata": {},
   "outputs": [
    {
     "name": "stdout",
     "output_type": "stream",
     "text": [
      "Results of Augmented Dickey-Fuller Test:\n",
      "Test Statistic                 -4.894721\n",
      "p-value                         0.000036\n",
      "#Lags Used                      0.000000\n",
      "Number of Observations Used    10.000000\n",
      "Critical Value (1%)            -4.331573\n",
      "Critical Value (5%)            -3.232950\n",
      "Critical Value (10%)           -2.748700\n",
      "dtype: float64\n"
     ]
    }
   ],
   "source": [
    "adf_test(comment_count_diff)"
   ]
  },
  {
   "cell_type": "code",
   "execution_count": 116,
   "metadata": {},
   "outputs": [
    {
     "name": "stdout",
     "output_type": "stream",
     "text": [
      "Results of Augmented Dickey-Fuller Test:\n",
      "Test Statistic                -3.837260\n",
      "p-value                        0.002548\n",
      "#Lags Used                     1.000000\n",
      "Number of Observations Used    9.000000\n",
      "Critical Value (1%)           -4.473135\n",
      "Critical Value (5%)           -3.289881\n",
      "Critical Value (10%)          -2.772382\n",
      "dtype: float64\n"
     ]
    }
   ],
   "source": [
    "adf_test(comment_score_diff)"
   ]
  },
  {
   "cell_type": "code",
   "execution_count": 117,
   "metadata": {},
   "outputs": [
    {
     "name": "stdout",
     "output_type": "stream",
     "text": [
      "Results of Augmented Dickey-Fuller Test:\n",
      "Test Statistic                -34.529501\n",
      "p-value                         0.000000\n",
      "#Lags Used                      2.000000\n",
      "Number of Observations Used     8.000000\n",
      "Critical Value (1%)            -4.665186\n",
      "Critical Value (5%)            -3.367187\n",
      "Critical Value (10%)           -2.802961\n",
      "dtype: float64\n"
     ]
    }
   ],
   "source": [
    "adf_test(google_diff)"
   ]
  },
  {
   "cell_type": "code",
   "execution_count": 118,
   "metadata": {},
   "outputs": [
    {
     "name": "stdout",
     "output_type": "stream",
     "text": [
      "Results of Augmented Dickey-Fuller Test:\n",
      "Test Statistic                -3.333357\n",
      "p-value                        0.013452\n",
      "#Lags Used                     3.000000\n",
      "Number of Observations Used    7.000000\n",
      "Critical Value (1%)           -4.938690\n",
      "Critical Value (5%)           -3.477583\n",
      "Critical Value (10%)          -2.843868\n",
      "dtype: float64\n"
     ]
    }
   ],
   "source": [
    "adf_test(crime_diff)"
   ]
  },
  {
   "cell_type": "code",
   "execution_count": 119,
   "metadata": {},
   "outputs": [],
   "source": [
    "diff_combined = pd.concat([comment_count_diff, comment_score_diff, google_diff, crime_diff], axis=1)\n",
    "diff_combined = diff_combined.set_axis(['comment count', 'comment score', 'google', 'crime'], axis=1)"
   ]
  },
  {
   "cell_type": "markdown",
   "metadata": {},
   "source": [
    "### 2.2 Select Lag Length and Build the VAR model"
   ]
  },
  {
   "cell_type": "code",
   "execution_count": 122,
   "metadata": {},
   "outputs": [
    {
     "name": "stdout",
     "output_type": "stream",
     "text": [
      "{'aic': 1, 'bic': 0, 'hqic': 1, 'fpe': 1}\n"
     ]
    }
   ],
   "source": [
    "from statsmodels.tsa.api import VAR\n",
    "\n",
    "model = VAR(diff_combined)\n",
    "optimal_order = model.select_order()\n",
    "print(optimal_order.selected_orders)"
   ]
  },
  {
   "cell_type": "code",
   "execution_count": 123,
   "metadata": {},
   "outputs": [
    {
     "data": {
      "text/html": [
       "<table class=\"simpletable\">\n",
       "<caption>VAR Order Selection (* highlights the minimums)</caption>\n",
       "<tr>\n",
       "  <td></td>      <th>AIC</th>         <th>BIC</th>         <th>FPE</th>        <th>HQIC</th>    \n",
       "</tr>\n",
       "<tr>\n",
       "  <th>0</th> <td>     19.55</td>  <td>     19.67*</td> <td> 3.112e+08</td>  <td>     19.42</td> \n",
       "</tr>\n",
       "<tr>\n",
       "  <th>1</th> <td>     19.14*</td> <td>     19.74</td>  <td> 3.044e+08*</td> <td>     18.48*</td>\n",
       "</tr>\n",
       "</table>"
      ],
      "text/latex": [
       "\\begin{center}\n",
       "\\begin{tabular}{lcccc}\n",
       "\\toprule\n",
       "           & \\textbf{AIC} & \\textbf{BIC} & \\textbf{FPE} & \\textbf{HQIC}  \\\\\n",
       "\\midrule\n",
       "\\textbf{0} &       19.55  &      19.67*  &   3.112e+08  &        19.42   \\\\\n",
       "\\textbf{1} &      19.14*  &       19.74  &  3.044e+08*  &       18.48*   \\\\\n",
       "\\bottomrule\n",
       "\\end{tabular}\n",
       "%\\caption{VAR Order Selection (* highlights the minimums)}\n",
       "\\end{center}"
      ],
      "text/plain": [
       "<class 'statsmodels.iolib.table.SimpleTable'>"
      ]
     },
     "execution_count": 123,
     "metadata": {},
     "output_type": "execute_result"
    }
   ],
   "source": [
    "optimal_order.summary()"
   ]
  },
  {
   "cell_type": "code",
   "execution_count": 125,
   "metadata": {},
   "outputs": [],
   "source": [
    "# Lag length=1, fit the VAR model\n",
    "var_results = model.fit(1)"
   ]
  },
  {
   "cell_type": "markdown",
   "metadata": {},
   "source": [
    "### 2.4 Test for Residual Autocorrelation"
   ]
  },
  {
   "cell_type": "code",
   "execution_count": 126,
   "metadata": {},
   "outputs": [
    {
     "name": "stdout",
     "output_type": "stream",
     "text": [
      "  Summary of Regression Results   \n",
      "==================================\n",
      "Model:                         VAR\n",
      "Method:                        OLS\n",
      "Date:           Wed, 20, Mar, 2024\n",
      "Time:                     09:47:27\n",
      "--------------------------------------------------------------------\n",
      "No. of Equations:         4.00000    BIC:                    19.7447\n",
      "Nobs:                     10.0000    HQIC:                   18.4756\n",
      "Log likelihood:          -132.455    FPE:                3.04432e+08\n",
      "AIC:                      19.1395    Det(Omega_mle):     6.01346e+07\n",
      "--------------------------------------------------------------------\n",
      "Results for equation comment count\n",
      "===================================================================================\n",
      "                      coefficient       std. error           t-stat            prob\n",
      "-----------------------------------------------------------------------------------\n",
      "const                   24.222413       546.087734            0.044           0.965\n",
      "L1.comment count        -0.438946         0.505647           -0.868           0.385\n",
      "L1.comment score      1321.342499      8914.292888            0.148           0.882\n",
      "L1.google                4.546099        43.294567            0.105           0.916\n",
      "L1.crime               -27.006193        48.010086           -0.563           0.574\n",
      "===================================================================================\n",
      "\n",
      "Results for equation comment score\n",
      "===================================================================================\n",
      "                      coefficient       std. error           t-stat            prob\n",
      "-----------------------------------------------------------------------------------\n",
      "const                   -0.017903         0.024616           -0.727           0.467\n",
      "L1.comment count        -0.000026         0.000023           -1.135           0.257\n",
      "L1.comment score        -0.197240         0.401836           -0.491           0.624\n",
      "L1.google               -0.000995         0.001952           -0.510           0.610\n",
      "L1.crime                -0.000589         0.002164           -0.272           0.786\n",
      "===================================================================================\n",
      "\n",
      "Results for equation google\n",
      "===================================================================================\n",
      "                      coefficient       std. error           t-stat            prob\n",
      "-----------------------------------------------------------------------------------\n",
      "const                   -3.391576         3.942956           -0.860           0.390\n",
      "L1.comment count         0.001490         0.003651            0.408           0.683\n",
      "L1.comment score        18.342594        64.364501            0.285           0.776\n",
      "L1.google               -0.142060         0.312603           -0.454           0.650\n",
      "L1.crime                -0.654723         0.346651           -1.889           0.059\n",
      "===================================================================================\n",
      "\n",
      "Results for equation crime\n",
      "===================================================================================\n",
      "                      coefficient       std. error           t-stat            prob\n",
      "-----------------------------------------------------------------------------------\n",
      "const                   -1.197771         6.716481           -0.178           0.858\n",
      "L1.comment count         0.001503         0.006219            0.242           0.809\n",
      "L1.comment score        10.332825       109.639305            0.094           0.925\n",
      "L1.google               -0.368563         0.532492           -0.692           0.489\n",
      "L1.crime                 0.068430         0.590489            0.116           0.908\n",
      "===================================================================================\n",
      "\n",
      "Correlation matrix of residuals\n",
      "                 comment count  comment score    google     crime\n",
      "comment count         1.000000       0.286898  0.017555  0.521794\n",
      "comment score         0.286898       1.000000 -0.315918 -0.192964\n",
      "google                0.017555      -0.315918  1.000000  0.789131\n",
      "crime                 0.521794      -0.192964  0.789131  1.000000\n",
      "\n",
      "\n",
      "\n"
     ]
    },
    {
     "data": {
      "image/png": "[encoded data removed]",
      "text/plain": [
       "<Figure size 720x720 with 16 Axes>"
      ]
     },
     "execution_count": 126,
     "metadata": {},
     "output_type": "execute_result"
    },
    {
     "data": {
      "image/png": "[encoded data removed]",
      "text/plain": [
       "<Figure size 720x720 with 16 Axes>"
      ]
     },
     "metadata": {
      "needs_background": "light"
     },
     "output_type": "display_data"
    }
   ],
   "source": [
    "print(var_results.summary())\n",
    "var_results.plot_acorr()"
   ]
  },
  {
   "cell_type": "code",
   "execution_count": null,
   "metadata": {},
   "outputs": [],
   "source": [
    "results = grangercausalitytests(resid[['twitter', 'google_old']], maxlag=15, verbose=False)\n",
    "p_values_tgo = []\n",
    "\n",
    "for lag, test_results in results.items():\n",
    "    print(f\"Lag {lag}\")\n",
    "    print(f\"\\tF-Statistic: {test_results[0]['params_ftest'][0]:.4f}, p-value: {test_results[0]['params_ftest'][1]:.4f}\")\n",
    "    p_values_tgo.append([lag, test_results[0]['params_ftest'][1]])\n",
    "\n",
    "print('twitter --> old google: ',p_values_tgo)"
   ]
  },
  {
   "cell_type": "markdown",
   "metadata": {},
   "source": [
    "### 2.5 Assess Statbility of VAR"
   ]
  },
  {
   "cell_type": "code",
   "execution_count": null,
   "metadata": {},
   "outputs": [],
   "source": []
  },
  {
   "cell_type": "markdown",
   "metadata": {},
   "source": [
    "### 2.6 Evaluating Granger Causality"
   ]
  },
  {
   "cell_type": "code",
   "execution_count": null,
   "metadata": {},
   "outputs": [],
   "source": []
  }
 ],
 "metadata": {
  "kernelspec": {
   "display_name": "base",
   "language": "python",
   "name": "python3"
  },
  "language_info": {
   "codemirror_mode": {
    "name": "ipython",
    "version": 3
   },
   "file_extension": ".py",
   "mimetype": "text/x-python",
   "name": "python",
   "nbconvert_exporter": "python",
   "pygments_lexer": "ipython3",
   "version": "3.9.12"
  }
 },
 "nbformat": 4,
 "nbformat_minor": 2
}
